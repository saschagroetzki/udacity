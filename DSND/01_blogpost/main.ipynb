{
 "cells": [
  {
   "cell_type": "code",
   "execution_count": 2,
   "metadata": {},
   "outputs": [],
   "source": [
    "import pandas as pd\n",
    "import numpy as np\n",
    "import matplotlib.pyplot as plt\n",
    "import datetime\n",
    "\n",
    "import plotly.express as px\n",
    "import plotly.graph_objects as go\n",
    "from plotly.subplots import make_subplots\n",
    "import chart_studio\n",
    "import chart_studio.plotly as py\n",
    "import chart_studio.tools as tls\n",
    "\n",
    "import json\n",
    "\n",
    "from sklearn.linear_model import LinearRegression\n",
    "from sklearn.model_selection import train_test_split\n",
    "from sklearn.metrics import r2_score, mean_squared_error\n",
    "\n",
    "import yaml\n",
    "\n",
    "import utils\n",
    "\n",
    "# show all columns of a pandas dataframe\n",
    "pd.set_option('display.max_columns', None)"
   ]
  },
  {
   "cell_type": "code",
   "execution_count": 3,
   "metadata": {},
   "outputs": [],
   "source": [
    "# Opening yaml files with relevant config for Plolty Chart Studio\n",
    "# Change your personal credentials in this file\n",
    "with open(\"config.yaml\") as f:\n",
    "    cfg = yaml.load(f, Loader=yaml.FullLoader)\n",
    "\n",
    "# define the settings for chart studio\n",
    "chart_studio.tools.set_credentials_file(username=cfg['user'],\n",
    "                                        api_key=cfg['api_key'])"
   ]
  },
  {
   "cell_type": "code",
   "execution_count": 4,
   "metadata": {},
   "outputs": [],
   "source": [
    "# Opening JSON file\n",
    "f = open('data/wa_washington_zip_codes_geo.min.json')\n",
    " \n",
    "# returns JSON object as \n",
    "# a dictionary\n",
    "geo_wa = json.load(f)\n"
   ]
  },
  {
   "cell_type": "code",
   "execution_count": 5,
   "metadata": {},
   "outputs": [],
   "source": [
    "# Define some attributes concerning plotting\n",
    "pub_chart_studio = True"
   ]
  },
  {
   "cell_type": "markdown",
   "metadata": {},
   "source": [
    "### Import & clean the data\n",
    "\n",
    "The dataset shows Airbnb activity in Seattle, has been provided by Airbnb and can be downloaded on Kaggle: <br> \n",
    "https://www.kaggle.com/datasets/airbnb/seattle/data <br>\n",
    "\n",
    "The dataset contains the following:\n",
    "- Calendar, including listing id and the price and availability for that day (calender.csv)\n",
    "- Listings, including full descriptions and average review score (listings.csv)\n",
    "- Reviews, including unique id for each reviewer and detailed comments (reviews.csv)"
   ]
  },
  {
   "cell_type": "code",
   "execution_count": 6,
   "metadata": {},
   "outputs": [],
   "source": [
    "# Import the datasets\n",
    "df_cal = pd.read_csv(\"data/calendar.csv\")\n",
    "df_list = pd.read_csv(\"data/listings.csv\")\n",
    "df_rev = pd.read_csv(\"data/reviews.csv\")"
   ]
  },
  {
   "cell_type": "markdown",
   "metadata": {},
   "source": [
    "---\n",
    "Check & modify the dataframe with the calendar"
   ]
  },
  {
   "cell_type": "code",
   "execution_count": 7,
   "metadata": {},
   "outputs": [
    {
     "data": {
      "text/html": [
       "<div>\n",
       "<style scoped>\n",
       "    .dataframe tbody tr th:only-of-type {\n",
       "        vertical-align: middle;\n",
       "    }\n",
       "\n",
       "    .dataframe tbody tr th {\n",
       "        vertical-align: top;\n",
       "    }\n",
       "\n",
       "    .dataframe thead th {\n",
       "        text-align: right;\n",
       "    }\n",
       "</style>\n",
       "<table border=\"1\" class=\"dataframe\">\n",
       "  <thead>\n",
       "    <tr style=\"text-align: right;\">\n",
       "      <th></th>\n",
       "      <th>listing_id</th>\n",
       "      <th>date</th>\n",
       "      <th>available</th>\n",
       "      <th>price</th>\n",
       "    </tr>\n",
       "  </thead>\n",
       "  <tbody>\n",
       "    <tr>\n",
       "      <th>0</th>\n",
       "      <td>241032</td>\n",
       "      <td>2016-01-04</td>\n",
       "      <td>t</td>\n",
       "      <td>$85.00</td>\n",
       "    </tr>\n",
       "    <tr>\n",
       "      <th>1</th>\n",
       "      <td>241032</td>\n",
       "      <td>2016-01-05</td>\n",
       "      <td>t</td>\n",
       "      <td>$85.00</td>\n",
       "    </tr>\n",
       "    <tr>\n",
       "      <th>2</th>\n",
       "      <td>241032</td>\n",
       "      <td>2016-01-06</td>\n",
       "      <td>f</td>\n",
       "      <td>NaN</td>\n",
       "    </tr>\n",
       "    <tr>\n",
       "      <th>3</th>\n",
       "      <td>241032</td>\n",
       "      <td>2016-01-07</td>\n",
       "      <td>f</td>\n",
       "      <td>NaN</td>\n",
       "    </tr>\n",
       "    <tr>\n",
       "      <th>4</th>\n",
       "      <td>241032</td>\n",
       "      <td>2016-01-08</td>\n",
       "      <td>f</td>\n",
       "      <td>NaN</td>\n",
       "    </tr>\n",
       "  </tbody>\n",
       "</table>\n",
       "</div>"
      ],
      "text/plain": [
       "   listing_id        date available   price\n",
       "0      241032  2016-01-04         t  $85.00\n",
       "1      241032  2016-01-05         t  $85.00\n",
       "2      241032  2016-01-06         f     NaN\n",
       "3      241032  2016-01-07         f     NaN\n",
       "4      241032  2016-01-08         f     NaN"
      ]
     },
     "execution_count": 7,
     "metadata": {},
     "output_type": "execute_result"
    }
   ],
   "source": [
    "df_cal.head()"
   ]
  },
  {
   "cell_type": "code",
   "execution_count": 8,
   "metadata": {},
   "outputs": [
    {
     "name": "stdout",
     "output_type": "stream",
     "text": [
      "<class 'pandas.core.frame.DataFrame'>\n",
      "RangeIndex: 1393570 entries, 0 to 1393569\n",
      "Data columns (total 4 columns):\n",
      " #   Column      Non-Null Count    Dtype \n",
      "---  ------      --------------    ----- \n",
      " 0   listing_id  1393570 non-null  int64 \n",
      " 1   date        1393570 non-null  object\n",
      " 2   available   1393570 non-null  object\n",
      " 3   price       934542 non-null   object\n",
      "dtypes: int64(1), object(3)\n",
      "memory usage: 42.5+ MB\n"
     ]
    }
   ],
   "source": [
    "df_cal.info()"
   ]
  },
  {
   "cell_type": "code",
   "execution_count": 9,
   "metadata": {},
   "outputs": [],
   "source": [
    "# change column date from str to datetime\n",
    "df_cal['date'] = pd.to_datetime(df_cal.date)\n",
    "\n",
    "# get the month\n",
    "df_cal['month'] = df_cal['date'].apply(lambda x: x.month)\n",
    "\n",
    "# get the month_name\n",
    "df_cal['month_name'] = df_cal['date'].apply(lambda x: x.month_name())\n",
    "\n",
    "# calculate the week\n",
    "df_cal['week'] = df_cal['date'].apply(lambda x: x.isocalendar()[1])\n",
    "\n",
    "# change column available from string to boolean\n",
    "df_cal['available'] = df_cal['available'].apply(lambda x: True if x == 't' else False)\n",
    "\n",
    "# calculate a new column without currency sign\n",
    "df_cal['price_usd_cal'] = df_cal['price'].apply(lambda x: x[1:] if isinstance(x, str) else x)\n",
    "\n",
    "# remove thousand separator and convert column to float\n",
    "df_cal['price_usd_cal'] = df_cal['price_usd_cal'].apply(lambda x: x.replace(',', '') if isinstance(x, str) else x).astype(float)\n",
    "\n",
    "# drop column price\n",
    "df_cal = df_cal.drop(columns='price')"
   ]
  },
  {
   "cell_type": "code",
   "execution_count": 10,
   "metadata": {},
   "outputs": [
    {
     "name": "stdout",
     "output_type": "stream",
     "text": [
      "<class 'pandas.core.frame.DataFrame'>\n",
      "RangeIndex: 1393570 entries, 0 to 1393569\n",
      "Data columns (total 7 columns):\n",
      " #   Column         Non-Null Count    Dtype         \n",
      "---  ------         --------------    -----         \n",
      " 0   listing_id     1393570 non-null  int64         \n",
      " 1   date           1393570 non-null  datetime64[ns]\n",
      " 2   available      1393570 non-null  bool          \n",
      " 3   month          1393570 non-null  int64         \n",
      " 4   month_name     1393570 non-null  object        \n",
      " 5   week           1393570 non-null  int64         \n",
      " 6   price_usd_cal  934542 non-null   float64       \n",
      "dtypes: bool(1), datetime64[ns](1), float64(1), int64(3), object(1)\n",
      "memory usage: 65.1+ MB\n"
     ]
    }
   ],
   "source": [
    "df_cal.info()"
   ]
  },
  {
   "cell_type": "code",
   "execution_count": 11,
   "metadata": {},
   "outputs": [
    {
     "data": {
      "text/html": [
       "<div>\n",
       "<style scoped>\n",
       "    .dataframe tbody tr th:only-of-type {\n",
       "        vertical-align: middle;\n",
       "    }\n",
       "\n",
       "    .dataframe tbody tr th {\n",
       "        vertical-align: top;\n",
       "    }\n",
       "\n",
       "    .dataframe thead th {\n",
       "        text-align: right;\n",
       "    }\n",
       "</style>\n",
       "<table border=\"1\" class=\"dataframe\">\n",
       "  <thead>\n",
       "    <tr style=\"text-align: right;\">\n",
       "      <th></th>\n",
       "      <th>listing_id</th>\n",
       "      <th>date</th>\n",
       "      <th>month</th>\n",
       "      <th>week</th>\n",
       "      <th>price_usd_cal</th>\n",
       "    </tr>\n",
       "  </thead>\n",
       "  <tbody>\n",
       "    <tr>\n",
       "      <th>count</th>\n",
       "      <td>1.393570e+06</td>\n",
       "      <td>1393570</td>\n",
       "      <td>1.393570e+06</td>\n",
       "      <td>1.393570e+06</td>\n",
       "      <td>934542.000000</td>\n",
       "    </tr>\n",
       "    <tr>\n",
       "      <th>mean</th>\n",
       "      <td>5.550111e+06</td>\n",
       "      <td>2016-07-04 00:00:00.000000256</td>\n",
       "      <td>6.528767e+00</td>\n",
       "      <td>2.643014e+01</td>\n",
       "      <td>137.944859</td>\n",
       "    </tr>\n",
       "    <tr>\n",
       "      <th>min</th>\n",
       "      <td>3.335000e+03</td>\n",
       "      <td>2016-01-04 00:00:00</td>\n",
       "      <td>1.000000e+00</td>\n",
       "      <td>1.000000e+00</td>\n",
       "      <td>10.000000</td>\n",
       "    </tr>\n",
       "    <tr>\n",
       "      <th>25%</th>\n",
       "      <td>3.258213e+06</td>\n",
       "      <td>2016-04-04 00:00:00</td>\n",
       "      <td>4.000000e+00</td>\n",
       "      <td>1.300000e+01</td>\n",
       "      <td>75.000000</td>\n",
       "    </tr>\n",
       "    <tr>\n",
       "      <th>50%</th>\n",
       "      <td>6.118244e+06</td>\n",
       "      <td>2016-07-04 00:00:00</td>\n",
       "      <td>7.000000e+00</td>\n",
       "      <td>2.600000e+01</td>\n",
       "      <td>109.000000</td>\n",
       "    </tr>\n",
       "    <tr>\n",
       "      <th>75%</th>\n",
       "      <td>8.035212e+06</td>\n",
       "      <td>2016-10-03 00:00:00</td>\n",
       "      <td>1.000000e+01</td>\n",
       "      <td>3.900000e+01</td>\n",
       "      <td>160.000000</td>\n",
       "    </tr>\n",
       "    <tr>\n",
       "      <th>max</th>\n",
       "      <td>1.034016e+07</td>\n",
       "      <td>2017-01-02 00:00:00</td>\n",
       "      <td>1.200000e+01</td>\n",
       "      <td>5.200000e+01</td>\n",
       "      <td>1650.000000</td>\n",
       "    </tr>\n",
       "    <tr>\n",
       "      <th>std</th>\n",
       "      <td>2.962274e+06</td>\n",
       "      <td>NaN</td>\n",
       "      <td>3.443855e+00</td>\n",
       "      <td>1.504692e+01</td>\n",
       "      <td>105.062870</td>\n",
       "    </tr>\n",
       "  </tbody>\n",
       "</table>\n",
       "</div>"
      ],
      "text/plain": [
       "         listing_id                           date         month  \\\n",
       "count  1.393570e+06                        1393570  1.393570e+06   \n",
       "mean   5.550111e+06  2016-07-04 00:00:00.000000256  6.528767e+00   \n",
       "min    3.335000e+03            2016-01-04 00:00:00  1.000000e+00   \n",
       "25%    3.258213e+06            2016-04-04 00:00:00  4.000000e+00   \n",
       "50%    6.118244e+06            2016-07-04 00:00:00  7.000000e+00   \n",
       "75%    8.035212e+06            2016-10-03 00:00:00  1.000000e+01   \n",
       "max    1.034016e+07            2017-01-02 00:00:00  1.200000e+01   \n",
       "std    2.962274e+06                            NaN  3.443855e+00   \n",
       "\n",
       "               week  price_usd_cal  \n",
       "count  1.393570e+06  934542.000000  \n",
       "mean   2.643014e+01     137.944859  \n",
       "min    1.000000e+00      10.000000  \n",
       "25%    1.300000e+01      75.000000  \n",
       "50%    2.600000e+01     109.000000  \n",
       "75%    3.900000e+01     160.000000  \n",
       "max    5.200000e+01    1650.000000  \n",
       "std    1.504692e+01     105.062870  "
      ]
     },
     "execution_count": 11,
     "metadata": {},
     "output_type": "execute_result"
    }
   ],
   "source": [
    "df_cal.describe()"
   ]
  },
  {
   "cell_type": "code",
   "execution_count": 12,
   "metadata": {},
   "outputs": [
    {
     "data": {
      "text/plain": [
       "(1393570, 7)"
      ]
     },
     "execution_count": 12,
     "metadata": {},
     "output_type": "execute_result"
    }
   ],
   "source": [
    "df_cal.shape"
   ]
  },
  {
   "cell_type": "markdown",
   "metadata": {},
   "source": [
    "---\n",
    "Check & modify the dataframe with the listings"
   ]
  },
  {
   "cell_type": "code",
   "execution_count": 13,
   "metadata": {},
   "outputs": [
    {
     "data": {
      "text/html": [
       "<div>\n",
       "<style scoped>\n",
       "    .dataframe tbody tr th:only-of-type {\n",
       "        vertical-align: middle;\n",
       "    }\n",
       "\n",
       "    .dataframe tbody tr th {\n",
       "        vertical-align: top;\n",
       "    }\n",
       "\n",
       "    .dataframe thead th {\n",
       "        text-align: right;\n",
       "    }\n",
       "</style>\n",
       "<table border=\"1\" class=\"dataframe\">\n",
       "  <thead>\n",
       "    <tr style=\"text-align: right;\">\n",
       "      <th></th>\n",
       "      <th>id</th>\n",
       "      <th>listing_url</th>\n",
       "      <th>scrape_id</th>\n",
       "      <th>last_scraped</th>\n",
       "      <th>name</th>\n",
       "      <th>summary</th>\n",
       "      <th>space</th>\n",
       "      <th>description</th>\n",
       "      <th>experiences_offered</th>\n",
       "      <th>neighborhood_overview</th>\n",
       "      <th>notes</th>\n",
       "      <th>transit</th>\n",
       "      <th>thumbnail_url</th>\n",
       "      <th>medium_url</th>\n",
       "      <th>picture_url</th>\n",
       "      <th>xl_picture_url</th>\n",
       "      <th>host_id</th>\n",
       "      <th>host_url</th>\n",
       "      <th>host_name</th>\n",
       "      <th>host_since</th>\n",
       "      <th>host_location</th>\n",
       "      <th>host_about</th>\n",
       "      <th>host_response_time</th>\n",
       "      <th>host_response_rate</th>\n",
       "      <th>host_acceptance_rate</th>\n",
       "      <th>host_is_superhost</th>\n",
       "      <th>host_thumbnail_url</th>\n",
       "      <th>host_picture_url</th>\n",
       "      <th>host_neighbourhood</th>\n",
       "      <th>host_listings_count</th>\n",
       "      <th>host_total_listings_count</th>\n",
       "      <th>host_verifications</th>\n",
       "      <th>host_has_profile_pic</th>\n",
       "      <th>host_identity_verified</th>\n",
       "      <th>street</th>\n",
       "      <th>neighbourhood</th>\n",
       "      <th>neighbourhood_cleansed</th>\n",
       "      <th>neighbourhood_group_cleansed</th>\n",
       "      <th>city</th>\n",
       "      <th>state</th>\n",
       "      <th>zipcode</th>\n",
       "      <th>market</th>\n",
       "      <th>smart_location</th>\n",
       "      <th>country_code</th>\n",
       "      <th>country</th>\n",
       "      <th>latitude</th>\n",
       "      <th>longitude</th>\n",
       "      <th>is_location_exact</th>\n",
       "      <th>property_type</th>\n",
       "      <th>room_type</th>\n",
       "      <th>accommodates</th>\n",
       "      <th>bathrooms</th>\n",
       "      <th>bedrooms</th>\n",
       "      <th>beds</th>\n",
       "      <th>bed_type</th>\n",
       "      <th>amenities</th>\n",
       "      <th>square_feet</th>\n",
       "      <th>price</th>\n",
       "      <th>weekly_price</th>\n",
       "      <th>monthly_price</th>\n",
       "      <th>security_deposit</th>\n",
       "      <th>cleaning_fee</th>\n",
       "      <th>guests_included</th>\n",
       "      <th>extra_people</th>\n",
       "      <th>minimum_nights</th>\n",
       "      <th>maximum_nights</th>\n",
       "      <th>calendar_updated</th>\n",
       "      <th>has_availability</th>\n",
       "      <th>availability_30</th>\n",
       "      <th>availability_60</th>\n",
       "      <th>availability_90</th>\n",
       "      <th>availability_365</th>\n",
       "      <th>calendar_last_scraped</th>\n",
       "      <th>number_of_reviews</th>\n",
       "      <th>first_review</th>\n",
       "      <th>last_review</th>\n",
       "      <th>review_scores_rating</th>\n",
       "      <th>review_scores_accuracy</th>\n",
       "      <th>review_scores_cleanliness</th>\n",
       "      <th>review_scores_checkin</th>\n",
       "      <th>review_scores_communication</th>\n",
       "      <th>review_scores_location</th>\n",
       "      <th>review_scores_value</th>\n",
       "      <th>requires_license</th>\n",
       "      <th>license</th>\n",
       "      <th>jurisdiction_names</th>\n",
       "      <th>instant_bookable</th>\n",
       "      <th>cancellation_policy</th>\n",
       "      <th>require_guest_profile_picture</th>\n",
       "      <th>require_guest_phone_verification</th>\n",
       "      <th>calculated_host_listings_count</th>\n",
       "      <th>reviews_per_month</th>\n",
       "    </tr>\n",
       "  </thead>\n",
       "  <tbody>\n",
       "    <tr>\n",
       "      <th>0</th>\n",
       "      <td>241032</td>\n",
       "      <td>https://www.airbnb.com/rooms/241032</td>\n",
       "      <td>20160104002432</td>\n",
       "      <td>2016-01-04</td>\n",
       "      <td>Stylish Queen Anne Apartment</td>\n",
       "      <td>NaN</td>\n",
       "      <td>Make your self at home in this charming one-be...</td>\n",
       "      <td>Make your self at home in this charming one-be...</td>\n",
       "      <td>none</td>\n",
       "      <td>NaN</td>\n",
       "      <td>NaN</td>\n",
       "      <td>NaN</td>\n",
       "      <td>NaN</td>\n",
       "      <td>NaN</td>\n",
       "      <td>https://a1.muscache.com/ac/pictures/67560560/c...</td>\n",
       "      <td>NaN</td>\n",
       "      <td>956883</td>\n",
       "      <td>https://www.airbnb.com/users/show/956883</td>\n",
       "      <td>Maija</td>\n",
       "      <td>2011-08-11</td>\n",
       "      <td>Seattle, Washington, United States</td>\n",
       "      <td>I am an artist, interior designer, and run a s...</td>\n",
       "      <td>within a few hours</td>\n",
       "      <td>96%</td>\n",
       "      <td>100%</td>\n",
       "      <td>f</td>\n",
       "      <td>https://a0.muscache.com/ac/users/956883/profil...</td>\n",
       "      <td>https://a0.muscache.com/ac/users/956883/profil...</td>\n",
       "      <td>Queen Anne</td>\n",
       "      <td>3.0</td>\n",
       "      <td>3.0</td>\n",
       "      <td>['email', 'phone', 'reviews', 'kba']</td>\n",
       "      <td>t</td>\n",
       "      <td>t</td>\n",
       "      <td>Gilman Dr W, Seattle, WA 98119, United States</td>\n",
       "      <td>Queen Anne</td>\n",
       "      <td>West Queen Anne</td>\n",
       "      <td>Queen Anne</td>\n",
       "      <td>Seattle</td>\n",
       "      <td>WA</td>\n",
       "      <td>98119</td>\n",
       "      <td>Seattle</td>\n",
       "      <td>Seattle, WA</td>\n",
       "      <td>US</td>\n",
       "      <td>United States</td>\n",
       "      <td>47.636289</td>\n",
       "      <td>-122.371025</td>\n",
       "      <td>t</td>\n",
       "      <td>Apartment</td>\n",
       "      <td>Entire home/apt</td>\n",
       "      <td>4</td>\n",
       "      <td>1.0</td>\n",
       "      <td>1.0</td>\n",
       "      <td>1.0</td>\n",
       "      <td>Real Bed</td>\n",
       "      <td>{TV,\"Cable TV\",Internet,\"Wireless Internet\",\"A...</td>\n",
       "      <td>NaN</td>\n",
       "      <td>$85.00</td>\n",
       "      <td>NaN</td>\n",
       "      <td>NaN</td>\n",
       "      <td>NaN</td>\n",
       "      <td>NaN</td>\n",
       "      <td>2</td>\n",
       "      <td>$5.00</td>\n",
       "      <td>1</td>\n",
       "      <td>365</td>\n",
       "      <td>4 weeks ago</td>\n",
       "      <td>t</td>\n",
       "      <td>14</td>\n",
       "      <td>41</td>\n",
       "      <td>71</td>\n",
       "      <td>346</td>\n",
       "      <td>2016-01-04</td>\n",
       "      <td>207</td>\n",
       "      <td>2011-11-01</td>\n",
       "      <td>2016-01-02</td>\n",
       "      <td>95.0</td>\n",
       "      <td>10.0</td>\n",
       "      <td>10.0</td>\n",
       "      <td>10.0</td>\n",
       "      <td>10.0</td>\n",
       "      <td>9.0</td>\n",
       "      <td>10.0</td>\n",
       "      <td>f</td>\n",
       "      <td>NaN</td>\n",
       "      <td>WASHINGTON</td>\n",
       "      <td>f</td>\n",
       "      <td>moderate</td>\n",
       "      <td>f</td>\n",
       "      <td>f</td>\n",
       "      <td>2</td>\n",
       "      <td>4.07</td>\n",
       "    </tr>\n",
       "    <tr>\n",
       "      <th>1</th>\n",
       "      <td>953595</td>\n",
       "      <td>https://www.airbnb.com/rooms/953595</td>\n",
       "      <td>20160104002432</td>\n",
       "      <td>2016-01-04</td>\n",
       "      <td>Bright &amp; Airy Queen Anne Apartment</td>\n",
       "      <td>Chemically sensitive? We've removed the irrita...</td>\n",
       "      <td>Beautiful, hypoallergenic apartment in an extr...</td>\n",
       "      <td>Chemically sensitive? We've removed the irrita...</td>\n",
       "      <td>none</td>\n",
       "      <td>Queen Anne is a wonderful, truly functional vi...</td>\n",
       "      <td>What's up with the free pillows?  Our home was...</td>\n",
       "      <td>Convenient bus stops are just down the block, ...</td>\n",
       "      <td>https://a0.muscache.com/ac/pictures/14409893/f...</td>\n",
       "      <td>https://a0.muscache.com/im/pictures/14409893/f...</td>\n",
       "      <td>https://a0.muscache.com/ac/pictures/14409893/f...</td>\n",
       "      <td>https://a0.muscache.com/ac/pictures/14409893/f...</td>\n",
       "      <td>5177328</td>\n",
       "      <td>https://www.airbnb.com/users/show/5177328</td>\n",
       "      <td>Andrea</td>\n",
       "      <td>2013-02-21</td>\n",
       "      <td>Seattle, Washington, United States</td>\n",
       "      <td>Living east coast/left coast/overseas.  Time i...</td>\n",
       "      <td>within an hour</td>\n",
       "      <td>98%</td>\n",
       "      <td>100%</td>\n",
       "      <td>t</td>\n",
       "      <td>https://a0.muscache.com/ac/users/5177328/profi...</td>\n",
       "      <td>https://a0.muscache.com/ac/users/5177328/profi...</td>\n",
       "      <td>Queen Anne</td>\n",
       "      <td>6.0</td>\n",
       "      <td>6.0</td>\n",
       "      <td>['email', 'phone', 'facebook', 'linkedin', 're...</td>\n",
       "      <td>t</td>\n",
       "      <td>t</td>\n",
       "      <td>7th Avenue West, Seattle, WA 98119, United States</td>\n",
       "      <td>Queen Anne</td>\n",
       "      <td>West Queen Anne</td>\n",
       "      <td>Queen Anne</td>\n",
       "      <td>Seattle</td>\n",
       "      <td>WA</td>\n",
       "      <td>98119</td>\n",
       "      <td>Seattle</td>\n",
       "      <td>Seattle, WA</td>\n",
       "      <td>US</td>\n",
       "      <td>United States</td>\n",
       "      <td>47.639123</td>\n",
       "      <td>-122.365666</td>\n",
       "      <td>t</td>\n",
       "      <td>Apartment</td>\n",
       "      <td>Entire home/apt</td>\n",
       "      <td>4</td>\n",
       "      <td>1.0</td>\n",
       "      <td>1.0</td>\n",
       "      <td>1.0</td>\n",
       "      <td>Real Bed</td>\n",
       "      <td>{TV,Internet,\"Wireless Internet\",Kitchen,\"Free...</td>\n",
       "      <td>NaN</td>\n",
       "      <td>$150.00</td>\n",
       "      <td>$1,000.00</td>\n",
       "      <td>$3,000.00</td>\n",
       "      <td>$100.00</td>\n",
       "      <td>$40.00</td>\n",
       "      <td>1</td>\n",
       "      <td>$0.00</td>\n",
       "      <td>2</td>\n",
       "      <td>90</td>\n",
       "      <td>today</td>\n",
       "      <td>t</td>\n",
       "      <td>13</td>\n",
       "      <td>13</td>\n",
       "      <td>16</td>\n",
       "      <td>291</td>\n",
       "      <td>2016-01-04</td>\n",
       "      <td>43</td>\n",
       "      <td>2013-08-19</td>\n",
       "      <td>2015-12-29</td>\n",
       "      <td>96.0</td>\n",
       "      <td>10.0</td>\n",
       "      <td>10.0</td>\n",
       "      <td>10.0</td>\n",
       "      <td>10.0</td>\n",
       "      <td>10.0</td>\n",
       "      <td>10.0</td>\n",
       "      <td>f</td>\n",
       "      <td>NaN</td>\n",
       "      <td>WASHINGTON</td>\n",
       "      <td>f</td>\n",
       "      <td>strict</td>\n",
       "      <td>t</td>\n",
       "      <td>t</td>\n",
       "      <td>6</td>\n",
       "      <td>1.48</td>\n",
       "    </tr>\n",
       "    <tr>\n",
       "      <th>2</th>\n",
       "      <td>3308979</td>\n",
       "      <td>https://www.airbnb.com/rooms/3308979</td>\n",
       "      <td>20160104002432</td>\n",
       "      <td>2016-01-04</td>\n",
       "      <td>New Modern House-Amazing water view</td>\n",
       "      <td>New modern house built in 2013.  Spectacular s...</td>\n",
       "      <td>Our house is modern, light and fresh with a wa...</td>\n",
       "      <td>New modern house built in 2013.  Spectacular s...</td>\n",
       "      <td>none</td>\n",
       "      <td>Upper Queen Anne is a charming neighborhood fu...</td>\n",
       "      <td>Our house is located just 5 short blocks to To...</td>\n",
       "      <td>A bus stop is just 2 blocks away.   Easy bus a...</td>\n",
       "      <td>NaN</td>\n",
       "      <td>NaN</td>\n",
       "      <td>https://a2.muscache.com/ac/pictures/b4324e0f-a...</td>\n",
       "      <td>NaN</td>\n",
       "      <td>16708587</td>\n",
       "      <td>https://www.airbnb.com/users/show/16708587</td>\n",
       "      <td>Jill</td>\n",
       "      <td>2014-06-12</td>\n",
       "      <td>Seattle, Washington, United States</td>\n",
       "      <td>i love living in Seattle.  i grew up in the mi...</td>\n",
       "      <td>within a few hours</td>\n",
       "      <td>67%</td>\n",
       "      <td>100%</td>\n",
       "      <td>f</td>\n",
       "      <td>https://a1.muscache.com/ac/users/16708587/prof...</td>\n",
       "      <td>https://a1.muscache.com/ac/users/16708587/prof...</td>\n",
       "      <td>Queen Anne</td>\n",
       "      <td>2.0</td>\n",
       "      <td>2.0</td>\n",
       "      <td>['email', 'phone', 'google', 'reviews', 'jumio']</td>\n",
       "      <td>t</td>\n",
       "      <td>t</td>\n",
       "      <td>West Lee Street, Seattle, WA 98119, United States</td>\n",
       "      <td>Queen Anne</td>\n",
       "      <td>West Queen Anne</td>\n",
       "      <td>Queen Anne</td>\n",
       "      <td>Seattle</td>\n",
       "      <td>WA</td>\n",
       "      <td>98119</td>\n",
       "      <td>Seattle</td>\n",
       "      <td>Seattle, WA</td>\n",
       "      <td>US</td>\n",
       "      <td>United States</td>\n",
       "      <td>47.629724</td>\n",
       "      <td>-122.369483</td>\n",
       "      <td>t</td>\n",
       "      <td>House</td>\n",
       "      <td>Entire home/apt</td>\n",
       "      <td>11</td>\n",
       "      <td>4.5</td>\n",
       "      <td>5.0</td>\n",
       "      <td>7.0</td>\n",
       "      <td>Real Bed</td>\n",
       "      <td>{TV,\"Cable TV\",Internet,\"Wireless Internet\",\"A...</td>\n",
       "      <td>NaN</td>\n",
       "      <td>$975.00</td>\n",
       "      <td>NaN</td>\n",
       "      <td>NaN</td>\n",
       "      <td>$1,000.00</td>\n",
       "      <td>$300.00</td>\n",
       "      <td>10</td>\n",
       "      <td>$25.00</td>\n",
       "      <td>4</td>\n",
       "      <td>30</td>\n",
       "      <td>5 weeks ago</td>\n",
       "      <td>t</td>\n",
       "      <td>1</td>\n",
       "      <td>6</td>\n",
       "      <td>17</td>\n",
       "      <td>220</td>\n",
       "      <td>2016-01-04</td>\n",
       "      <td>20</td>\n",
       "      <td>2014-07-30</td>\n",
       "      <td>2015-09-03</td>\n",
       "      <td>97.0</td>\n",
       "      <td>10.0</td>\n",
       "      <td>10.0</td>\n",
       "      <td>10.0</td>\n",
       "      <td>10.0</td>\n",
       "      <td>10.0</td>\n",
       "      <td>10.0</td>\n",
       "      <td>f</td>\n",
       "      <td>NaN</td>\n",
       "      <td>WASHINGTON</td>\n",
       "      <td>f</td>\n",
       "      <td>strict</td>\n",
       "      <td>f</td>\n",
       "      <td>f</td>\n",
       "      <td>2</td>\n",
       "      <td>1.15</td>\n",
       "    </tr>\n",
       "  </tbody>\n",
       "</table>\n",
       "</div>"
      ],
      "text/plain": [
       "        id                           listing_url       scrape_id last_scraped  \\\n",
       "0   241032   https://www.airbnb.com/rooms/241032  20160104002432   2016-01-04   \n",
       "1   953595   https://www.airbnb.com/rooms/953595  20160104002432   2016-01-04   \n",
       "2  3308979  https://www.airbnb.com/rooms/3308979  20160104002432   2016-01-04   \n",
       "\n",
       "                                  name  \\\n",
       "0         Stylish Queen Anne Apartment   \n",
       "1   Bright & Airy Queen Anne Apartment   \n",
       "2  New Modern House-Amazing water view   \n",
       "\n",
       "                                             summary  \\\n",
       "0                                                NaN   \n",
       "1  Chemically sensitive? We've removed the irrita...   \n",
       "2  New modern house built in 2013.  Spectacular s...   \n",
       "\n",
       "                                               space  \\\n",
       "0  Make your self at home in this charming one-be...   \n",
       "1  Beautiful, hypoallergenic apartment in an extr...   \n",
       "2  Our house is modern, light and fresh with a wa...   \n",
       "\n",
       "                                         description experiences_offered  \\\n",
       "0  Make your self at home in this charming one-be...                none   \n",
       "1  Chemically sensitive? We've removed the irrita...                none   \n",
       "2  New modern house built in 2013.  Spectacular s...                none   \n",
       "\n",
       "                               neighborhood_overview  \\\n",
       "0                                                NaN   \n",
       "1  Queen Anne is a wonderful, truly functional vi...   \n",
       "2  Upper Queen Anne is a charming neighborhood fu...   \n",
       "\n",
       "                                               notes  \\\n",
       "0                                                NaN   \n",
       "1  What's up with the free pillows?  Our home was...   \n",
       "2  Our house is located just 5 short blocks to To...   \n",
       "\n",
       "                                             transit  \\\n",
       "0                                                NaN   \n",
       "1  Convenient bus stops are just down the block, ...   \n",
       "2  A bus stop is just 2 blocks away.   Easy bus a...   \n",
       "\n",
       "                                       thumbnail_url  \\\n",
       "0                                                NaN   \n",
       "1  https://a0.muscache.com/ac/pictures/14409893/f...   \n",
       "2                                                NaN   \n",
       "\n",
       "                                          medium_url  \\\n",
       "0                                                NaN   \n",
       "1  https://a0.muscache.com/im/pictures/14409893/f...   \n",
       "2                                                NaN   \n",
       "\n",
       "                                         picture_url  \\\n",
       "0  https://a1.muscache.com/ac/pictures/67560560/c...   \n",
       "1  https://a0.muscache.com/ac/pictures/14409893/f...   \n",
       "2  https://a2.muscache.com/ac/pictures/b4324e0f-a...   \n",
       "\n",
       "                                      xl_picture_url   host_id  \\\n",
       "0                                                NaN    956883   \n",
       "1  https://a0.muscache.com/ac/pictures/14409893/f...   5177328   \n",
       "2                                                NaN  16708587   \n",
       "\n",
       "                                     host_url host_name  host_since  \\\n",
       "0    https://www.airbnb.com/users/show/956883     Maija  2011-08-11   \n",
       "1   https://www.airbnb.com/users/show/5177328    Andrea  2013-02-21   \n",
       "2  https://www.airbnb.com/users/show/16708587      Jill  2014-06-12   \n",
       "\n",
       "                        host_location  \\\n",
       "0  Seattle, Washington, United States   \n",
       "1  Seattle, Washington, United States   \n",
       "2  Seattle, Washington, United States   \n",
       "\n",
       "                                          host_about  host_response_time  \\\n",
       "0  I am an artist, interior designer, and run a s...  within a few hours   \n",
       "1  Living east coast/left coast/overseas.  Time i...      within an hour   \n",
       "2  i love living in Seattle.  i grew up in the mi...  within a few hours   \n",
       "\n",
       "  host_response_rate host_acceptance_rate host_is_superhost  \\\n",
       "0                96%                 100%                 f   \n",
       "1                98%                 100%                 t   \n",
       "2                67%                 100%                 f   \n",
       "\n",
       "                                  host_thumbnail_url  \\\n",
       "0  https://a0.muscache.com/ac/users/956883/profil...   \n",
       "1  https://a0.muscache.com/ac/users/5177328/profi...   \n",
       "2  https://a1.muscache.com/ac/users/16708587/prof...   \n",
       "\n",
       "                                    host_picture_url host_neighbourhood  \\\n",
       "0  https://a0.muscache.com/ac/users/956883/profil...         Queen Anne   \n",
       "1  https://a0.muscache.com/ac/users/5177328/profi...         Queen Anne   \n",
       "2  https://a1.muscache.com/ac/users/16708587/prof...         Queen Anne   \n",
       "\n",
       "   host_listings_count  host_total_listings_count  \\\n",
       "0                  3.0                        3.0   \n",
       "1                  6.0                        6.0   \n",
       "2                  2.0                        2.0   \n",
       "\n",
       "                                  host_verifications host_has_profile_pic  \\\n",
       "0               ['email', 'phone', 'reviews', 'kba']                    t   \n",
       "1  ['email', 'phone', 'facebook', 'linkedin', 're...                    t   \n",
       "2   ['email', 'phone', 'google', 'reviews', 'jumio']                    t   \n",
       "\n",
       "  host_identity_verified                                             street  \\\n",
       "0                      t      Gilman Dr W, Seattle, WA 98119, United States   \n",
       "1                      t  7th Avenue West, Seattle, WA 98119, United States   \n",
       "2                      t  West Lee Street, Seattle, WA 98119, United States   \n",
       "\n",
       "  neighbourhood neighbourhood_cleansed neighbourhood_group_cleansed     city  \\\n",
       "0    Queen Anne        West Queen Anne                   Queen Anne  Seattle   \n",
       "1    Queen Anne        West Queen Anne                   Queen Anne  Seattle   \n",
       "2    Queen Anne        West Queen Anne                   Queen Anne  Seattle   \n",
       "\n",
       "  state zipcode   market smart_location country_code        country  \\\n",
       "0    WA   98119  Seattle    Seattle, WA           US  United States   \n",
       "1    WA   98119  Seattle    Seattle, WA           US  United States   \n",
       "2    WA   98119  Seattle    Seattle, WA           US  United States   \n",
       "\n",
       "    latitude   longitude is_location_exact property_type        room_type  \\\n",
       "0  47.636289 -122.371025                 t     Apartment  Entire home/apt   \n",
       "1  47.639123 -122.365666                 t     Apartment  Entire home/apt   \n",
       "2  47.629724 -122.369483                 t         House  Entire home/apt   \n",
       "\n",
       "   accommodates  bathrooms  bedrooms  beds  bed_type  \\\n",
       "0             4        1.0       1.0   1.0  Real Bed   \n",
       "1             4        1.0       1.0   1.0  Real Bed   \n",
       "2            11        4.5       5.0   7.0  Real Bed   \n",
       "\n",
       "                                           amenities  square_feet    price  \\\n",
       "0  {TV,\"Cable TV\",Internet,\"Wireless Internet\",\"A...          NaN   $85.00   \n",
       "1  {TV,Internet,\"Wireless Internet\",Kitchen,\"Free...          NaN  $150.00   \n",
       "2  {TV,\"Cable TV\",Internet,\"Wireless Internet\",\"A...          NaN  $975.00   \n",
       "\n",
       "  weekly_price monthly_price security_deposit cleaning_fee  guests_included  \\\n",
       "0          NaN           NaN              NaN          NaN                2   \n",
       "1    $1,000.00     $3,000.00          $100.00       $40.00                1   \n",
       "2          NaN           NaN        $1,000.00      $300.00               10   \n",
       "\n",
       "  extra_people  minimum_nights  maximum_nights calendar_updated  \\\n",
       "0        $5.00               1             365      4 weeks ago   \n",
       "1        $0.00               2              90            today   \n",
       "2       $25.00               4              30      5 weeks ago   \n",
       "\n",
       "  has_availability  availability_30  availability_60  availability_90  \\\n",
       "0                t               14               41               71   \n",
       "1                t               13               13               16   \n",
       "2                t                1                6               17   \n",
       "\n",
       "   availability_365 calendar_last_scraped  number_of_reviews first_review  \\\n",
       "0               346            2016-01-04                207   2011-11-01   \n",
       "1               291            2016-01-04                 43   2013-08-19   \n",
       "2               220            2016-01-04                 20   2014-07-30   \n",
       "\n",
       "  last_review  review_scores_rating  review_scores_accuracy  \\\n",
       "0  2016-01-02                  95.0                    10.0   \n",
       "1  2015-12-29                  96.0                    10.0   \n",
       "2  2015-09-03                  97.0                    10.0   \n",
       "\n",
       "   review_scores_cleanliness  review_scores_checkin  \\\n",
       "0                       10.0                   10.0   \n",
       "1                       10.0                   10.0   \n",
       "2                       10.0                   10.0   \n",
       "\n",
       "   review_scores_communication  review_scores_location  review_scores_value  \\\n",
       "0                         10.0                     9.0                 10.0   \n",
       "1                         10.0                    10.0                 10.0   \n",
       "2                         10.0                    10.0                 10.0   \n",
       "\n",
       "  requires_license  license jurisdiction_names instant_bookable  \\\n",
       "0                f      NaN         WASHINGTON                f   \n",
       "1                f      NaN         WASHINGTON                f   \n",
       "2                f      NaN         WASHINGTON                f   \n",
       "\n",
       "  cancellation_policy require_guest_profile_picture  \\\n",
       "0            moderate                             f   \n",
       "1              strict                             t   \n",
       "2              strict                             f   \n",
       "\n",
       "  require_guest_phone_verification  calculated_host_listings_count  \\\n",
       "0                                f                               2   \n",
       "1                                t                               6   \n",
       "2                                f                               2   \n",
       "\n",
       "   reviews_per_month  \n",
       "0               4.07  \n",
       "1               1.48  \n",
       "2               1.15  "
      ]
     },
     "execution_count": 13,
     "metadata": {},
     "output_type": "execute_result"
    }
   ],
   "source": [
    "df_list.head(3)"
   ]
  },
  {
   "cell_type": "code",
   "execution_count": 14,
   "metadata": {},
   "outputs": [],
   "source": [
    "# rename the column id to listing_id for later join\n",
    "df_list = df_list.rename(columns={'id' : 'listing_id'})\n",
    "\n",
    "# change some columns from str to boolean\n",
    "col_bool = ['host_is_superhost',\n",
    "            'host_has_profile_pic',\n",
    "            'host_identity_verified',\n",
    "            'is_location_exact',\n",
    "            'has_availability',\n",
    "            'requires_license',\n",
    "            'instant_bookable',\n",
    "            'require_guest_profile_picture',\n",
    "            'require_guest_phone_verification']\n",
    "\n",
    "for col in col_bool:\n",
    "    df_list[col] = df_list[col].apply(lambda x: True if x == 't' else False)\n",
    "\n",
    "\n",
    "# change column from str to datetime\n",
    "col_date = ['last_scraped', 'host_since', 'calendar_last_scraped', 'first_review', 'last_review']\n",
    "\n",
    "for col in col_date:\n",
    "    df_list[col] = pd.to_datetime(df_list[col])\n",
    "\n",
    "\n",
    "# replace percentage sign and convert column from str to float\n",
    "col_perc = ['host_response_rate', 'host_acceptance_rate']\n",
    "\n",
    "for col in col_perc:\n",
    "    df_list[col] = df_list[col].apply(lambda x: x[:-1] if isinstance(x, str) else x).astype(float)\n",
    "\n",
    "\n",
    "# calculate a new column without currency sign\n",
    "col_curr = ['price','extra_people', 'weekly_price', 'monthly_price', 'security_deposit', 'cleaning_fee']\n",
    "\n",
    "for col in col_curr:\n",
    "    df_list[col] = df_list[col].apply(lambda x: x.replace(',', '') if isinstance(x,str) else x)\n",
    "    df_list[col + '_usd'] = df_list[col].apply(lambda x: x[1:] if isinstance(x, str) else x).astype(float)\n",
    "\n",
    "# generate numeric values for the column host_response_time\n",
    "resp_dict = {\n",
    "    'within an hour': 1,\n",
    "    'within a few hours' : .75,\n",
    "    'within a day' : .5,\n",
    "    'a few days or more' : .25\n",
    "}\n",
    "\n",
    "df_list['host_response_time_val'] = df_list['host_response_time'].apply(lambda x: resp_dict[x] if isinstance(x, str) else x).astype(float)\n",
    "\n",
    "\n",
    "# clean property_type\n",
    "df_list['property_type'] = df_list['property_type'].apply(lambda x: x.replace(' ', '').replace('&', '_').replace('/', '_') if isinstance(x,str) else x)\n",
    "df_list['property_type'] = df_list['property_type'].apply(lambda x: x.lower() if isinstance(x,str) else x)\n",
    "\n",
    "temp_df_prop = pd.get_dummies(df_list['property_type'], dtype=int)\n",
    "\n",
    "new_cols_prop = []\n",
    "for entry in temp_df_prop.columns:\n",
    "    new_cols_prop.append('property_type_' + entry)\n",
    "\n",
    "temp_df_prop.columns = new_cols_prop\n",
    "\n",
    "\n",
    "# clean zipcode\n",
    "# replacement is okay, as zip code 98122 exists, see: https://www.unitedstateszipcodes.org/\n",
    "df_list['zipcode'] = df_list['zipcode'].replace('99\\n98122', '98122')\n",
    "df_list = df_list.drop(index=df_list[df_list.zipcode.isna()].index)\n",
    "\n",
    "temp_df_zip = pd.get_dummies(df_list['zipcode'], dtype=int)\n",
    "\n",
    "new_cols_zip = []\n",
    "for entry in temp_df_zip.columns:\n",
    "    new_cols_zip.append('zipcode_' + entry)\n",
    "\n",
    "temp_df_zip.columns = new_cols_zip\n",
    "\n",
    "# Prepare and extend the column amenities\n",
    "df_list['amenities'] = df_list['amenities'].apply(lambda x: x.replace('\"', '').replace('{', '').replace('}', '').replace('/', '_').replace('(s)', ''))\n",
    "df_list['amenities'] = df_list['amenities'].apply(lambda x: x.lower())\n",
    "df_list['amenities'] = df_list['amenities'].apply(lambda x: x.replace(' ', '_'))\n",
    "\n",
    "df_list['nr_amenities'] = df_list['amenities'].apply(lambda x: len(x.split(','))).astype(int)\n",
    "\n",
    "temp_df_am = df_list['amenities'].str.get_dummies(sep=',')\n",
    "\n",
    "new_cols_am = []\n",
    "for entry in temp_df_am.columns:\n",
    "    new_cols_am.append('amenity_' + entry)\n",
    "\n",
    "temp_df_am.columns = new_cols_am\n",
    "\n",
    "# concat dataframes\n",
    "df_list = pd.concat([df_list, temp_df_prop, temp_df_zip, temp_df_am], axis = 1) "
   ]
  },
  {
   "cell_type": "code",
   "execution_count": 15,
   "metadata": {},
   "outputs": [],
   "source": [
    "# drop columns that are not further considered or needed\n",
    "col_drop = ['thumbnail_url',\n",
    "            'medium_url',\n",
    "            'xl_picture_url',\n",
    "            'host_location',\n",
    "            'host_verifications',\n",
    "            'state',\n",
    "            'market',\n",
    "            'smart_location',\n",
    "            'country_code',\n",
    "            'country',\n",
    "            'jurisdiction_names',\n",
    "            'price',\n",
    "            'extra_people',\n",
    "            'weekly_price',\n",
    "            'monthly_price',\n",
    "            'security_deposit',\n",
    "            'cleaning_fee',\n",
    "            'host_response_time',\n",
    "            'amenities']\n",
    "\n",
    "df_list = df_list.drop(columns=col_drop)"
   ]
  },
  {
   "cell_type": "code",
   "execution_count": 16,
   "metadata": {},
   "outputs": [
    {
     "data": {
      "text/plain": [
       "array(['98119', '98109', '98107', '98117', '98103', '98105', '98115',\n",
       "       '98101', '98122', '98112', '98144', '98121', '98102', '98199',\n",
       "       '98104', '98134', '98136', '98126', '98146', '98116', '98177',\n",
       "       '98118', '98108', '98133', '98106', '98178', '98125', nan],\n",
       "      dtype=object)"
      ]
     },
     "execution_count": 16,
     "metadata": {},
     "output_type": "execute_result"
    }
   ],
   "source": [
    "df_list['zipcode'].unique()"
   ]
  },
  {
   "cell_type": "code",
   "execution_count": 17,
   "metadata": {},
   "outputs": [
    {
     "data": {
      "text/plain": [
       "(3818, 165)"
      ]
     },
     "execution_count": 17,
     "metadata": {},
     "output_type": "execute_result"
    }
   ],
   "source": [
    "df_list.shape"
   ]
  },
  {
   "cell_type": "markdown",
   "metadata": {},
   "source": [
    "---"
   ]
  },
  {
   "cell_type": "code",
   "execution_count": 18,
   "metadata": {},
   "outputs": [
    {
     "data": {
      "text/html": [
       "<div>\n",
       "<style scoped>\n",
       "    .dataframe tbody tr th:only-of-type {\n",
       "        vertical-align: middle;\n",
       "    }\n",
       "\n",
       "    .dataframe tbody tr th {\n",
       "        vertical-align: top;\n",
       "    }\n",
       "\n",
       "    .dataframe thead th {\n",
       "        text-align: right;\n",
       "    }\n",
       "</style>\n",
       "<table border=\"1\" class=\"dataframe\">\n",
       "  <thead>\n",
       "    <tr style=\"text-align: right;\">\n",
       "      <th></th>\n",
       "      <th>listing_id</th>\n",
       "      <th>id</th>\n",
       "      <th>date</th>\n",
       "      <th>reviewer_id</th>\n",
       "      <th>reviewer_name</th>\n",
       "      <th>comments</th>\n",
       "    </tr>\n",
       "  </thead>\n",
       "  <tbody>\n",
       "    <tr>\n",
       "      <th>0</th>\n",
       "      <td>7202016</td>\n",
       "      <td>38917982</td>\n",
       "      <td>2015-07-19</td>\n",
       "      <td>28943674</td>\n",
       "      <td>Bianca</td>\n",
       "      <td>Cute and cozy place. Perfect location to every...</td>\n",
       "    </tr>\n",
       "    <tr>\n",
       "      <th>1</th>\n",
       "      <td>7202016</td>\n",
       "      <td>39087409</td>\n",
       "      <td>2015-07-20</td>\n",
       "      <td>32440555</td>\n",
       "      <td>Frank</td>\n",
       "      <td>Kelly has a great room in a very central locat...</td>\n",
       "    </tr>\n",
       "    <tr>\n",
       "      <th>2</th>\n",
       "      <td>7202016</td>\n",
       "      <td>39820030</td>\n",
       "      <td>2015-07-26</td>\n",
       "      <td>37722850</td>\n",
       "      <td>Ian</td>\n",
       "      <td>Very spacious apartment, and in a great neighb...</td>\n",
       "    </tr>\n",
       "    <tr>\n",
       "      <th>3</th>\n",
       "      <td>7202016</td>\n",
       "      <td>40813543</td>\n",
       "      <td>2015-08-02</td>\n",
       "      <td>33671805</td>\n",
       "      <td>George</td>\n",
       "      <td>Close to Seattle Center and all it has to offe...</td>\n",
       "    </tr>\n",
       "    <tr>\n",
       "      <th>4</th>\n",
       "      <td>7202016</td>\n",
       "      <td>41986501</td>\n",
       "      <td>2015-08-10</td>\n",
       "      <td>34959538</td>\n",
       "      <td>Ming</td>\n",
       "      <td>Kelly was a great host and very accommodating ...</td>\n",
       "    </tr>\n",
       "  </tbody>\n",
       "</table>\n",
       "</div>"
      ],
      "text/plain": [
       "   listing_id        id        date  reviewer_id reviewer_name  \\\n",
       "0     7202016  38917982  2015-07-19     28943674        Bianca   \n",
       "1     7202016  39087409  2015-07-20     32440555         Frank   \n",
       "2     7202016  39820030  2015-07-26     37722850           Ian   \n",
       "3     7202016  40813543  2015-08-02     33671805        George   \n",
       "4     7202016  41986501  2015-08-10     34959538          Ming   \n",
       "\n",
       "                                            comments  \n",
       "0  Cute and cozy place. Perfect location to every...  \n",
       "1  Kelly has a great room in a very central locat...  \n",
       "2  Very spacious apartment, and in a great neighb...  \n",
       "3  Close to Seattle Center and all it has to offe...  \n",
       "4  Kelly was a great host and very accommodating ...  "
      ]
     },
     "execution_count": 18,
     "metadata": {},
     "output_type": "execute_result"
    }
   ],
   "source": [
    "df_rev.head()"
   ]
  },
  {
   "cell_type": "markdown",
   "metadata": {},
   "source": [
    "---\n",
    "Join the calendar and the listing data"
   ]
  },
  {
   "cell_type": "code",
   "execution_count": 19,
   "metadata": {},
   "outputs": [
    {
     "data": {
      "text/html": [
       "<div>\n",
       "<style scoped>\n",
       "    .dataframe tbody tr th:only-of-type {\n",
       "        vertical-align: middle;\n",
       "    }\n",
       "\n",
       "    .dataframe tbody tr th {\n",
       "        vertical-align: top;\n",
       "    }\n",
       "\n",
       "    .dataframe thead th {\n",
       "        text-align: right;\n",
       "    }\n",
       "</style>\n",
       "<table border=\"1\" class=\"dataframe\">\n",
       "  <thead>\n",
       "    <tr style=\"text-align: right;\">\n",
       "      <th></th>\n",
       "      <th>listing_id</th>\n",
       "      <th>date</th>\n",
       "      <th>available</th>\n",
       "      <th>month</th>\n",
       "      <th>month_name</th>\n",
       "      <th>week</th>\n",
       "      <th>price_usd_cal</th>\n",
       "      <th>listing_url</th>\n",
       "      <th>scrape_id</th>\n",
       "      <th>last_scraped</th>\n",
       "      <th>name</th>\n",
       "      <th>summary</th>\n",
       "      <th>space</th>\n",
       "      <th>description</th>\n",
       "      <th>experiences_offered</th>\n",
       "      <th>neighborhood_overview</th>\n",
       "      <th>notes</th>\n",
       "      <th>transit</th>\n",
       "      <th>picture_url</th>\n",
       "      <th>host_id</th>\n",
       "      <th>host_url</th>\n",
       "      <th>host_name</th>\n",
       "      <th>host_since</th>\n",
       "      <th>host_about</th>\n",
       "      <th>host_response_rate</th>\n",
       "      <th>host_acceptance_rate</th>\n",
       "      <th>host_is_superhost</th>\n",
       "      <th>host_thumbnail_url</th>\n",
       "      <th>host_picture_url</th>\n",
       "      <th>host_neighbourhood</th>\n",
       "      <th>host_listings_count</th>\n",
       "      <th>host_total_listings_count</th>\n",
       "      <th>host_has_profile_pic</th>\n",
       "      <th>host_identity_verified</th>\n",
       "      <th>street</th>\n",
       "      <th>neighbourhood</th>\n",
       "      <th>neighbourhood_cleansed</th>\n",
       "      <th>neighbourhood_group_cleansed</th>\n",
       "      <th>city</th>\n",
       "      <th>zipcode</th>\n",
       "      <th>latitude</th>\n",
       "      <th>longitude</th>\n",
       "      <th>is_location_exact</th>\n",
       "      <th>property_type</th>\n",
       "      <th>room_type</th>\n",
       "      <th>accommodates</th>\n",
       "      <th>bathrooms</th>\n",
       "      <th>bedrooms</th>\n",
       "      <th>beds</th>\n",
       "      <th>bed_type</th>\n",
       "      <th>square_feet</th>\n",
       "      <th>guests_included</th>\n",
       "      <th>minimum_nights</th>\n",
       "      <th>maximum_nights</th>\n",
       "      <th>calendar_updated</th>\n",
       "      <th>has_availability</th>\n",
       "      <th>availability_30</th>\n",
       "      <th>availability_60</th>\n",
       "      <th>availability_90</th>\n",
       "      <th>availability_365</th>\n",
       "      <th>calendar_last_scraped</th>\n",
       "      <th>number_of_reviews</th>\n",
       "      <th>first_review</th>\n",
       "      <th>last_review</th>\n",
       "      <th>review_scores_rating</th>\n",
       "      <th>review_scores_accuracy</th>\n",
       "      <th>review_scores_cleanliness</th>\n",
       "      <th>review_scores_checkin</th>\n",
       "      <th>review_scores_communication</th>\n",
       "      <th>review_scores_location</th>\n",
       "      <th>review_scores_value</th>\n",
       "      <th>requires_license</th>\n",
       "      <th>license</th>\n",
       "      <th>instant_bookable</th>\n",
       "      <th>cancellation_policy</th>\n",
       "      <th>require_guest_profile_picture</th>\n",
       "      <th>require_guest_phone_verification</th>\n",
       "      <th>calculated_host_listings_count</th>\n",
       "      <th>reviews_per_month</th>\n",
       "      <th>price_usd</th>\n",
       "      <th>extra_people_usd</th>\n",
       "      <th>weekly_price_usd</th>\n",
       "      <th>monthly_price_usd</th>\n",
       "      <th>security_deposit_usd</th>\n",
       "      <th>cleaning_fee_usd</th>\n",
       "      <th>host_response_time_val</th>\n",
       "      <th>nr_amenities</th>\n",
       "      <th>property_type_apartment</th>\n",
       "      <th>property_type_bed_breakfast</th>\n",
       "      <th>property_type_boat</th>\n",
       "      <th>property_type_bungalow</th>\n",
       "      <th>property_type_cabin</th>\n",
       "      <th>property_type_camper_rv</th>\n",
       "      <th>property_type_chalet</th>\n",
       "      <th>property_type_condominium</th>\n",
       "      <th>property_type_dorm</th>\n",
       "      <th>property_type_house</th>\n",
       "      <th>property_type_loft</th>\n",
       "      <th>property_type_other</th>\n",
       "      <th>property_type_tent</th>\n",
       "      <th>property_type_townhouse</th>\n",
       "      <th>property_type_treehouse</th>\n",
       "      <th>property_type_yurt</th>\n",
       "      <th>zipcode_98101</th>\n",
       "      <th>zipcode_98102</th>\n",
       "      <th>zipcode_98103</th>\n",
       "      <th>zipcode_98104</th>\n",
       "      <th>zipcode_98105</th>\n",
       "      <th>zipcode_98106</th>\n",
       "      <th>zipcode_98107</th>\n",
       "      <th>zipcode_98108</th>\n",
       "      <th>zipcode_98109</th>\n",
       "      <th>zipcode_98112</th>\n",
       "      <th>zipcode_98115</th>\n",
       "      <th>zipcode_98116</th>\n",
       "      <th>zipcode_98117</th>\n",
       "      <th>zipcode_98118</th>\n",
       "      <th>zipcode_98119</th>\n",
       "      <th>zipcode_98121</th>\n",
       "      <th>zipcode_98122</th>\n",
       "      <th>zipcode_98125</th>\n",
       "      <th>zipcode_98126</th>\n",
       "      <th>zipcode_98133</th>\n",
       "      <th>zipcode_98134</th>\n",
       "      <th>zipcode_98136</th>\n",
       "      <th>zipcode_98144</th>\n",
       "      <th>zipcode_98146</th>\n",
       "      <th>zipcode_98177</th>\n",
       "      <th>zipcode_98178</th>\n",
       "      <th>zipcode_98199</th>\n",
       "      <th>amenity_24-hour_check-in</th>\n",
       "      <th>amenity_air_conditioning</th>\n",
       "      <th>amenity_breakfast</th>\n",
       "      <th>amenity_buzzer_wireless_intercom</th>\n",
       "      <th>amenity_cable_tv</th>\n",
       "      <th>amenity_carbon_monoxide_detector</th>\n",
       "      <th>amenity_cat</th>\n",
       "      <th>amenity_dog</th>\n",
       "      <th>amenity_doorman</th>\n",
       "      <th>amenity_dryer</th>\n",
       "      <th>amenity_elevator_in_building</th>\n",
       "      <th>amenity_essentials</th>\n",
       "      <th>amenity_family_kid_friendly</th>\n",
       "      <th>amenity_fire_extinguisher</th>\n",
       "      <th>amenity_first_aid_kit</th>\n",
       "      <th>amenity_free_parking_on_premises</th>\n",
       "      <th>amenity_gym</th>\n",
       "      <th>amenity_hair_dryer</th>\n",
       "      <th>amenity_hangers</th>\n",
       "      <th>amenity_heating</th>\n",
       "      <th>amenity_hot_tub</th>\n",
       "      <th>amenity_indoor_fireplace</th>\n",
       "      <th>amenity_internet</th>\n",
       "      <th>amenity_iron</th>\n",
       "      <th>amenity_kitchen</th>\n",
       "      <th>amenity_laptop_friendly_workspace</th>\n",
       "      <th>amenity_lock_on_bedroom_door</th>\n",
       "      <th>amenity_other_pet</th>\n",
       "      <th>amenity_pets_allowed</th>\n",
       "      <th>amenity_pets_live_on_this_property</th>\n",
       "      <th>amenity_pool</th>\n",
       "      <th>amenity_safety_card</th>\n",
       "      <th>amenity_shampoo</th>\n",
       "      <th>amenity_smoke_detector</th>\n",
       "      <th>amenity_smoking_allowed</th>\n",
       "      <th>amenity_suitable_for_events</th>\n",
       "      <th>amenity_tv</th>\n",
       "      <th>amenity_washer</th>\n",
       "      <th>amenity_washer___dryer</th>\n",
       "      <th>amenity_wheelchair_accessible</th>\n",
       "      <th>amenity_wireless_internet</th>\n",
       "      <th>price_fluc</th>\n",
       "      <th>price_p_accom</th>\n",
       "      <th>price_p_accom_cal</th>\n",
       "    </tr>\n",
       "  </thead>\n",
       "  <tbody>\n",
       "    <tr>\n",
       "      <th>0</th>\n",
       "      <td>241032</td>\n",
       "      <td>2016-01-04</td>\n",
       "      <td>True</td>\n",
       "      <td>1</td>\n",
       "      <td>January</td>\n",
       "      <td>1</td>\n",
       "      <td>85.0</td>\n",
       "      <td>https://www.airbnb.com/rooms/241032</td>\n",
       "      <td>2.016010e+13</td>\n",
       "      <td>2016-01-04</td>\n",
       "      <td>Stylish Queen Anne Apartment</td>\n",
       "      <td>NaN</td>\n",
       "      <td>Make your self at home in this charming one-be...</td>\n",
       "      <td>Make your self at home in this charming one-be...</td>\n",
       "      <td>none</td>\n",
       "      <td>NaN</td>\n",
       "      <td>NaN</td>\n",
       "      <td>NaN</td>\n",
       "      <td>https://a1.muscache.com/ac/pictures/67560560/c...</td>\n",
       "      <td>956883.0</td>\n",
       "      <td>https://www.airbnb.com/users/show/956883</td>\n",
       "      <td>Maija</td>\n",
       "      <td>2011-08-11</td>\n",
       "      <td>I am an artist, interior designer, and run a s...</td>\n",
       "      <td>96.0</td>\n",
       "      <td>100.0</td>\n",
       "      <td>False</td>\n",
       "      <td>https://a0.muscache.com/ac/users/956883/profil...</td>\n",
       "      <td>https://a0.muscache.com/ac/users/956883/profil...</td>\n",
       "      <td>Queen Anne</td>\n",
       "      <td>3.0</td>\n",
       "      <td>3.0</td>\n",
       "      <td>True</td>\n",
       "      <td>True</td>\n",
       "      <td>Gilman Dr W, Seattle, WA 98119, United States</td>\n",
       "      <td>Queen Anne</td>\n",
       "      <td>West Queen Anne</td>\n",
       "      <td>Queen Anne</td>\n",
       "      <td>Seattle</td>\n",
       "      <td>98119</td>\n",
       "      <td>47.636289</td>\n",
       "      <td>-122.371025</td>\n",
       "      <td>True</td>\n",
       "      <td>apartment</td>\n",
       "      <td>Entire home/apt</td>\n",
       "      <td>4.0</td>\n",
       "      <td>1.0</td>\n",
       "      <td>1.0</td>\n",
       "      <td>1.0</td>\n",
       "      <td>Real Bed</td>\n",
       "      <td>NaN</td>\n",
       "      <td>2.0</td>\n",
       "      <td>1.0</td>\n",
       "      <td>365.0</td>\n",
       "      <td>4 weeks ago</td>\n",
       "      <td>True</td>\n",
       "      <td>14.0</td>\n",
       "      <td>41.0</td>\n",
       "      <td>71.0</td>\n",
       "      <td>346.0</td>\n",
       "      <td>2016-01-04</td>\n",
       "      <td>207.0</td>\n",
       "      <td>2011-11-01</td>\n",
       "      <td>2016-01-02</td>\n",
       "      <td>95.0</td>\n",
       "      <td>10.0</td>\n",
       "      <td>10.0</td>\n",
       "      <td>10.0</td>\n",
       "      <td>10.0</td>\n",
       "      <td>9.0</td>\n",
       "      <td>10.0</td>\n",
       "      <td>False</td>\n",
       "      <td>NaN</td>\n",
       "      <td>False</td>\n",
       "      <td>moderate</td>\n",
       "      <td>False</td>\n",
       "      <td>False</td>\n",
       "      <td>2.0</td>\n",
       "      <td>4.07</td>\n",
       "      <td>85.0</td>\n",
       "      <td>5.0</td>\n",
       "      <td>NaN</td>\n",
       "      <td>NaN</td>\n",
       "      <td>NaN</td>\n",
       "      <td>NaN</td>\n",
       "      <td>0.75</td>\n",
       "      <td>10.0</td>\n",
       "      <td>1.0</td>\n",
       "      <td>0.0</td>\n",
       "      <td>0.0</td>\n",
       "      <td>0.0</td>\n",
       "      <td>0.0</td>\n",
       "      <td>0.0</td>\n",
       "      <td>0.0</td>\n",
       "      <td>0.0</td>\n",
       "      <td>0.0</td>\n",
       "      <td>0.0</td>\n",
       "      <td>0.0</td>\n",
       "      <td>0.0</td>\n",
       "      <td>0.0</td>\n",
       "      <td>0.0</td>\n",
       "      <td>0.0</td>\n",
       "      <td>0.0</td>\n",
       "      <td>0.0</td>\n",
       "      <td>0.0</td>\n",
       "      <td>0.0</td>\n",
       "      <td>0.0</td>\n",
       "      <td>0.0</td>\n",
       "      <td>0.0</td>\n",
       "      <td>0.0</td>\n",
       "      <td>0.0</td>\n",
       "      <td>0.0</td>\n",
       "      <td>0.0</td>\n",
       "      <td>0.0</td>\n",
       "      <td>0.0</td>\n",
       "      <td>0.0</td>\n",
       "      <td>0.0</td>\n",
       "      <td>1.0</td>\n",
       "      <td>0.0</td>\n",
       "      <td>0.0</td>\n",
       "      <td>0.0</td>\n",
       "      <td>0.0</td>\n",
       "      <td>0.0</td>\n",
       "      <td>0.0</td>\n",
       "      <td>0.0</td>\n",
       "      <td>0.0</td>\n",
       "      <td>0.0</td>\n",
       "      <td>0.0</td>\n",
       "      <td>0.0</td>\n",
       "      <td>0.0</td>\n",
       "      <td>0.0</td>\n",
       "      <td>1.0</td>\n",
       "      <td>0.0</td>\n",
       "      <td>0.0</td>\n",
       "      <td>1.0</td>\n",
       "      <td>0.0</td>\n",
       "      <td>0.0</td>\n",
       "      <td>0.0</td>\n",
       "      <td>0.0</td>\n",
       "      <td>1.0</td>\n",
       "      <td>0.0</td>\n",
       "      <td>0.0</td>\n",
       "      <td>1.0</td>\n",
       "      <td>0.0</td>\n",
       "      <td>0.0</td>\n",
       "      <td>0.0</td>\n",
       "      <td>0.0</td>\n",
       "      <td>0.0</td>\n",
       "      <td>0.0</td>\n",
       "      <td>1.0</td>\n",
       "      <td>0.0</td>\n",
       "      <td>0.0</td>\n",
       "      <td>1.0</td>\n",
       "      <td>0.0</td>\n",
       "      <td>1.0</td>\n",
       "      <td>0.0</td>\n",
       "      <td>0.0</td>\n",
       "      <td>0.0</td>\n",
       "      <td>0.0</td>\n",
       "      <td>0.0</td>\n",
       "      <td>0.0</td>\n",
       "      <td>0.0</td>\n",
       "      <td>0.0</td>\n",
       "      <td>0.0</td>\n",
       "      <td>0.0</td>\n",
       "      <td>0.0</td>\n",
       "      <td>1.0</td>\n",
       "      <td>1.0</td>\n",
       "      <td>0.0</td>\n",
       "      <td>0.0</td>\n",
       "      <td>1.0</td>\n",
       "      <td>1.0</td>\n",
       "      <td>21.25</td>\n",
       "      <td>21.25</td>\n",
       "    </tr>\n",
       "    <tr>\n",
       "      <th>1</th>\n",
       "      <td>241032</td>\n",
       "      <td>2016-01-05</td>\n",
       "      <td>True</td>\n",
       "      <td>1</td>\n",
       "      <td>January</td>\n",
       "      <td>1</td>\n",
       "      <td>85.0</td>\n",
       "      <td>https://www.airbnb.com/rooms/241032</td>\n",
       "      <td>2.016010e+13</td>\n",
       "      <td>2016-01-04</td>\n",
       "      <td>Stylish Queen Anne Apartment</td>\n",
       "      <td>NaN</td>\n",
       "      <td>Make your self at home in this charming one-be...</td>\n",
       "      <td>Make your self at home in this charming one-be...</td>\n",
       "      <td>none</td>\n",
       "      <td>NaN</td>\n",
       "      <td>NaN</td>\n",
       "      <td>NaN</td>\n",
       "      <td>https://a1.muscache.com/ac/pictures/67560560/c...</td>\n",
       "      <td>956883.0</td>\n",
       "      <td>https://www.airbnb.com/users/show/956883</td>\n",
       "      <td>Maija</td>\n",
       "      <td>2011-08-11</td>\n",
       "      <td>I am an artist, interior designer, and run a s...</td>\n",
       "      <td>96.0</td>\n",
       "      <td>100.0</td>\n",
       "      <td>False</td>\n",
       "      <td>https://a0.muscache.com/ac/users/956883/profil...</td>\n",
       "      <td>https://a0.muscache.com/ac/users/956883/profil...</td>\n",
       "      <td>Queen Anne</td>\n",
       "      <td>3.0</td>\n",
       "      <td>3.0</td>\n",
       "      <td>True</td>\n",
       "      <td>True</td>\n",
       "      <td>Gilman Dr W, Seattle, WA 98119, United States</td>\n",
       "      <td>Queen Anne</td>\n",
       "      <td>West Queen Anne</td>\n",
       "      <td>Queen Anne</td>\n",
       "      <td>Seattle</td>\n",
       "      <td>98119</td>\n",
       "      <td>47.636289</td>\n",
       "      <td>-122.371025</td>\n",
       "      <td>True</td>\n",
       "      <td>apartment</td>\n",
       "      <td>Entire home/apt</td>\n",
       "      <td>4.0</td>\n",
       "      <td>1.0</td>\n",
       "      <td>1.0</td>\n",
       "      <td>1.0</td>\n",
       "      <td>Real Bed</td>\n",
       "      <td>NaN</td>\n",
       "      <td>2.0</td>\n",
       "      <td>1.0</td>\n",
       "      <td>365.0</td>\n",
       "      <td>4 weeks ago</td>\n",
       "      <td>True</td>\n",
       "      <td>14.0</td>\n",
       "      <td>41.0</td>\n",
       "      <td>71.0</td>\n",
       "      <td>346.0</td>\n",
       "      <td>2016-01-04</td>\n",
       "      <td>207.0</td>\n",
       "      <td>2011-11-01</td>\n",
       "      <td>2016-01-02</td>\n",
       "      <td>95.0</td>\n",
       "      <td>10.0</td>\n",
       "      <td>10.0</td>\n",
       "      <td>10.0</td>\n",
       "      <td>10.0</td>\n",
       "      <td>9.0</td>\n",
       "      <td>10.0</td>\n",
       "      <td>False</td>\n",
       "      <td>NaN</td>\n",
       "      <td>False</td>\n",
       "      <td>moderate</td>\n",
       "      <td>False</td>\n",
       "      <td>False</td>\n",
       "      <td>2.0</td>\n",
       "      <td>4.07</td>\n",
       "      <td>85.0</td>\n",
       "      <td>5.0</td>\n",
       "      <td>NaN</td>\n",
       "      <td>NaN</td>\n",
       "      <td>NaN</td>\n",
       "      <td>NaN</td>\n",
       "      <td>0.75</td>\n",
       "      <td>10.0</td>\n",
       "      <td>1.0</td>\n",
       "      <td>0.0</td>\n",
       "      <td>0.0</td>\n",
       "      <td>0.0</td>\n",
       "      <td>0.0</td>\n",
       "      <td>0.0</td>\n",
       "      <td>0.0</td>\n",
       "      <td>0.0</td>\n",
       "      <td>0.0</td>\n",
       "      <td>0.0</td>\n",
       "      <td>0.0</td>\n",
       "      <td>0.0</td>\n",
       "      <td>0.0</td>\n",
       "      <td>0.0</td>\n",
       "      <td>0.0</td>\n",
       "      <td>0.0</td>\n",
       "      <td>0.0</td>\n",
       "      <td>0.0</td>\n",
       "      <td>0.0</td>\n",
       "      <td>0.0</td>\n",
       "      <td>0.0</td>\n",
       "      <td>0.0</td>\n",
       "      <td>0.0</td>\n",
       "      <td>0.0</td>\n",
       "      <td>0.0</td>\n",
       "      <td>0.0</td>\n",
       "      <td>0.0</td>\n",
       "      <td>0.0</td>\n",
       "      <td>0.0</td>\n",
       "      <td>0.0</td>\n",
       "      <td>1.0</td>\n",
       "      <td>0.0</td>\n",
       "      <td>0.0</td>\n",
       "      <td>0.0</td>\n",
       "      <td>0.0</td>\n",
       "      <td>0.0</td>\n",
       "      <td>0.0</td>\n",
       "      <td>0.0</td>\n",
       "      <td>0.0</td>\n",
       "      <td>0.0</td>\n",
       "      <td>0.0</td>\n",
       "      <td>0.0</td>\n",
       "      <td>0.0</td>\n",
       "      <td>0.0</td>\n",
       "      <td>1.0</td>\n",
       "      <td>0.0</td>\n",
       "      <td>0.0</td>\n",
       "      <td>1.0</td>\n",
       "      <td>0.0</td>\n",
       "      <td>0.0</td>\n",
       "      <td>0.0</td>\n",
       "      <td>0.0</td>\n",
       "      <td>1.0</td>\n",
       "      <td>0.0</td>\n",
       "      <td>0.0</td>\n",
       "      <td>1.0</td>\n",
       "      <td>0.0</td>\n",
       "      <td>0.0</td>\n",
       "      <td>0.0</td>\n",
       "      <td>0.0</td>\n",
       "      <td>0.0</td>\n",
       "      <td>0.0</td>\n",
       "      <td>1.0</td>\n",
       "      <td>0.0</td>\n",
       "      <td>0.0</td>\n",
       "      <td>1.0</td>\n",
       "      <td>0.0</td>\n",
       "      <td>1.0</td>\n",
       "      <td>0.0</td>\n",
       "      <td>0.0</td>\n",
       "      <td>0.0</td>\n",
       "      <td>0.0</td>\n",
       "      <td>0.0</td>\n",
       "      <td>0.0</td>\n",
       "      <td>0.0</td>\n",
       "      <td>0.0</td>\n",
       "      <td>0.0</td>\n",
       "      <td>0.0</td>\n",
       "      <td>0.0</td>\n",
       "      <td>1.0</td>\n",
       "      <td>1.0</td>\n",
       "      <td>0.0</td>\n",
       "      <td>0.0</td>\n",
       "      <td>1.0</td>\n",
       "      <td>1.0</td>\n",
       "      <td>21.25</td>\n",
       "      <td>21.25</td>\n",
       "    </tr>\n",
       "  </tbody>\n",
       "</table>\n",
       "</div>"
      ],
      "text/plain": [
       "   listing_id       date  available  month month_name  week  price_usd_cal  \\\n",
       "0      241032 2016-01-04       True      1    January     1           85.0   \n",
       "1      241032 2016-01-05       True      1    January     1           85.0   \n",
       "\n",
       "                           listing_url     scrape_id last_scraped  \\\n",
       "0  https://www.airbnb.com/rooms/241032  2.016010e+13   2016-01-04   \n",
       "1  https://www.airbnb.com/rooms/241032  2.016010e+13   2016-01-04   \n",
       "\n",
       "                           name summary  \\\n",
       "0  Stylish Queen Anne Apartment     NaN   \n",
       "1  Stylish Queen Anne Apartment     NaN   \n",
       "\n",
       "                                               space  \\\n",
       "0  Make your self at home in this charming one-be...   \n",
       "1  Make your self at home in this charming one-be...   \n",
       "\n",
       "                                         description experiences_offered  \\\n",
       "0  Make your self at home in this charming one-be...                none   \n",
       "1  Make your self at home in this charming one-be...                none   \n",
       "\n",
       "  neighborhood_overview notes transit  \\\n",
       "0                   NaN   NaN     NaN   \n",
       "1                   NaN   NaN     NaN   \n",
       "\n",
       "                                         picture_url   host_id  \\\n",
       "0  https://a1.muscache.com/ac/pictures/67560560/c...  956883.0   \n",
       "1  https://a1.muscache.com/ac/pictures/67560560/c...  956883.0   \n",
       "\n",
       "                                   host_url host_name host_since  \\\n",
       "0  https://www.airbnb.com/users/show/956883     Maija 2011-08-11   \n",
       "1  https://www.airbnb.com/users/show/956883     Maija 2011-08-11   \n",
       "\n",
       "                                          host_about  host_response_rate  \\\n",
       "0  I am an artist, interior designer, and run a s...                96.0   \n",
       "1  I am an artist, interior designer, and run a s...                96.0   \n",
       "\n",
       "   host_acceptance_rate host_is_superhost  \\\n",
       "0                 100.0             False   \n",
       "1                 100.0             False   \n",
       "\n",
       "                                  host_thumbnail_url  \\\n",
       "0  https://a0.muscache.com/ac/users/956883/profil...   \n",
       "1  https://a0.muscache.com/ac/users/956883/profil...   \n",
       "\n",
       "                                    host_picture_url host_neighbourhood  \\\n",
       "0  https://a0.muscache.com/ac/users/956883/profil...         Queen Anne   \n",
       "1  https://a0.muscache.com/ac/users/956883/profil...         Queen Anne   \n",
       "\n",
       "   host_listings_count  host_total_listings_count host_has_profile_pic  \\\n",
       "0                  3.0                        3.0                 True   \n",
       "1                  3.0                        3.0                 True   \n",
       "\n",
       "  host_identity_verified                                         street  \\\n",
       "0                   True  Gilman Dr W, Seattle, WA 98119, United States   \n",
       "1                   True  Gilman Dr W, Seattle, WA 98119, United States   \n",
       "\n",
       "  neighbourhood neighbourhood_cleansed neighbourhood_group_cleansed     city  \\\n",
       "0    Queen Anne        West Queen Anne                   Queen Anne  Seattle   \n",
       "1    Queen Anne        West Queen Anne                   Queen Anne  Seattle   \n",
       "\n",
       "  zipcode   latitude   longitude is_location_exact property_type  \\\n",
       "0   98119  47.636289 -122.371025              True     apartment   \n",
       "1   98119  47.636289 -122.371025              True     apartment   \n",
       "\n",
       "         room_type  accommodates  bathrooms  bedrooms  beds  bed_type  \\\n",
       "0  Entire home/apt           4.0        1.0       1.0   1.0  Real Bed   \n",
       "1  Entire home/apt           4.0        1.0       1.0   1.0  Real Bed   \n",
       "\n",
       "   square_feet  guests_included  minimum_nights  maximum_nights  \\\n",
       "0          NaN              2.0             1.0           365.0   \n",
       "1          NaN              2.0             1.0           365.0   \n",
       "\n",
       "  calendar_updated has_availability  availability_30  availability_60  \\\n",
       "0      4 weeks ago             True             14.0             41.0   \n",
       "1      4 weeks ago             True             14.0             41.0   \n",
       "\n",
       "   availability_90  availability_365 calendar_last_scraped  number_of_reviews  \\\n",
       "0             71.0             346.0            2016-01-04              207.0   \n",
       "1             71.0             346.0            2016-01-04              207.0   \n",
       "\n",
       "  first_review last_review  review_scores_rating  review_scores_accuracy  \\\n",
       "0   2011-11-01  2016-01-02                  95.0                    10.0   \n",
       "1   2011-11-01  2016-01-02                  95.0                    10.0   \n",
       "\n",
       "   review_scores_cleanliness  review_scores_checkin  \\\n",
       "0                       10.0                   10.0   \n",
       "1                       10.0                   10.0   \n",
       "\n",
       "   review_scores_communication  review_scores_location  review_scores_value  \\\n",
       "0                         10.0                     9.0                 10.0   \n",
       "1                         10.0                     9.0                 10.0   \n",
       "\n",
       "  requires_license  license instant_bookable cancellation_policy  \\\n",
       "0            False      NaN            False            moderate   \n",
       "1            False      NaN            False            moderate   \n",
       "\n",
       "  require_guest_profile_picture require_guest_phone_verification  \\\n",
       "0                         False                            False   \n",
       "1                         False                            False   \n",
       "\n",
       "   calculated_host_listings_count  reviews_per_month  price_usd  \\\n",
       "0                             2.0               4.07       85.0   \n",
       "1                             2.0               4.07       85.0   \n",
       "\n",
       "   extra_people_usd  weekly_price_usd  monthly_price_usd  \\\n",
       "0               5.0               NaN                NaN   \n",
       "1               5.0               NaN                NaN   \n",
       "\n",
       "   security_deposit_usd  cleaning_fee_usd  host_response_time_val  \\\n",
       "0                   NaN               NaN                    0.75   \n",
       "1                   NaN               NaN                    0.75   \n",
       "\n",
       "   nr_amenities  property_type_apartment  property_type_bed_breakfast  \\\n",
       "0          10.0                      1.0                          0.0   \n",
       "1          10.0                      1.0                          0.0   \n",
       "\n",
       "   property_type_boat  property_type_bungalow  property_type_cabin  \\\n",
       "0                 0.0                     0.0                  0.0   \n",
       "1                 0.0                     0.0                  0.0   \n",
       "\n",
       "   property_type_camper_rv  property_type_chalet  property_type_condominium  \\\n",
       "0                      0.0                   0.0                        0.0   \n",
       "1                      0.0                   0.0                        0.0   \n",
       "\n",
       "   property_type_dorm  property_type_house  property_type_loft  \\\n",
       "0                 0.0                  0.0                 0.0   \n",
       "1                 0.0                  0.0                 0.0   \n",
       "\n",
       "   property_type_other  property_type_tent  property_type_townhouse  \\\n",
       "0                  0.0                 0.0                      0.0   \n",
       "1                  0.0                 0.0                      0.0   \n",
       "\n",
       "   property_type_treehouse  property_type_yurt  zipcode_98101  zipcode_98102  \\\n",
       "0                      0.0                 0.0            0.0            0.0   \n",
       "1                      0.0                 0.0            0.0            0.0   \n",
       "\n",
       "   zipcode_98103  zipcode_98104  zipcode_98105  zipcode_98106  zipcode_98107  \\\n",
       "0            0.0            0.0            0.0            0.0            0.0   \n",
       "1            0.0            0.0            0.0            0.0            0.0   \n",
       "\n",
       "   zipcode_98108  zipcode_98109  zipcode_98112  zipcode_98115  zipcode_98116  \\\n",
       "0            0.0            0.0            0.0            0.0            0.0   \n",
       "1            0.0            0.0            0.0            0.0            0.0   \n",
       "\n",
       "   zipcode_98117  zipcode_98118  zipcode_98119  zipcode_98121  zipcode_98122  \\\n",
       "0            0.0            0.0            1.0            0.0            0.0   \n",
       "1            0.0            0.0            1.0            0.0            0.0   \n",
       "\n",
       "   zipcode_98125  zipcode_98126  zipcode_98133  zipcode_98134  zipcode_98136  \\\n",
       "0            0.0            0.0            0.0            0.0            0.0   \n",
       "1            0.0            0.0            0.0            0.0            0.0   \n",
       "\n",
       "   zipcode_98144  zipcode_98146  zipcode_98177  zipcode_98178  zipcode_98199  \\\n",
       "0            0.0            0.0            0.0            0.0            0.0   \n",
       "1            0.0            0.0            0.0            0.0            0.0   \n",
       "\n",
       "   amenity_24-hour_check-in  amenity_air_conditioning  amenity_breakfast  \\\n",
       "0                       0.0                       1.0                0.0   \n",
       "1                       0.0                       1.0                0.0   \n",
       "\n",
       "   amenity_buzzer_wireless_intercom  amenity_cable_tv  \\\n",
       "0                               0.0               1.0   \n",
       "1                               0.0               1.0   \n",
       "\n",
       "   amenity_carbon_monoxide_detector  amenity_cat  amenity_dog  \\\n",
       "0                               0.0          0.0          0.0   \n",
       "1                               0.0          0.0          0.0   \n",
       "\n",
       "   amenity_doorman  amenity_dryer  amenity_elevator_in_building  \\\n",
       "0              0.0            1.0                           0.0   \n",
       "1              0.0            1.0                           0.0   \n",
       "\n",
       "   amenity_essentials  amenity_family_kid_friendly  amenity_fire_extinguisher  \\\n",
       "0                 0.0                          1.0                        0.0   \n",
       "1                 0.0                          1.0                        0.0   \n",
       "\n",
       "   amenity_first_aid_kit  amenity_free_parking_on_premises  amenity_gym  \\\n",
       "0                    0.0                               0.0          0.0   \n",
       "1                    0.0                               0.0          0.0   \n",
       "\n",
       "   amenity_hair_dryer  amenity_hangers  amenity_heating  amenity_hot_tub  \\\n",
       "0                 0.0              0.0              1.0              0.0   \n",
       "1                 0.0              0.0              1.0              0.0   \n",
       "\n",
       "   amenity_indoor_fireplace  amenity_internet  amenity_iron  amenity_kitchen  \\\n",
       "0                       0.0               1.0           0.0              1.0   \n",
       "1                       0.0               1.0           0.0              1.0   \n",
       "\n",
       "   amenity_laptop_friendly_workspace  amenity_lock_on_bedroom_door  \\\n",
       "0                                0.0                           0.0   \n",
       "1                                0.0                           0.0   \n",
       "\n",
       "   amenity_other_pet  amenity_pets_allowed  \\\n",
       "0                0.0                   0.0   \n",
       "1                0.0                   0.0   \n",
       "\n",
       "   amenity_pets_live_on_this_property  amenity_pool  amenity_safety_card  \\\n",
       "0                                 0.0           0.0                  0.0   \n",
       "1                                 0.0           0.0                  0.0   \n",
       "\n",
       "   amenity_shampoo  amenity_smoke_detector  amenity_smoking_allowed  \\\n",
       "0              0.0                     0.0                      0.0   \n",
       "1              0.0                     0.0                      0.0   \n",
       "\n",
       "   amenity_suitable_for_events  amenity_tv  amenity_washer  \\\n",
       "0                          0.0         1.0             1.0   \n",
       "1                          0.0         1.0             1.0   \n",
       "\n",
       "   amenity_washer___dryer  amenity_wheelchair_accessible  \\\n",
       "0                     0.0                            0.0   \n",
       "1                     0.0                            0.0   \n",
       "\n",
       "   amenity_wireless_internet  price_fluc  price_p_accom  price_p_accom_cal  \n",
       "0                        1.0         1.0          21.25              21.25  \n",
       "1                        1.0         1.0          21.25              21.25  "
      ]
     },
     "execution_count": 19,
     "metadata": {},
     "output_type": "execute_result"
    }
   ],
   "source": [
    "df_merge = df_cal.join(df_list.set_index('listing_id'), on = 'listing_id', lsuffix='_cal', rsuffix='_list')\n",
    "\n",
    "df_merge = df_merge[df_merge['available'] == True]\n",
    "\n",
    "# calculate some values concernung prices \n",
    "df_merge['price_fluc'] = df_merge['price_usd_cal'] / df_merge['price_usd']\n",
    "df_merge['price_p_accom'] = df_merge['price_usd'] / df_merge['accommodates']\n",
    "df_merge['price_p_accom_cal'] = df_merge['price_usd_cal'] / df_merge['accommodates']\n",
    "df_merge.head(2)"
   ]
  },
  {
   "cell_type": "markdown",
   "metadata": {},
   "source": [
    "### Analyze the data\n",
    "\n",
    "In the following the data shall be analyzed and following questions answered:\n",
    "1) Which property types are available?\n",
    "2) How is the price per accomodate distributed? \n",
    "3) Are there price fluctuation over the year?\n",
    "4) Can a linear regression model be used to model the price per accomodate? "
   ]
  },
  {
   "cell_type": "code",
   "execution_count": 20,
   "metadata": {},
   "outputs": [
    {
     "data": {
      "text/html": [
       "<div>\n",
       "<style scoped>\n",
       "    .dataframe tbody tr th:only-of-type {\n",
       "        vertical-align: middle;\n",
       "    }\n",
       "\n",
       "    .dataframe tbody tr th {\n",
       "        vertical-align: top;\n",
       "    }\n",
       "\n",
       "    .dataframe thead th {\n",
       "        text-align: right;\n",
       "    }\n",
       "</style>\n",
       "<table border=\"1\" class=\"dataframe\">\n",
       "  <thead>\n",
       "    <tr style=\"text-align: right;\">\n",
       "      <th></th>\n",
       "      <th>listing_id</th>\n",
       "      <th>listing_url</th>\n",
       "      <th>scrape_id</th>\n",
       "      <th>last_scraped</th>\n",
       "      <th>name</th>\n",
       "      <th>summary</th>\n",
       "      <th>space</th>\n",
       "      <th>description</th>\n",
       "      <th>experiences_offered</th>\n",
       "      <th>neighborhood_overview</th>\n",
       "      <th>notes</th>\n",
       "      <th>transit</th>\n",
       "      <th>picture_url</th>\n",
       "      <th>host_id</th>\n",
       "      <th>host_url</th>\n",
       "      <th>host_name</th>\n",
       "      <th>host_since</th>\n",
       "      <th>host_about</th>\n",
       "      <th>host_response_rate</th>\n",
       "      <th>host_acceptance_rate</th>\n",
       "      <th>host_is_superhost</th>\n",
       "      <th>host_thumbnail_url</th>\n",
       "      <th>host_picture_url</th>\n",
       "      <th>host_neighbourhood</th>\n",
       "      <th>host_listings_count</th>\n",
       "      <th>host_total_listings_count</th>\n",
       "      <th>host_has_profile_pic</th>\n",
       "      <th>host_identity_verified</th>\n",
       "      <th>street</th>\n",
       "      <th>neighbourhood</th>\n",
       "      <th>neighbourhood_cleansed</th>\n",
       "      <th>neighbourhood_group_cleansed</th>\n",
       "      <th>city</th>\n",
       "      <th>zipcode</th>\n",
       "      <th>latitude</th>\n",
       "      <th>longitude</th>\n",
       "      <th>is_location_exact</th>\n",
       "      <th>property_type</th>\n",
       "      <th>room_type</th>\n",
       "      <th>accommodates</th>\n",
       "      <th>bathrooms</th>\n",
       "      <th>bedrooms</th>\n",
       "      <th>beds</th>\n",
       "      <th>bed_type</th>\n",
       "      <th>square_feet</th>\n",
       "      <th>guests_included</th>\n",
       "      <th>minimum_nights</th>\n",
       "      <th>maximum_nights</th>\n",
       "      <th>calendar_updated</th>\n",
       "      <th>has_availability</th>\n",
       "      <th>availability_30</th>\n",
       "      <th>availability_60</th>\n",
       "      <th>availability_90</th>\n",
       "      <th>availability_365</th>\n",
       "      <th>calendar_last_scraped</th>\n",
       "      <th>number_of_reviews</th>\n",
       "      <th>first_review</th>\n",
       "      <th>last_review</th>\n",
       "      <th>review_scores_rating</th>\n",
       "      <th>review_scores_accuracy</th>\n",
       "      <th>review_scores_cleanliness</th>\n",
       "      <th>review_scores_checkin</th>\n",
       "      <th>review_scores_communication</th>\n",
       "      <th>review_scores_location</th>\n",
       "      <th>review_scores_value</th>\n",
       "      <th>requires_license</th>\n",
       "      <th>license</th>\n",
       "      <th>instant_bookable</th>\n",
       "      <th>cancellation_policy</th>\n",
       "      <th>require_guest_profile_picture</th>\n",
       "      <th>require_guest_phone_verification</th>\n",
       "      <th>calculated_host_listings_count</th>\n",
       "      <th>reviews_per_month</th>\n",
       "      <th>price_usd</th>\n",
       "      <th>extra_people_usd</th>\n",
       "      <th>weekly_price_usd</th>\n",
       "      <th>monthly_price_usd</th>\n",
       "      <th>security_deposit_usd</th>\n",
       "      <th>cleaning_fee_usd</th>\n",
       "      <th>host_response_time_val</th>\n",
       "      <th>nr_amenities</th>\n",
       "      <th>property_type_apartment</th>\n",
       "      <th>property_type_bed_breakfast</th>\n",
       "      <th>property_type_boat</th>\n",
       "      <th>property_type_bungalow</th>\n",
       "      <th>property_type_cabin</th>\n",
       "      <th>property_type_camper_rv</th>\n",
       "      <th>property_type_chalet</th>\n",
       "      <th>property_type_condominium</th>\n",
       "      <th>property_type_dorm</th>\n",
       "      <th>property_type_house</th>\n",
       "      <th>property_type_loft</th>\n",
       "      <th>property_type_other</th>\n",
       "      <th>property_type_tent</th>\n",
       "      <th>property_type_townhouse</th>\n",
       "      <th>property_type_treehouse</th>\n",
       "      <th>property_type_yurt</th>\n",
       "      <th>zipcode_98101</th>\n",
       "      <th>zipcode_98102</th>\n",
       "      <th>zipcode_98103</th>\n",
       "      <th>zipcode_98104</th>\n",
       "      <th>zipcode_98105</th>\n",
       "      <th>zipcode_98106</th>\n",
       "      <th>zipcode_98107</th>\n",
       "      <th>zipcode_98108</th>\n",
       "      <th>zipcode_98109</th>\n",
       "      <th>zipcode_98112</th>\n",
       "      <th>zipcode_98115</th>\n",
       "      <th>zipcode_98116</th>\n",
       "      <th>zipcode_98117</th>\n",
       "      <th>zipcode_98118</th>\n",
       "      <th>zipcode_98119</th>\n",
       "      <th>zipcode_98121</th>\n",
       "      <th>zipcode_98122</th>\n",
       "      <th>zipcode_98125</th>\n",
       "      <th>zipcode_98126</th>\n",
       "      <th>zipcode_98133</th>\n",
       "      <th>zipcode_98134</th>\n",
       "      <th>zipcode_98136</th>\n",
       "      <th>zipcode_98144</th>\n",
       "      <th>zipcode_98146</th>\n",
       "      <th>zipcode_98177</th>\n",
       "      <th>zipcode_98178</th>\n",
       "      <th>zipcode_98199</th>\n",
       "      <th>amenity_24-hour_check-in</th>\n",
       "      <th>amenity_air_conditioning</th>\n",
       "      <th>amenity_breakfast</th>\n",
       "      <th>amenity_buzzer_wireless_intercom</th>\n",
       "      <th>amenity_cable_tv</th>\n",
       "      <th>amenity_carbon_monoxide_detector</th>\n",
       "      <th>amenity_cat</th>\n",
       "      <th>amenity_dog</th>\n",
       "      <th>amenity_doorman</th>\n",
       "      <th>amenity_dryer</th>\n",
       "      <th>amenity_elevator_in_building</th>\n",
       "      <th>amenity_essentials</th>\n",
       "      <th>amenity_family_kid_friendly</th>\n",
       "      <th>amenity_fire_extinguisher</th>\n",
       "      <th>amenity_first_aid_kit</th>\n",
       "      <th>amenity_free_parking_on_premises</th>\n",
       "      <th>amenity_gym</th>\n",
       "      <th>amenity_hair_dryer</th>\n",
       "      <th>amenity_hangers</th>\n",
       "      <th>amenity_heating</th>\n",
       "      <th>amenity_hot_tub</th>\n",
       "      <th>amenity_indoor_fireplace</th>\n",
       "      <th>amenity_internet</th>\n",
       "      <th>amenity_iron</th>\n",
       "      <th>amenity_kitchen</th>\n",
       "      <th>amenity_laptop_friendly_workspace</th>\n",
       "      <th>amenity_lock_on_bedroom_door</th>\n",
       "      <th>amenity_other_pet</th>\n",
       "      <th>amenity_pets_allowed</th>\n",
       "      <th>amenity_pets_live_on_this_property</th>\n",
       "      <th>amenity_pool</th>\n",
       "      <th>amenity_safety_card</th>\n",
       "      <th>amenity_shampoo</th>\n",
       "      <th>amenity_smoke_detector</th>\n",
       "      <th>amenity_smoking_allowed</th>\n",
       "      <th>amenity_suitable_for_events</th>\n",
       "      <th>amenity_tv</th>\n",
       "      <th>amenity_washer</th>\n",
       "      <th>amenity_washer___dryer</th>\n",
       "      <th>amenity_wheelchair_accessible</th>\n",
       "      <th>amenity_wireless_internet</th>\n",
       "    </tr>\n",
       "  </thead>\n",
       "  <tbody>\n",
       "    <tr>\n",
       "      <th>0</th>\n",
       "      <td>241032.0</td>\n",
       "      <td>https://www.airbnb.com/rooms/241032</td>\n",
       "      <td>2.016010e+13</td>\n",
       "      <td>2016-01-04</td>\n",
       "      <td>Stylish Queen Anne Apartment</td>\n",
       "      <td>NaN</td>\n",
       "      <td>Make your self at home in this charming one-be...</td>\n",
       "      <td>Make your self at home in this charming one-be...</td>\n",
       "      <td>none</td>\n",
       "      <td>NaN</td>\n",
       "      <td>NaN</td>\n",
       "      <td>NaN</td>\n",
       "      <td>https://a1.muscache.com/ac/pictures/67560560/c...</td>\n",
       "      <td>956883.0</td>\n",
       "      <td>https://www.airbnb.com/users/show/956883</td>\n",
       "      <td>Maija</td>\n",
       "      <td>2011-08-11</td>\n",
       "      <td>I am an artist, interior designer, and run a s...</td>\n",
       "      <td>96.0</td>\n",
       "      <td>100.0</td>\n",
       "      <td>False</td>\n",
       "      <td>https://a0.muscache.com/ac/users/956883/profil...</td>\n",
       "      <td>https://a0.muscache.com/ac/users/956883/profil...</td>\n",
       "      <td>Queen Anne</td>\n",
       "      <td>3.0</td>\n",
       "      <td>3.0</td>\n",
       "      <td>True</td>\n",
       "      <td>True</td>\n",
       "      <td>Gilman Dr W, Seattle, WA 98119, United States</td>\n",
       "      <td>Queen Anne</td>\n",
       "      <td>West Queen Anne</td>\n",
       "      <td>Queen Anne</td>\n",
       "      <td>Seattle</td>\n",
       "      <td>98119</td>\n",
       "      <td>47.636289</td>\n",
       "      <td>-122.371025</td>\n",
       "      <td>True</td>\n",
       "      <td>apartment</td>\n",
       "      <td>Entire home/apt</td>\n",
       "      <td>4.0</td>\n",
       "      <td>1.0</td>\n",
       "      <td>1.0</td>\n",
       "      <td>1.0</td>\n",
       "      <td>Real Bed</td>\n",
       "      <td>NaN</td>\n",
       "      <td>2.0</td>\n",
       "      <td>1.0</td>\n",
       "      <td>365.0</td>\n",
       "      <td>4 weeks ago</td>\n",
       "      <td>True</td>\n",
       "      <td>14.0</td>\n",
       "      <td>41.0</td>\n",
       "      <td>71.0</td>\n",
       "      <td>346.0</td>\n",
       "      <td>2016-01-04</td>\n",
       "      <td>207.0</td>\n",
       "      <td>2011-11-01</td>\n",
       "      <td>2016-01-02</td>\n",
       "      <td>95.0</td>\n",
       "      <td>10.0</td>\n",
       "      <td>10.0</td>\n",
       "      <td>10.0</td>\n",
       "      <td>10.0</td>\n",
       "      <td>9.0</td>\n",
       "      <td>10.0</td>\n",
       "      <td>False</td>\n",
       "      <td>NaN</td>\n",
       "      <td>False</td>\n",
       "      <td>moderate</td>\n",
       "      <td>False</td>\n",
       "      <td>False</td>\n",
       "      <td>2.0</td>\n",
       "      <td>4.07</td>\n",
       "      <td>85.0</td>\n",
       "      <td>5.0</td>\n",
       "      <td>NaN</td>\n",
       "      <td>NaN</td>\n",
       "      <td>NaN</td>\n",
       "      <td>NaN</td>\n",
       "      <td>0.75</td>\n",
       "      <td>10.0</td>\n",
       "      <td>1</td>\n",
       "      <td>0</td>\n",
       "      <td>0</td>\n",
       "      <td>0</td>\n",
       "      <td>0</td>\n",
       "      <td>0</td>\n",
       "      <td>0</td>\n",
       "      <td>0</td>\n",
       "      <td>0</td>\n",
       "      <td>0</td>\n",
       "      <td>0</td>\n",
       "      <td>0</td>\n",
       "      <td>0</td>\n",
       "      <td>0</td>\n",
       "      <td>0</td>\n",
       "      <td>0</td>\n",
       "      <td>0.0</td>\n",
       "      <td>0.0</td>\n",
       "      <td>0.0</td>\n",
       "      <td>0.0</td>\n",
       "      <td>0.0</td>\n",
       "      <td>0.0</td>\n",
       "      <td>0.0</td>\n",
       "      <td>0.0</td>\n",
       "      <td>0.0</td>\n",
       "      <td>0.0</td>\n",
       "      <td>0.0</td>\n",
       "      <td>0.0</td>\n",
       "      <td>0.0</td>\n",
       "      <td>0.0</td>\n",
       "      <td>1.0</td>\n",
       "      <td>0.0</td>\n",
       "      <td>0.0</td>\n",
       "      <td>0.0</td>\n",
       "      <td>0.0</td>\n",
       "      <td>0.0</td>\n",
       "      <td>0.0</td>\n",
       "      <td>0.0</td>\n",
       "      <td>0.0</td>\n",
       "      <td>0.0</td>\n",
       "      <td>0.0</td>\n",
       "      <td>0.0</td>\n",
       "      <td>0.0</td>\n",
       "      <td>0.0</td>\n",
       "      <td>1.0</td>\n",
       "      <td>0.0</td>\n",
       "      <td>0.0</td>\n",
       "      <td>1.0</td>\n",
       "      <td>0.0</td>\n",
       "      <td>0.0</td>\n",
       "      <td>0.0</td>\n",
       "      <td>0.0</td>\n",
       "      <td>1.0</td>\n",
       "      <td>0.0</td>\n",
       "      <td>0.0</td>\n",
       "      <td>1.0</td>\n",
       "      <td>0.0</td>\n",
       "      <td>0.0</td>\n",
       "      <td>0.0</td>\n",
       "      <td>0.0</td>\n",
       "      <td>0.0</td>\n",
       "      <td>0.0</td>\n",
       "      <td>1.0</td>\n",
       "      <td>0.0</td>\n",
       "      <td>0.0</td>\n",
       "      <td>1.0</td>\n",
       "      <td>0.0</td>\n",
       "      <td>1.0</td>\n",
       "      <td>0.0</td>\n",
       "      <td>0.0</td>\n",
       "      <td>0.0</td>\n",
       "      <td>0.0</td>\n",
       "      <td>0.0</td>\n",
       "      <td>0.0</td>\n",
       "      <td>0.0</td>\n",
       "      <td>0.0</td>\n",
       "      <td>0.0</td>\n",
       "      <td>0.0</td>\n",
       "      <td>0.0</td>\n",
       "      <td>1.0</td>\n",
       "      <td>1.0</td>\n",
       "      <td>0.0</td>\n",
       "      <td>0.0</td>\n",
       "      <td>1.0</td>\n",
       "    </tr>\n",
       "    <tr>\n",
       "      <th>1</th>\n",
       "      <td>953595.0</td>\n",
       "      <td>https://www.airbnb.com/rooms/953595</td>\n",
       "      <td>2.016010e+13</td>\n",
       "      <td>2016-01-04</td>\n",
       "      <td>Bright &amp; Airy Queen Anne Apartment</td>\n",
       "      <td>Chemically sensitive? We've removed the irrita...</td>\n",
       "      <td>Beautiful, hypoallergenic apartment in an extr...</td>\n",
       "      <td>Chemically sensitive? We've removed the irrita...</td>\n",
       "      <td>none</td>\n",
       "      <td>Queen Anne is a wonderful, truly functional vi...</td>\n",
       "      <td>What's up with the free pillows?  Our home was...</td>\n",
       "      <td>Convenient bus stops are just down the block, ...</td>\n",
       "      <td>https://a0.muscache.com/ac/pictures/14409893/f...</td>\n",
       "      <td>5177328.0</td>\n",
       "      <td>https://www.airbnb.com/users/show/5177328</td>\n",
       "      <td>Andrea</td>\n",
       "      <td>2013-02-21</td>\n",
       "      <td>Living east coast/left coast/overseas.  Time i...</td>\n",
       "      <td>98.0</td>\n",
       "      <td>100.0</td>\n",
       "      <td>True</td>\n",
       "      <td>https://a0.muscache.com/ac/users/5177328/profi...</td>\n",
       "      <td>https://a0.muscache.com/ac/users/5177328/profi...</td>\n",
       "      <td>Queen Anne</td>\n",
       "      <td>6.0</td>\n",
       "      <td>6.0</td>\n",
       "      <td>True</td>\n",
       "      <td>True</td>\n",
       "      <td>7th Avenue West, Seattle, WA 98119, United States</td>\n",
       "      <td>Queen Anne</td>\n",
       "      <td>West Queen Anne</td>\n",
       "      <td>Queen Anne</td>\n",
       "      <td>Seattle</td>\n",
       "      <td>98119</td>\n",
       "      <td>47.639123</td>\n",
       "      <td>-122.365666</td>\n",
       "      <td>True</td>\n",
       "      <td>apartment</td>\n",
       "      <td>Entire home/apt</td>\n",
       "      <td>4.0</td>\n",
       "      <td>1.0</td>\n",
       "      <td>1.0</td>\n",
       "      <td>1.0</td>\n",
       "      <td>Real Bed</td>\n",
       "      <td>NaN</td>\n",
       "      <td>1.0</td>\n",
       "      <td>2.0</td>\n",
       "      <td>90.0</td>\n",
       "      <td>today</td>\n",
       "      <td>True</td>\n",
       "      <td>13.0</td>\n",
       "      <td>13.0</td>\n",
       "      <td>16.0</td>\n",
       "      <td>291.0</td>\n",
       "      <td>2016-01-04</td>\n",
       "      <td>43.0</td>\n",
       "      <td>2013-08-19</td>\n",
       "      <td>2015-12-29</td>\n",
       "      <td>96.0</td>\n",
       "      <td>10.0</td>\n",
       "      <td>10.0</td>\n",
       "      <td>10.0</td>\n",
       "      <td>10.0</td>\n",
       "      <td>10.0</td>\n",
       "      <td>10.0</td>\n",
       "      <td>False</td>\n",
       "      <td>NaN</td>\n",
       "      <td>False</td>\n",
       "      <td>strict</td>\n",
       "      <td>True</td>\n",
       "      <td>True</td>\n",
       "      <td>6.0</td>\n",
       "      <td>1.48</td>\n",
       "      <td>150.0</td>\n",
       "      <td>0.0</td>\n",
       "      <td>1000.0</td>\n",
       "      <td>3000.0</td>\n",
       "      <td>100.0</td>\n",
       "      <td>40.0</td>\n",
       "      <td>1.00</td>\n",
       "      <td>16.0</td>\n",
       "      <td>1</td>\n",
       "      <td>0</td>\n",
       "      <td>0</td>\n",
       "      <td>0</td>\n",
       "      <td>0</td>\n",
       "      <td>0</td>\n",
       "      <td>0</td>\n",
       "      <td>0</td>\n",
       "      <td>0</td>\n",
       "      <td>0</td>\n",
       "      <td>0</td>\n",
       "      <td>0</td>\n",
       "      <td>0</td>\n",
       "      <td>0</td>\n",
       "      <td>0</td>\n",
       "      <td>0</td>\n",
       "      <td>0.0</td>\n",
       "      <td>0.0</td>\n",
       "      <td>0.0</td>\n",
       "      <td>0.0</td>\n",
       "      <td>0.0</td>\n",
       "      <td>0.0</td>\n",
       "      <td>0.0</td>\n",
       "      <td>0.0</td>\n",
       "      <td>0.0</td>\n",
       "      <td>0.0</td>\n",
       "      <td>0.0</td>\n",
       "      <td>0.0</td>\n",
       "      <td>0.0</td>\n",
       "      <td>0.0</td>\n",
       "      <td>1.0</td>\n",
       "      <td>0.0</td>\n",
       "      <td>0.0</td>\n",
       "      <td>0.0</td>\n",
       "      <td>0.0</td>\n",
       "      <td>0.0</td>\n",
       "      <td>0.0</td>\n",
       "      <td>0.0</td>\n",
       "      <td>0.0</td>\n",
       "      <td>0.0</td>\n",
       "      <td>0.0</td>\n",
       "      <td>0.0</td>\n",
       "      <td>0.0</td>\n",
       "      <td>0.0</td>\n",
       "      <td>0.0</td>\n",
       "      <td>0.0</td>\n",
       "      <td>1.0</td>\n",
       "      <td>0.0</td>\n",
       "      <td>1.0</td>\n",
       "      <td>0.0</td>\n",
       "      <td>0.0</td>\n",
       "      <td>0.0</td>\n",
       "      <td>1.0</td>\n",
       "      <td>0.0</td>\n",
       "      <td>1.0</td>\n",
       "      <td>1.0</td>\n",
       "      <td>1.0</td>\n",
       "      <td>1.0</td>\n",
       "      <td>1.0</td>\n",
       "      <td>0.0</td>\n",
       "      <td>0.0</td>\n",
       "      <td>0.0</td>\n",
       "      <td>1.0</td>\n",
       "      <td>0.0</td>\n",
       "      <td>0.0</td>\n",
       "      <td>1.0</td>\n",
       "      <td>0.0</td>\n",
       "      <td>1.0</td>\n",
       "      <td>0.0</td>\n",
       "      <td>0.0</td>\n",
       "      <td>0.0</td>\n",
       "      <td>0.0</td>\n",
       "      <td>0.0</td>\n",
       "      <td>0.0</td>\n",
       "      <td>1.0</td>\n",
       "      <td>0.0</td>\n",
       "      <td>1.0</td>\n",
       "      <td>0.0</td>\n",
       "      <td>0.0</td>\n",
       "      <td>1.0</td>\n",
       "      <td>1.0</td>\n",
       "      <td>0.0</td>\n",
       "      <td>0.0</td>\n",
       "      <td>1.0</td>\n",
       "    </tr>\n",
       "  </tbody>\n",
       "</table>\n",
       "</div>"
      ],
      "text/plain": [
       "   listing_id                          listing_url     scrape_id last_scraped  \\\n",
       "0    241032.0  https://www.airbnb.com/rooms/241032  2.016010e+13   2016-01-04   \n",
       "1    953595.0  https://www.airbnb.com/rooms/953595  2.016010e+13   2016-01-04   \n",
       "\n",
       "                                 name  \\\n",
       "0        Stylish Queen Anne Apartment   \n",
       "1  Bright & Airy Queen Anne Apartment   \n",
       "\n",
       "                                             summary  \\\n",
       "0                                                NaN   \n",
       "1  Chemically sensitive? We've removed the irrita...   \n",
       "\n",
       "                                               space  \\\n",
       "0  Make your self at home in this charming one-be...   \n",
       "1  Beautiful, hypoallergenic apartment in an extr...   \n",
       "\n",
       "                                         description experiences_offered  \\\n",
       "0  Make your self at home in this charming one-be...                none   \n",
       "1  Chemically sensitive? We've removed the irrita...                none   \n",
       "\n",
       "                               neighborhood_overview  \\\n",
       "0                                                NaN   \n",
       "1  Queen Anne is a wonderful, truly functional vi...   \n",
       "\n",
       "                                               notes  \\\n",
       "0                                                NaN   \n",
       "1  What's up with the free pillows?  Our home was...   \n",
       "\n",
       "                                             transit  \\\n",
       "0                                                NaN   \n",
       "1  Convenient bus stops are just down the block, ...   \n",
       "\n",
       "                                         picture_url    host_id  \\\n",
       "0  https://a1.muscache.com/ac/pictures/67560560/c...   956883.0   \n",
       "1  https://a0.muscache.com/ac/pictures/14409893/f...  5177328.0   \n",
       "\n",
       "                                    host_url host_name host_since  \\\n",
       "0   https://www.airbnb.com/users/show/956883     Maija 2011-08-11   \n",
       "1  https://www.airbnb.com/users/show/5177328    Andrea 2013-02-21   \n",
       "\n",
       "                                          host_about  host_response_rate  \\\n",
       "0  I am an artist, interior designer, and run a s...                96.0   \n",
       "1  Living east coast/left coast/overseas.  Time i...                98.0   \n",
       "\n",
       "   host_acceptance_rate host_is_superhost  \\\n",
       "0                 100.0             False   \n",
       "1                 100.0              True   \n",
       "\n",
       "                                  host_thumbnail_url  \\\n",
       "0  https://a0.muscache.com/ac/users/956883/profil...   \n",
       "1  https://a0.muscache.com/ac/users/5177328/profi...   \n",
       "\n",
       "                                    host_picture_url host_neighbourhood  \\\n",
       "0  https://a0.muscache.com/ac/users/956883/profil...         Queen Anne   \n",
       "1  https://a0.muscache.com/ac/users/5177328/profi...         Queen Anne   \n",
       "\n",
       "   host_listings_count  host_total_listings_count host_has_profile_pic  \\\n",
       "0                  3.0                        3.0                 True   \n",
       "1                  6.0                        6.0                 True   \n",
       "\n",
       "  host_identity_verified                                             street  \\\n",
       "0                   True      Gilman Dr W, Seattle, WA 98119, United States   \n",
       "1                   True  7th Avenue West, Seattle, WA 98119, United States   \n",
       "\n",
       "  neighbourhood neighbourhood_cleansed neighbourhood_group_cleansed     city  \\\n",
       "0    Queen Anne        West Queen Anne                   Queen Anne  Seattle   \n",
       "1    Queen Anne        West Queen Anne                   Queen Anne  Seattle   \n",
       "\n",
       "  zipcode   latitude   longitude is_location_exact property_type  \\\n",
       "0   98119  47.636289 -122.371025              True     apartment   \n",
       "1   98119  47.639123 -122.365666              True     apartment   \n",
       "\n",
       "         room_type  accommodates  bathrooms  bedrooms  beds  bed_type  \\\n",
       "0  Entire home/apt           4.0        1.0       1.0   1.0  Real Bed   \n",
       "1  Entire home/apt           4.0        1.0       1.0   1.0  Real Bed   \n",
       "\n",
       "   square_feet  guests_included  minimum_nights  maximum_nights  \\\n",
       "0          NaN              2.0             1.0           365.0   \n",
       "1          NaN              1.0             2.0            90.0   \n",
       "\n",
       "  calendar_updated has_availability  availability_30  availability_60  \\\n",
       "0      4 weeks ago             True             14.0             41.0   \n",
       "1            today             True             13.0             13.0   \n",
       "\n",
       "   availability_90  availability_365 calendar_last_scraped  number_of_reviews  \\\n",
       "0             71.0             346.0            2016-01-04              207.0   \n",
       "1             16.0             291.0            2016-01-04               43.0   \n",
       "\n",
       "  first_review last_review  review_scores_rating  review_scores_accuracy  \\\n",
       "0   2011-11-01  2016-01-02                  95.0                    10.0   \n",
       "1   2013-08-19  2015-12-29                  96.0                    10.0   \n",
       "\n",
       "   review_scores_cleanliness  review_scores_checkin  \\\n",
       "0                       10.0                   10.0   \n",
       "1                       10.0                   10.0   \n",
       "\n",
       "   review_scores_communication  review_scores_location  review_scores_value  \\\n",
       "0                         10.0                     9.0                 10.0   \n",
       "1                         10.0                    10.0                 10.0   \n",
       "\n",
       "  requires_license  license instant_bookable cancellation_policy  \\\n",
       "0            False      NaN            False            moderate   \n",
       "1            False      NaN            False              strict   \n",
       "\n",
       "  require_guest_profile_picture require_guest_phone_verification  \\\n",
       "0                         False                            False   \n",
       "1                          True                             True   \n",
       "\n",
       "   calculated_host_listings_count  reviews_per_month  price_usd  \\\n",
       "0                             2.0               4.07       85.0   \n",
       "1                             6.0               1.48      150.0   \n",
       "\n",
       "   extra_people_usd  weekly_price_usd  monthly_price_usd  \\\n",
       "0               5.0               NaN                NaN   \n",
       "1               0.0            1000.0             3000.0   \n",
       "\n",
       "   security_deposit_usd  cleaning_fee_usd  host_response_time_val  \\\n",
       "0                   NaN               NaN                    0.75   \n",
       "1                 100.0              40.0                    1.00   \n",
       "\n",
       "   nr_amenities  property_type_apartment  property_type_bed_breakfast  \\\n",
       "0          10.0                        1                            0   \n",
       "1          16.0                        1                            0   \n",
       "\n",
       "   property_type_boat  property_type_bungalow  property_type_cabin  \\\n",
       "0                   0                       0                    0   \n",
       "1                   0                       0                    0   \n",
       "\n",
       "   property_type_camper_rv  property_type_chalet  property_type_condominium  \\\n",
       "0                        0                     0                          0   \n",
       "1                        0                     0                          0   \n",
       "\n",
       "   property_type_dorm  property_type_house  property_type_loft  \\\n",
       "0                   0                    0                   0   \n",
       "1                   0                    0                   0   \n",
       "\n",
       "   property_type_other  property_type_tent  property_type_townhouse  \\\n",
       "0                    0                   0                        0   \n",
       "1                    0                   0                        0   \n",
       "\n",
       "   property_type_treehouse  property_type_yurt  zipcode_98101  zipcode_98102  \\\n",
       "0                        0                   0            0.0            0.0   \n",
       "1                        0                   0            0.0            0.0   \n",
       "\n",
       "   zipcode_98103  zipcode_98104  zipcode_98105  zipcode_98106  zipcode_98107  \\\n",
       "0            0.0            0.0            0.0            0.0            0.0   \n",
       "1            0.0            0.0            0.0            0.0            0.0   \n",
       "\n",
       "   zipcode_98108  zipcode_98109  zipcode_98112  zipcode_98115  zipcode_98116  \\\n",
       "0            0.0            0.0            0.0            0.0            0.0   \n",
       "1            0.0            0.0            0.0            0.0            0.0   \n",
       "\n",
       "   zipcode_98117  zipcode_98118  zipcode_98119  zipcode_98121  zipcode_98122  \\\n",
       "0            0.0            0.0            1.0            0.0            0.0   \n",
       "1            0.0            0.0            1.0            0.0            0.0   \n",
       "\n",
       "   zipcode_98125  zipcode_98126  zipcode_98133  zipcode_98134  zipcode_98136  \\\n",
       "0            0.0            0.0            0.0            0.0            0.0   \n",
       "1            0.0            0.0            0.0            0.0            0.0   \n",
       "\n",
       "   zipcode_98144  zipcode_98146  zipcode_98177  zipcode_98178  zipcode_98199  \\\n",
       "0            0.0            0.0            0.0            0.0            0.0   \n",
       "1            0.0            0.0            0.0            0.0            0.0   \n",
       "\n",
       "   amenity_24-hour_check-in  amenity_air_conditioning  amenity_breakfast  \\\n",
       "0                       0.0                       1.0                0.0   \n",
       "1                       0.0                       0.0                0.0   \n",
       "\n",
       "   amenity_buzzer_wireless_intercom  amenity_cable_tv  \\\n",
       "0                               0.0               1.0   \n",
       "1                               1.0               0.0   \n",
       "\n",
       "   amenity_carbon_monoxide_detector  amenity_cat  amenity_dog  \\\n",
       "0                               0.0          0.0          0.0   \n",
       "1                               1.0          0.0          0.0   \n",
       "\n",
       "   amenity_doorman  amenity_dryer  amenity_elevator_in_building  \\\n",
       "0              0.0            1.0                           0.0   \n",
       "1              0.0            1.0                           0.0   \n",
       "\n",
       "   amenity_essentials  amenity_family_kid_friendly  amenity_fire_extinguisher  \\\n",
       "0                 0.0                          1.0                        0.0   \n",
       "1                 1.0                          1.0                        1.0   \n",
       "\n",
       "   amenity_first_aid_kit  amenity_free_parking_on_premises  amenity_gym  \\\n",
       "0                    0.0                               0.0          0.0   \n",
       "1                    1.0                               1.0          0.0   \n",
       "\n",
       "   amenity_hair_dryer  amenity_hangers  amenity_heating  amenity_hot_tub  \\\n",
       "0                 0.0              0.0              1.0              0.0   \n",
       "1                 0.0              0.0              1.0              0.0   \n",
       "\n",
       "   amenity_indoor_fireplace  amenity_internet  amenity_iron  amenity_kitchen  \\\n",
       "0                       0.0               1.0           0.0              1.0   \n",
       "1                       0.0               1.0           0.0              1.0   \n",
       "\n",
       "   amenity_laptop_friendly_workspace  amenity_lock_on_bedroom_door  \\\n",
       "0                                0.0                           0.0   \n",
       "1                                0.0                           0.0   \n",
       "\n",
       "   amenity_other_pet  amenity_pets_allowed  \\\n",
       "0                0.0                   0.0   \n",
       "1                0.0                   0.0   \n",
       "\n",
       "   amenity_pets_live_on_this_property  amenity_pool  amenity_safety_card  \\\n",
       "0                                 0.0           0.0                  0.0   \n",
       "1                                 0.0           0.0                  1.0   \n",
       "\n",
       "   amenity_shampoo  amenity_smoke_detector  amenity_smoking_allowed  \\\n",
       "0              0.0                     0.0                      0.0   \n",
       "1              0.0                     1.0                      0.0   \n",
       "\n",
       "   amenity_suitable_for_events  amenity_tv  amenity_washer  \\\n",
       "0                          0.0         1.0             1.0   \n",
       "1                          0.0         1.0             1.0   \n",
       "\n",
       "   amenity_washer___dryer  amenity_wheelchair_accessible  \\\n",
       "0                     0.0                            0.0   \n",
       "1                     0.0                            0.0   \n",
       "\n",
       "   amenity_wireless_internet  \n",
       "0                        1.0  \n",
       "1                        1.0  "
      ]
     },
     "execution_count": 20,
     "metadata": {},
     "output_type": "execute_result"
    }
   ],
   "source": [
    "df_list.head(2)"
   ]
  },
  {
   "cell_type": "markdown",
   "metadata": {},
   "source": [
    "#### 1) Property types"
   ]
  },
  {
   "cell_type": "code",
   "execution_count": 21,
   "metadata": {},
   "outputs": [
    {
     "data": {
      "application/vnd.plotly.v1+json": {
       "config": {
        "plotlyServerURL": "https://plotly.com"
       },
       "data": [
        {
         "name": "Relative Number [%]",
         "type": "bar",
         "x": [
          "house",
          "apartment",
          "townhouse",
          "condominium",
          "loft",
          "bed_breakfast",
          "other",
          "cabin",
          "camper_rv",
          "bungalow",
          "boat",
          "tent",
          "treehouse",
          "dorm",
          "chalet",
          "yurt"
         ],
         "y": [
          45.31,
          44.68,
          3.09,
          2.38,
          1.05,
          0.94,
          0.58,
          0.55,
          0.34,
          0.34,
          0.18,
          0.13,
          0.08,
          0.05,
          0.05,
          0.03
         ]
        },
        {
         "mode": "lines",
         "name": "Cumulative Sum [%]",
         "type": "scatter",
         "x": [
          "house",
          "apartment",
          "townhouse",
          "condominium",
          "loft",
          "bed_breakfast",
          "other",
          "cabin",
          "camper_rv",
          "bungalow",
          "boat",
          "tent",
          "treehouse",
          "dorm",
          "chalet",
          "yurt"
         ],
         "xaxis": "x",
         "y": [
          45.31,
          89.99000000000001,
          93.08000000000001,
          95.46000000000001,
          96.51,
          97.45,
          98.03,
          98.58,
          98.92,
          99.26,
          99.44000000000001,
          99.57000000000001,
          99.65,
          99.7,
          99.75,
          99.78
         ],
         "yaxis": "y2"
        }
       ],
       "layout": {
        "annotations": [
         {
          "align": "right",
          "showarrow": false,
          "text": "Total number propertys: 3810",
          "x": 0.98,
          "xref": "x domain",
          "y": 0.9,
          "yref": "y domain"
         }
        ],
        "height": 600,
        "hovermode": "x",
        "legend": {
         "orientation": "h",
         "x": 0,
         "xanchor": "left",
         "y": 1,
         "yanchor": "bottom"
        },
        "template": {
         "data": {
          "bar": [
           {
            "error_x": {
             "color": "#f2f5fa"
            },
            "error_y": {
             "color": "#f2f5fa"
            },
            "marker": {
             "line": {
              "color": "rgb(17,17,17)",
              "width": 0.5
             },
             "pattern": {
              "fillmode": "overlay",
              "size": 10,
              "solidity": 0.2
             }
            },
            "type": "bar"
           }
          ],
          "barpolar": [
           {
            "marker": {
             "line": {
              "color": "rgb(17,17,17)",
              "width": 0.5
             },
             "pattern": {
              "fillmode": "overlay",
              "size": 10,
              "solidity": 0.2
             }
            },
            "type": "barpolar"
           }
          ],
          "carpet": [
           {
            "aaxis": {
             "endlinecolor": "#A2B1C6",
             "gridcolor": "#506784",
             "linecolor": "#506784",
             "minorgridcolor": "#506784",
             "startlinecolor": "#A2B1C6"
            },
            "baxis": {
             "endlinecolor": "#A2B1C6",
             "gridcolor": "#506784",
             "linecolor": "#506784",
             "minorgridcolor": "#506784",
             "startlinecolor": "#A2B1C6"
            },
            "type": "carpet"
           }
          ],
          "choropleth": [
           {
            "colorbar": {
             "outlinewidth": 0,
             "ticks": ""
            },
            "type": "choropleth"
           }
          ],
          "contour": [
           {
            "colorbar": {
             "outlinewidth": 0,
             "ticks": ""
            },
            "colorscale": [
             [
              0,
              "#0d0887"
             ],
             [
              0.1111111111111111,
              "#46039f"
             ],
             [
              0.2222222222222222,
              "#7201a8"
             ],
             [
              0.3333333333333333,
              "#9c179e"
             ],
             [
              0.4444444444444444,
              "#bd3786"
             ],
             [
              0.5555555555555556,
              "#d8576b"
             ],
             [
              0.6666666666666666,
              "#ed7953"
             ],
             [
              0.7777777777777778,
              "#fb9f3a"
             ],
             [
              0.8888888888888888,
              "#fdca26"
             ],
             [
              1,
              "#f0f921"
             ]
            ],
            "type": "contour"
           }
          ],
          "contourcarpet": [
           {
            "colorbar": {
             "outlinewidth": 0,
             "ticks": ""
            },
            "type": "contourcarpet"
           }
          ],
          "heatmap": [
           {
            "colorbar": {
             "outlinewidth": 0,
             "ticks": ""
            },
            "colorscale": [
             [
              0,
              "#0d0887"
             ],
             [
              0.1111111111111111,
              "#46039f"
             ],
             [
              0.2222222222222222,
              "#7201a8"
             ],
             [
              0.3333333333333333,
              "#9c179e"
             ],
             [
              0.4444444444444444,
              "#bd3786"
             ],
             [
              0.5555555555555556,
              "#d8576b"
             ],
             [
              0.6666666666666666,
              "#ed7953"
             ],
             [
              0.7777777777777778,
              "#fb9f3a"
             ],
             [
              0.8888888888888888,
              "#fdca26"
             ],
             [
              1,
              "#f0f921"
             ]
            ],
            "type": "heatmap"
           }
          ],
          "heatmapgl": [
           {
            "colorbar": {
             "outlinewidth": 0,
             "ticks": ""
            },
            "colorscale": [
             [
              0,
              "#0d0887"
             ],
             [
              0.1111111111111111,
              "#46039f"
             ],
             [
              0.2222222222222222,
              "#7201a8"
             ],
             [
              0.3333333333333333,
              "#9c179e"
             ],
             [
              0.4444444444444444,
              "#bd3786"
             ],
             [
              0.5555555555555556,
              "#d8576b"
             ],
             [
              0.6666666666666666,
              "#ed7953"
             ],
             [
              0.7777777777777778,
              "#fb9f3a"
             ],
             [
              0.8888888888888888,
              "#fdca26"
             ],
             [
              1,
              "#f0f921"
             ]
            ],
            "type": "heatmapgl"
           }
          ],
          "histogram": [
           {
            "marker": {
             "pattern": {
              "fillmode": "overlay",
              "size": 10,
              "solidity": 0.2
             }
            },
            "type": "histogram"
           }
          ],
          "histogram2d": [
           {
            "colorbar": {
             "outlinewidth": 0,
             "ticks": ""
            },
            "colorscale": [
             [
              0,
              "#0d0887"
             ],
             [
              0.1111111111111111,
              "#46039f"
             ],
             [
              0.2222222222222222,
              "#7201a8"
             ],
             [
              0.3333333333333333,
              "#9c179e"
             ],
             [
              0.4444444444444444,
              "#bd3786"
             ],
             [
              0.5555555555555556,
              "#d8576b"
             ],
             [
              0.6666666666666666,
              "#ed7953"
             ],
             [
              0.7777777777777778,
              "#fb9f3a"
             ],
             [
              0.8888888888888888,
              "#fdca26"
             ],
             [
              1,
              "#f0f921"
             ]
            ],
            "type": "histogram2d"
           }
          ],
          "histogram2dcontour": [
           {
            "colorbar": {
             "outlinewidth": 0,
             "ticks": ""
            },
            "colorscale": [
             [
              0,
              "#0d0887"
             ],
             [
              0.1111111111111111,
              "#46039f"
             ],
             [
              0.2222222222222222,
              "#7201a8"
             ],
             [
              0.3333333333333333,
              "#9c179e"
             ],
             [
              0.4444444444444444,
              "#bd3786"
             ],
             [
              0.5555555555555556,
              "#d8576b"
             ],
             [
              0.6666666666666666,
              "#ed7953"
             ],
             [
              0.7777777777777778,
              "#fb9f3a"
             ],
             [
              0.8888888888888888,
              "#fdca26"
             ],
             [
              1,
              "#f0f921"
             ]
            ],
            "type": "histogram2dcontour"
           }
          ],
          "mesh3d": [
           {
            "colorbar": {
             "outlinewidth": 0,
             "ticks": ""
            },
            "type": "mesh3d"
           }
          ],
          "parcoords": [
           {
            "line": {
             "colorbar": {
              "outlinewidth": 0,
              "ticks": ""
             }
            },
            "type": "parcoords"
           }
          ],
          "pie": [
           {
            "automargin": true,
            "type": "pie"
           }
          ],
          "scatter": [
           {
            "marker": {
             "line": {
              "color": "#283442"
             }
            },
            "type": "scatter"
           }
          ],
          "scatter3d": [
           {
            "line": {
             "colorbar": {
              "outlinewidth": 0,
              "ticks": ""
             }
            },
            "marker": {
             "colorbar": {
              "outlinewidth": 0,
              "ticks": ""
             }
            },
            "type": "scatter3d"
           }
          ],
          "scattercarpet": [
           {
            "marker": {
             "colorbar": {
              "outlinewidth": 0,
              "ticks": ""
             }
            },
            "type": "scattercarpet"
           }
          ],
          "scattergeo": [
           {
            "marker": {
             "colorbar": {
              "outlinewidth": 0,
              "ticks": ""
             }
            },
            "type": "scattergeo"
           }
          ],
          "scattergl": [
           {
            "marker": {
             "line": {
              "color": "#283442"
             }
            },
            "type": "scattergl"
           }
          ],
          "scattermapbox": [
           {
            "marker": {
             "colorbar": {
              "outlinewidth": 0,
              "ticks": ""
             }
            },
            "type": "scattermapbox"
           }
          ],
          "scatterpolar": [
           {
            "marker": {
             "colorbar": {
              "outlinewidth": 0,
              "ticks": ""
             }
            },
            "type": "scatterpolar"
           }
          ],
          "scatterpolargl": [
           {
            "marker": {
             "colorbar": {
              "outlinewidth": 0,
              "ticks": ""
             }
            },
            "type": "scatterpolargl"
           }
          ],
          "scatterternary": [
           {
            "marker": {
             "colorbar": {
              "outlinewidth": 0,
              "ticks": ""
             }
            },
            "type": "scatterternary"
           }
          ],
          "surface": [
           {
            "colorbar": {
             "outlinewidth": 0,
             "ticks": ""
            },
            "colorscale": [
             [
              0,
              "#0d0887"
             ],
             [
              0.1111111111111111,
              "#46039f"
             ],
             [
              0.2222222222222222,
              "#7201a8"
             ],
             [
              0.3333333333333333,
              "#9c179e"
             ],
             [
              0.4444444444444444,
              "#bd3786"
             ],
             [
              0.5555555555555556,
              "#d8576b"
             ],
             [
              0.6666666666666666,
              "#ed7953"
             ],
             [
              0.7777777777777778,
              "#fb9f3a"
             ],
             [
              0.8888888888888888,
              "#fdca26"
             ],
             [
              1,
              "#f0f921"
             ]
            ],
            "type": "surface"
           }
          ],
          "table": [
           {
            "cells": {
             "fill": {
              "color": "#506784"
             },
             "line": {
              "color": "rgb(17,17,17)"
             }
            },
            "header": {
             "fill": {
              "color": "#2a3f5f"
             },
             "line": {
              "color": "rgb(17,17,17)"
             }
            },
            "type": "table"
           }
          ]
         },
         "layout": {
          "annotationdefaults": {
           "arrowcolor": "#f2f5fa",
           "arrowhead": 0,
           "arrowwidth": 1
          },
          "autotypenumbers": "strict",
          "coloraxis": {
           "colorbar": {
            "outlinewidth": 0,
            "ticks": ""
           }
          },
          "colorscale": {
           "diverging": [
            [
             0,
             "#8e0152"
            ],
            [
             0.1,
             "#c51b7d"
            ],
            [
             0.2,
             "#de77ae"
            ],
            [
             0.3,
             "#f1b6da"
            ],
            [
             0.4,
             "#fde0ef"
            ],
            [
             0.5,
             "#f7f7f7"
            ],
            [
             0.6,
             "#e6f5d0"
            ],
            [
             0.7,
             "#b8e186"
            ],
            [
             0.8,
             "#7fbc41"
            ],
            [
             0.9,
             "#4d9221"
            ],
            [
             1,
             "#276419"
            ]
           ],
           "sequential": [
            [
             0,
             "#0d0887"
            ],
            [
             0.1111111111111111,
             "#46039f"
            ],
            [
             0.2222222222222222,
             "#7201a8"
            ],
            [
             0.3333333333333333,
             "#9c179e"
            ],
            [
             0.4444444444444444,
             "#bd3786"
            ],
            [
             0.5555555555555556,
             "#d8576b"
            ],
            [
             0.6666666666666666,
             "#ed7953"
            ],
            [
             0.7777777777777778,
             "#fb9f3a"
            ],
            [
             0.8888888888888888,
             "#fdca26"
            ],
            [
             1,
             "#f0f921"
            ]
           ],
           "sequentialminus": [
            [
             0,
             "#0d0887"
            ],
            [
             0.1111111111111111,
             "#46039f"
            ],
            [
             0.2222222222222222,
             "#7201a8"
            ],
            [
             0.3333333333333333,
             "#9c179e"
            ],
            [
             0.4444444444444444,
             "#bd3786"
            ],
            [
             0.5555555555555556,
             "#d8576b"
            ],
            [
             0.6666666666666666,
             "#ed7953"
            ],
            [
             0.7777777777777778,
             "#fb9f3a"
            ],
            [
             0.8888888888888888,
             "#fdca26"
            ],
            [
             1,
             "#f0f921"
            ]
           ]
          },
          "colorway": [
           "#636efa",
           "#EF553B",
           "#00cc96",
           "#ab63fa",
           "#FFA15A",
           "#19d3f3",
           "#FF6692",
           "#B6E880",
           "#FF97FF",
           "#FECB52"
          ],
          "font": {
           "color": "#f2f5fa"
          },
          "geo": {
           "bgcolor": "rgb(17,17,17)",
           "lakecolor": "rgb(17,17,17)",
           "landcolor": "rgb(17,17,17)",
           "showlakes": true,
           "showland": true,
           "subunitcolor": "#506784"
          },
          "hoverlabel": {
           "align": "left"
          },
          "hovermode": "closest",
          "mapbox": {
           "style": "dark"
          },
          "paper_bgcolor": "rgb(17,17,17)",
          "plot_bgcolor": "rgb(17,17,17)",
          "polar": {
           "angularaxis": {
            "gridcolor": "#506784",
            "linecolor": "#506784",
            "ticks": ""
           },
           "bgcolor": "rgb(17,17,17)",
           "radialaxis": {
            "gridcolor": "#506784",
            "linecolor": "#506784",
            "ticks": ""
           }
          },
          "scene": {
           "xaxis": {
            "backgroundcolor": "rgb(17,17,17)",
            "gridcolor": "#506784",
            "gridwidth": 2,
            "linecolor": "#506784",
            "showbackground": true,
            "ticks": "",
            "zerolinecolor": "#C8D4E3"
           },
           "yaxis": {
            "backgroundcolor": "rgb(17,17,17)",
            "gridcolor": "#506784",
            "gridwidth": 2,
            "linecolor": "#506784",
            "showbackground": true,
            "ticks": "",
            "zerolinecolor": "#C8D4E3"
           },
           "zaxis": {
            "backgroundcolor": "rgb(17,17,17)",
            "gridcolor": "#506784",
            "gridwidth": 2,
            "linecolor": "#506784",
            "showbackground": true,
            "ticks": "",
            "zerolinecolor": "#C8D4E3"
           }
          },
          "shapedefaults": {
           "line": {
            "color": "#f2f5fa"
           }
          },
          "sliderdefaults": {
           "bgcolor": "#C8D4E3",
           "bordercolor": "rgb(17,17,17)",
           "borderwidth": 1,
           "tickwidth": 0
          },
          "ternary": {
           "aaxis": {
            "gridcolor": "#506784",
            "linecolor": "#506784",
            "ticks": ""
           },
           "baxis": {
            "gridcolor": "#506784",
            "linecolor": "#506784",
            "ticks": ""
           },
           "bgcolor": "rgb(17,17,17)",
           "caxis": {
            "gridcolor": "#506784",
            "linecolor": "#506784",
            "ticks": ""
           }
          },
          "title": {
           "x": 0.05
          },
          "updatemenudefaults": {
           "bgcolor": "#506784",
           "borderwidth": 0
          },
          "xaxis": {
           "automargin": true,
           "gridcolor": "#283442",
           "linecolor": "#506784",
           "ticks": "",
           "title": {
            "standoff": 15
           },
           "zerolinecolor": "#283442",
           "zerolinewidth": 2
          },
          "yaxis": {
           "automargin": true,
           "gridcolor": "#283442",
           "linecolor": "#506784",
           "ticks": "",
           "title": {
            "standoff": 15
           },
           "zerolinecolor": "#283442",
           "zerolinewidth": 2
          }
         }
        },
        "title": {
         "font": {
          "size": 20
         },
         "text": "Distribution of the property types"
        },
        "width": 1000,
        "xaxis": {
         "anchor": "y",
         "domain": [
          0,
          0.94
         ],
         "tickfont": {
          "size": 12
         },
         "title": {
          "font": {
           "size": 16
          },
          "text": "Property type"
         }
        },
        "yaxis": {
         "anchor": "x",
         "domain": [
          0,
          1
         ],
         "range": [
          0,
          50
         ],
         "side": "left",
         "tickfont": {
          "size": 12
         },
         "title": {
          "font": {
           "size": 16
          },
          "text": "Relative Number [%]"
         }
        },
        "yaxis2": {
         "anchor": "x",
         "overlaying": "y",
         "range": [
          0,
          100
         ],
         "side": "right",
         "tickfont": {
          "size": 12
         },
         "tickmode": "sync",
         "title": {
          "font": {
           "size": 16
          },
          "text": "Cumulative Sum [%]"
         }
        }
       }
      }
     },
     "metadata": {},
     "output_type": "display_data"
    }
   ],
   "source": [
    "# get the distribution for the property types\n",
    "df_list_prop = df_list.property_type.value_counts().reset_index()\n",
    "df_list_prop['rel']  = (df_list_prop['count'] / len(df_list) * 100).round(2)\n",
    "df_list_prop['rel_cumsum'] = df_list_prop['rel'].cumsum()\n",
    "\n",
    "nr_objs = df_list_prop['count'].sum()\n",
    "\n",
    "# create the figure\n",
    "fig = make_subplots(specs=[[{\"secondary_y\": True}]])\n",
    "\n",
    "fig.add_trace(go.Bar(x=df_list_prop['property_type'], y=df_list_prop['rel'], \n",
    "                     name = 'Relative Number [%]'\n",
    "             ))\n",
    "\n",
    "fig.add_trace(go.Scatter(x=df_list_prop['property_type'], y=df_list_prop['rel_cumsum'],\n",
    "                        name = 'Cumulative Sum [%]',\n",
    "                        mode = 'lines'),\n",
    "                        secondary_y=True)\n",
    "\n",
    "\n",
    "fig.update_layout(\n",
    "    title='Distribution of the property types',\n",
    "    title_font = {\"size\": 20},\n",
    "    xaxis_title = 'Property type',\n",
    "    template='plotly_dark',\n",
    "    hovermode = 'x',\n",
    "    width = 1000,\n",
    "    height = 600,\n",
    "    yaxis = dict(\n",
    "        title=dict(text=\"Relative Number [%]\"),\n",
    "        side=\"left\",\n",
    "        range=[0, 50]),\n",
    "    yaxis2 = dict(\n",
    "        title=dict(text=\"Cumulative Sum [%]\"),\n",
    "        side=\"right\",\n",
    "        range=[0, 100],\n",
    "        overlaying=\"y\",\n",
    "        tickmode=\"sync\")\n",
    ")\n",
    "\n",
    "fig.update_yaxes(\n",
    "    title_font = {\"size\": 16},\n",
    "    tickfont = {\"size\": 12}\n",
    "    )\n",
    "\n",
    "fig.update_xaxes(\n",
    "    title_font = {\"size\": 16},\n",
    "    tickfont = {\"size\": 12}\n",
    "    )\n",
    "\n",
    "fig.update_layout(legend=dict(\n",
    "    orientation=\"h\",\n",
    "    yanchor=\"bottom\",\n",
    "    y=1,\n",
    "    xanchor=\"left\",\n",
    "    x=0\n",
    "    ))\n",
    "\n",
    "\n",
    "fig.add_annotation(\n",
    "    xref=\"x domain\",\n",
    "    yref=\"y domain\",\n",
    "    x=.98,\n",
    "    y=.9,\n",
    "    text=f\"Total number propertys: {nr_objs}\",\n",
    "    align=\"right\",\n",
    "    showarrow=False\n",
    ")\n",
    "\n",
    "\n",
    "fig.show()"
   ]
  },
  {
   "cell_type": "code",
   "execution_count": 22,
   "metadata": {},
   "outputs": [],
   "source": [
    "fig.write_html('res_property_types.html')"
   ]
  },
  {
   "cell_type": "code",
   "execution_count": 23,
   "metadata": {},
   "outputs": [],
   "source": [
    "if pub_chart_studio:\n",
    "    py.plot(fig, filename=\"seattle_distr_prop_types\", auto_open = True)"
   ]
  },
  {
   "cell_type": "markdown",
   "metadata": {},
   "source": [
    "#### 2) Distribution of the price per accommomdate"
   ]
  },
  {
   "cell_type": "code",
   "execution_count": 24,
   "metadata": {},
   "outputs": [
    {
     "data": {
      "text/html": [
       "<div>\n",
       "<style scoped>\n",
       "    .dataframe tbody tr th:only-of-type {\n",
       "        vertical-align: middle;\n",
       "    }\n",
       "\n",
       "    .dataframe tbody tr th {\n",
       "        vertical-align: top;\n",
       "    }\n",
       "\n",
       "    .dataframe thead th {\n",
       "        text-align: right;\n",
       "    }\n",
       "</style>\n",
       "<table border=\"1\" class=\"dataframe\">\n",
       "  <thead>\n",
       "    <tr style=\"text-align: right;\">\n",
       "      <th></th>\n",
       "      <th>listing_id</th>\n",
       "      <th>date</th>\n",
       "      <th>available</th>\n",
       "      <th>month</th>\n",
       "      <th>month_name</th>\n",
       "      <th>week</th>\n",
       "      <th>price_usd_cal</th>\n",
       "      <th>listing_url</th>\n",
       "      <th>scrape_id</th>\n",
       "      <th>last_scraped</th>\n",
       "      <th>name</th>\n",
       "      <th>summary</th>\n",
       "      <th>space</th>\n",
       "      <th>description</th>\n",
       "      <th>experiences_offered</th>\n",
       "      <th>neighborhood_overview</th>\n",
       "      <th>notes</th>\n",
       "      <th>transit</th>\n",
       "      <th>picture_url</th>\n",
       "      <th>host_id</th>\n",
       "      <th>host_url</th>\n",
       "      <th>host_name</th>\n",
       "      <th>host_since</th>\n",
       "      <th>host_about</th>\n",
       "      <th>host_response_rate</th>\n",
       "      <th>host_acceptance_rate</th>\n",
       "      <th>host_is_superhost</th>\n",
       "      <th>host_thumbnail_url</th>\n",
       "      <th>host_picture_url</th>\n",
       "      <th>host_neighbourhood</th>\n",
       "      <th>host_listings_count</th>\n",
       "      <th>host_total_listings_count</th>\n",
       "      <th>host_has_profile_pic</th>\n",
       "      <th>host_identity_verified</th>\n",
       "      <th>street</th>\n",
       "      <th>neighbourhood</th>\n",
       "      <th>neighbourhood_cleansed</th>\n",
       "      <th>neighbourhood_group_cleansed</th>\n",
       "      <th>city</th>\n",
       "      <th>zipcode</th>\n",
       "      <th>latitude</th>\n",
       "      <th>longitude</th>\n",
       "      <th>is_location_exact</th>\n",
       "      <th>property_type</th>\n",
       "      <th>room_type</th>\n",
       "      <th>accommodates</th>\n",
       "      <th>bathrooms</th>\n",
       "      <th>bedrooms</th>\n",
       "      <th>beds</th>\n",
       "      <th>bed_type</th>\n",
       "      <th>square_feet</th>\n",
       "      <th>guests_included</th>\n",
       "      <th>minimum_nights</th>\n",
       "      <th>maximum_nights</th>\n",
       "      <th>calendar_updated</th>\n",
       "      <th>has_availability</th>\n",
       "      <th>availability_30</th>\n",
       "      <th>availability_60</th>\n",
       "      <th>availability_90</th>\n",
       "      <th>availability_365</th>\n",
       "      <th>calendar_last_scraped</th>\n",
       "      <th>number_of_reviews</th>\n",
       "      <th>first_review</th>\n",
       "      <th>last_review</th>\n",
       "      <th>review_scores_rating</th>\n",
       "      <th>review_scores_accuracy</th>\n",
       "      <th>review_scores_cleanliness</th>\n",
       "      <th>review_scores_checkin</th>\n",
       "      <th>review_scores_communication</th>\n",
       "      <th>review_scores_location</th>\n",
       "      <th>review_scores_value</th>\n",
       "      <th>requires_license</th>\n",
       "      <th>license</th>\n",
       "      <th>instant_bookable</th>\n",
       "      <th>cancellation_policy</th>\n",
       "      <th>require_guest_profile_picture</th>\n",
       "      <th>require_guest_phone_verification</th>\n",
       "      <th>calculated_host_listings_count</th>\n",
       "      <th>reviews_per_month</th>\n",
       "      <th>price_usd</th>\n",
       "      <th>extra_people_usd</th>\n",
       "      <th>weekly_price_usd</th>\n",
       "      <th>monthly_price_usd</th>\n",
       "      <th>security_deposit_usd</th>\n",
       "      <th>cleaning_fee_usd</th>\n",
       "      <th>host_response_time_val</th>\n",
       "      <th>nr_amenities</th>\n",
       "      <th>property_type_apartment</th>\n",
       "      <th>property_type_bed_breakfast</th>\n",
       "      <th>property_type_boat</th>\n",
       "      <th>property_type_bungalow</th>\n",
       "      <th>property_type_cabin</th>\n",
       "      <th>property_type_camper_rv</th>\n",
       "      <th>property_type_chalet</th>\n",
       "      <th>property_type_condominium</th>\n",
       "      <th>property_type_dorm</th>\n",
       "      <th>property_type_house</th>\n",
       "      <th>property_type_loft</th>\n",
       "      <th>property_type_other</th>\n",
       "      <th>property_type_tent</th>\n",
       "      <th>property_type_townhouse</th>\n",
       "      <th>property_type_treehouse</th>\n",
       "      <th>property_type_yurt</th>\n",
       "      <th>zipcode_98101</th>\n",
       "      <th>zipcode_98102</th>\n",
       "      <th>zipcode_98103</th>\n",
       "      <th>zipcode_98104</th>\n",
       "      <th>zipcode_98105</th>\n",
       "      <th>zipcode_98106</th>\n",
       "      <th>zipcode_98107</th>\n",
       "      <th>zipcode_98108</th>\n",
       "      <th>zipcode_98109</th>\n",
       "      <th>zipcode_98112</th>\n",
       "      <th>zipcode_98115</th>\n",
       "      <th>zipcode_98116</th>\n",
       "      <th>zipcode_98117</th>\n",
       "      <th>zipcode_98118</th>\n",
       "      <th>zipcode_98119</th>\n",
       "      <th>zipcode_98121</th>\n",
       "      <th>zipcode_98122</th>\n",
       "      <th>zipcode_98125</th>\n",
       "      <th>zipcode_98126</th>\n",
       "      <th>zipcode_98133</th>\n",
       "      <th>zipcode_98134</th>\n",
       "      <th>zipcode_98136</th>\n",
       "      <th>zipcode_98144</th>\n",
       "      <th>zipcode_98146</th>\n",
       "      <th>zipcode_98177</th>\n",
       "      <th>zipcode_98178</th>\n",
       "      <th>zipcode_98199</th>\n",
       "      <th>amenity_24-hour_check-in</th>\n",
       "      <th>amenity_air_conditioning</th>\n",
       "      <th>amenity_breakfast</th>\n",
       "      <th>amenity_buzzer_wireless_intercom</th>\n",
       "      <th>amenity_cable_tv</th>\n",
       "      <th>amenity_carbon_monoxide_detector</th>\n",
       "      <th>amenity_cat</th>\n",
       "      <th>amenity_dog</th>\n",
       "      <th>amenity_doorman</th>\n",
       "      <th>amenity_dryer</th>\n",
       "      <th>amenity_elevator_in_building</th>\n",
       "      <th>amenity_essentials</th>\n",
       "      <th>amenity_family_kid_friendly</th>\n",
       "      <th>amenity_fire_extinguisher</th>\n",
       "      <th>amenity_first_aid_kit</th>\n",
       "      <th>amenity_free_parking_on_premises</th>\n",
       "      <th>amenity_gym</th>\n",
       "      <th>amenity_hair_dryer</th>\n",
       "      <th>amenity_hangers</th>\n",
       "      <th>amenity_heating</th>\n",
       "      <th>amenity_hot_tub</th>\n",
       "      <th>amenity_indoor_fireplace</th>\n",
       "      <th>amenity_internet</th>\n",
       "      <th>amenity_iron</th>\n",
       "      <th>amenity_kitchen</th>\n",
       "      <th>amenity_laptop_friendly_workspace</th>\n",
       "      <th>amenity_lock_on_bedroom_door</th>\n",
       "      <th>amenity_other_pet</th>\n",
       "      <th>amenity_pets_allowed</th>\n",
       "      <th>amenity_pets_live_on_this_property</th>\n",
       "      <th>amenity_pool</th>\n",
       "      <th>amenity_safety_card</th>\n",
       "      <th>amenity_shampoo</th>\n",
       "      <th>amenity_smoke_detector</th>\n",
       "      <th>amenity_smoking_allowed</th>\n",
       "      <th>amenity_suitable_for_events</th>\n",
       "      <th>amenity_tv</th>\n",
       "      <th>amenity_washer</th>\n",
       "      <th>amenity_washer___dryer</th>\n",
       "      <th>amenity_wheelchair_accessible</th>\n",
       "      <th>amenity_wireless_internet</th>\n",
       "      <th>price_fluc</th>\n",
       "      <th>price_p_accom</th>\n",
       "      <th>price_p_accom_cal</th>\n",
       "    </tr>\n",
       "  </thead>\n",
       "  <tbody>\n",
       "    <tr>\n",
       "      <th>0</th>\n",
       "      <td>241032</td>\n",
       "      <td>2016-01-04</td>\n",
       "      <td>True</td>\n",
       "      <td>1</td>\n",
       "      <td>January</td>\n",
       "      <td>1</td>\n",
       "      <td>85.0</td>\n",
       "      <td>https://www.airbnb.com/rooms/241032</td>\n",
       "      <td>2.016010e+13</td>\n",
       "      <td>2016-01-04</td>\n",
       "      <td>Stylish Queen Anne Apartment</td>\n",
       "      <td>NaN</td>\n",
       "      <td>Make your self at home in this charming one-be...</td>\n",
       "      <td>Make your self at home in this charming one-be...</td>\n",
       "      <td>none</td>\n",
       "      <td>NaN</td>\n",
       "      <td>NaN</td>\n",
       "      <td>NaN</td>\n",
       "      <td>https://a1.muscache.com/ac/pictures/67560560/c...</td>\n",
       "      <td>956883.0</td>\n",
       "      <td>https://www.airbnb.com/users/show/956883</td>\n",
       "      <td>Maija</td>\n",
       "      <td>2011-08-11</td>\n",
       "      <td>I am an artist, interior designer, and run a s...</td>\n",
       "      <td>96.0</td>\n",
       "      <td>100.0</td>\n",
       "      <td>False</td>\n",
       "      <td>https://a0.muscache.com/ac/users/956883/profil...</td>\n",
       "      <td>https://a0.muscache.com/ac/users/956883/profil...</td>\n",
       "      <td>Queen Anne</td>\n",
       "      <td>3.0</td>\n",
       "      <td>3.0</td>\n",
       "      <td>True</td>\n",
       "      <td>True</td>\n",
       "      <td>Gilman Dr W, Seattle, WA 98119, United States</td>\n",
       "      <td>Queen Anne</td>\n",
       "      <td>West Queen Anne</td>\n",
       "      <td>Queen Anne</td>\n",
       "      <td>Seattle</td>\n",
       "      <td>98119</td>\n",
       "      <td>47.636289</td>\n",
       "      <td>-122.371025</td>\n",
       "      <td>True</td>\n",
       "      <td>apartment</td>\n",
       "      <td>Entire home/apt</td>\n",
       "      <td>4.0</td>\n",
       "      <td>1.0</td>\n",
       "      <td>1.0</td>\n",
       "      <td>1.0</td>\n",
       "      <td>Real Bed</td>\n",
       "      <td>NaN</td>\n",
       "      <td>2.0</td>\n",
       "      <td>1.0</td>\n",
       "      <td>365.0</td>\n",
       "      <td>4 weeks ago</td>\n",
       "      <td>True</td>\n",
       "      <td>14.0</td>\n",
       "      <td>41.0</td>\n",
       "      <td>71.0</td>\n",
       "      <td>346.0</td>\n",
       "      <td>2016-01-04</td>\n",
       "      <td>207.0</td>\n",
       "      <td>2011-11-01</td>\n",
       "      <td>2016-01-02</td>\n",
       "      <td>95.0</td>\n",
       "      <td>10.0</td>\n",
       "      <td>10.0</td>\n",
       "      <td>10.0</td>\n",
       "      <td>10.0</td>\n",
       "      <td>9.0</td>\n",
       "      <td>10.0</td>\n",
       "      <td>False</td>\n",
       "      <td>NaN</td>\n",
       "      <td>False</td>\n",
       "      <td>moderate</td>\n",
       "      <td>False</td>\n",
       "      <td>False</td>\n",
       "      <td>2.0</td>\n",
       "      <td>4.07</td>\n",
       "      <td>85.0</td>\n",
       "      <td>5.0</td>\n",
       "      <td>NaN</td>\n",
       "      <td>NaN</td>\n",
       "      <td>NaN</td>\n",
       "      <td>NaN</td>\n",
       "      <td>0.75</td>\n",
       "      <td>10.0</td>\n",
       "      <td>1.0</td>\n",
       "      <td>0.0</td>\n",
       "      <td>0.0</td>\n",
       "      <td>0.0</td>\n",
       "      <td>0.0</td>\n",
       "      <td>0.0</td>\n",
       "      <td>0.0</td>\n",
       "      <td>0.0</td>\n",
       "      <td>0.0</td>\n",
       "      <td>0.0</td>\n",
       "      <td>0.0</td>\n",
       "      <td>0.0</td>\n",
       "      <td>0.0</td>\n",
       "      <td>0.0</td>\n",
       "      <td>0.0</td>\n",
       "      <td>0.0</td>\n",
       "      <td>0.0</td>\n",
       "      <td>0.0</td>\n",
       "      <td>0.0</td>\n",
       "      <td>0.0</td>\n",
       "      <td>0.0</td>\n",
       "      <td>0.0</td>\n",
       "      <td>0.0</td>\n",
       "      <td>0.0</td>\n",
       "      <td>0.0</td>\n",
       "      <td>0.0</td>\n",
       "      <td>0.0</td>\n",
       "      <td>0.0</td>\n",
       "      <td>0.0</td>\n",
       "      <td>0.0</td>\n",
       "      <td>1.0</td>\n",
       "      <td>0.0</td>\n",
       "      <td>0.0</td>\n",
       "      <td>0.0</td>\n",
       "      <td>0.0</td>\n",
       "      <td>0.0</td>\n",
       "      <td>0.0</td>\n",
       "      <td>0.0</td>\n",
       "      <td>0.0</td>\n",
       "      <td>0.0</td>\n",
       "      <td>0.0</td>\n",
       "      <td>0.0</td>\n",
       "      <td>0.0</td>\n",
       "      <td>0.0</td>\n",
       "      <td>1.0</td>\n",
       "      <td>0.0</td>\n",
       "      <td>0.0</td>\n",
       "      <td>1.0</td>\n",
       "      <td>0.0</td>\n",
       "      <td>0.0</td>\n",
       "      <td>0.0</td>\n",
       "      <td>0.0</td>\n",
       "      <td>1.0</td>\n",
       "      <td>0.0</td>\n",
       "      <td>0.0</td>\n",
       "      <td>1.0</td>\n",
       "      <td>0.0</td>\n",
       "      <td>0.0</td>\n",
       "      <td>0.0</td>\n",
       "      <td>0.0</td>\n",
       "      <td>0.0</td>\n",
       "      <td>0.0</td>\n",
       "      <td>1.0</td>\n",
       "      <td>0.0</td>\n",
       "      <td>0.0</td>\n",
       "      <td>1.0</td>\n",
       "      <td>0.0</td>\n",
       "      <td>1.0</td>\n",
       "      <td>0.0</td>\n",
       "      <td>0.0</td>\n",
       "      <td>0.0</td>\n",
       "      <td>0.0</td>\n",
       "      <td>0.0</td>\n",
       "      <td>0.0</td>\n",
       "      <td>0.0</td>\n",
       "      <td>0.0</td>\n",
       "      <td>0.0</td>\n",
       "      <td>0.0</td>\n",
       "      <td>0.0</td>\n",
       "      <td>1.0</td>\n",
       "      <td>1.0</td>\n",
       "      <td>0.0</td>\n",
       "      <td>0.0</td>\n",
       "      <td>1.0</td>\n",
       "      <td>1.0</td>\n",
       "      <td>21.25</td>\n",
       "      <td>21.25</td>\n",
       "    </tr>\n",
       "    <tr>\n",
       "      <th>1</th>\n",
       "      <td>241032</td>\n",
       "      <td>2016-01-05</td>\n",
       "      <td>True</td>\n",
       "      <td>1</td>\n",
       "      <td>January</td>\n",
       "      <td>1</td>\n",
       "      <td>85.0</td>\n",
       "      <td>https://www.airbnb.com/rooms/241032</td>\n",
       "      <td>2.016010e+13</td>\n",
       "      <td>2016-01-04</td>\n",
       "      <td>Stylish Queen Anne Apartment</td>\n",
       "      <td>NaN</td>\n",
       "      <td>Make your self at home in this charming one-be...</td>\n",
       "      <td>Make your self at home in this charming one-be...</td>\n",
       "      <td>none</td>\n",
       "      <td>NaN</td>\n",
       "      <td>NaN</td>\n",
       "      <td>NaN</td>\n",
       "      <td>https://a1.muscache.com/ac/pictures/67560560/c...</td>\n",
       "      <td>956883.0</td>\n",
       "      <td>https://www.airbnb.com/users/show/956883</td>\n",
       "      <td>Maija</td>\n",
       "      <td>2011-08-11</td>\n",
       "      <td>I am an artist, interior designer, and run a s...</td>\n",
       "      <td>96.0</td>\n",
       "      <td>100.0</td>\n",
       "      <td>False</td>\n",
       "      <td>https://a0.muscache.com/ac/users/956883/profil...</td>\n",
       "      <td>https://a0.muscache.com/ac/users/956883/profil...</td>\n",
       "      <td>Queen Anne</td>\n",
       "      <td>3.0</td>\n",
       "      <td>3.0</td>\n",
       "      <td>True</td>\n",
       "      <td>True</td>\n",
       "      <td>Gilman Dr W, Seattle, WA 98119, United States</td>\n",
       "      <td>Queen Anne</td>\n",
       "      <td>West Queen Anne</td>\n",
       "      <td>Queen Anne</td>\n",
       "      <td>Seattle</td>\n",
       "      <td>98119</td>\n",
       "      <td>47.636289</td>\n",
       "      <td>-122.371025</td>\n",
       "      <td>True</td>\n",
       "      <td>apartment</td>\n",
       "      <td>Entire home/apt</td>\n",
       "      <td>4.0</td>\n",
       "      <td>1.0</td>\n",
       "      <td>1.0</td>\n",
       "      <td>1.0</td>\n",
       "      <td>Real Bed</td>\n",
       "      <td>NaN</td>\n",
       "      <td>2.0</td>\n",
       "      <td>1.0</td>\n",
       "      <td>365.0</td>\n",
       "      <td>4 weeks ago</td>\n",
       "      <td>True</td>\n",
       "      <td>14.0</td>\n",
       "      <td>41.0</td>\n",
       "      <td>71.0</td>\n",
       "      <td>346.0</td>\n",
       "      <td>2016-01-04</td>\n",
       "      <td>207.0</td>\n",
       "      <td>2011-11-01</td>\n",
       "      <td>2016-01-02</td>\n",
       "      <td>95.0</td>\n",
       "      <td>10.0</td>\n",
       "      <td>10.0</td>\n",
       "      <td>10.0</td>\n",
       "      <td>10.0</td>\n",
       "      <td>9.0</td>\n",
       "      <td>10.0</td>\n",
       "      <td>False</td>\n",
       "      <td>NaN</td>\n",
       "      <td>False</td>\n",
       "      <td>moderate</td>\n",
       "      <td>False</td>\n",
       "      <td>False</td>\n",
       "      <td>2.0</td>\n",
       "      <td>4.07</td>\n",
       "      <td>85.0</td>\n",
       "      <td>5.0</td>\n",
       "      <td>NaN</td>\n",
       "      <td>NaN</td>\n",
       "      <td>NaN</td>\n",
       "      <td>NaN</td>\n",
       "      <td>0.75</td>\n",
       "      <td>10.0</td>\n",
       "      <td>1.0</td>\n",
       "      <td>0.0</td>\n",
       "      <td>0.0</td>\n",
       "      <td>0.0</td>\n",
       "      <td>0.0</td>\n",
       "      <td>0.0</td>\n",
       "      <td>0.0</td>\n",
       "      <td>0.0</td>\n",
       "      <td>0.0</td>\n",
       "      <td>0.0</td>\n",
       "      <td>0.0</td>\n",
       "      <td>0.0</td>\n",
       "      <td>0.0</td>\n",
       "      <td>0.0</td>\n",
       "      <td>0.0</td>\n",
       "      <td>0.0</td>\n",
       "      <td>0.0</td>\n",
       "      <td>0.0</td>\n",
       "      <td>0.0</td>\n",
       "      <td>0.0</td>\n",
       "      <td>0.0</td>\n",
       "      <td>0.0</td>\n",
       "      <td>0.0</td>\n",
       "      <td>0.0</td>\n",
       "      <td>0.0</td>\n",
       "      <td>0.0</td>\n",
       "      <td>0.0</td>\n",
       "      <td>0.0</td>\n",
       "      <td>0.0</td>\n",
       "      <td>0.0</td>\n",
       "      <td>1.0</td>\n",
       "      <td>0.0</td>\n",
       "      <td>0.0</td>\n",
       "      <td>0.0</td>\n",
       "      <td>0.0</td>\n",
       "      <td>0.0</td>\n",
       "      <td>0.0</td>\n",
       "      <td>0.0</td>\n",
       "      <td>0.0</td>\n",
       "      <td>0.0</td>\n",
       "      <td>0.0</td>\n",
       "      <td>0.0</td>\n",
       "      <td>0.0</td>\n",
       "      <td>0.0</td>\n",
       "      <td>1.0</td>\n",
       "      <td>0.0</td>\n",
       "      <td>0.0</td>\n",
       "      <td>1.0</td>\n",
       "      <td>0.0</td>\n",
       "      <td>0.0</td>\n",
       "      <td>0.0</td>\n",
       "      <td>0.0</td>\n",
       "      <td>1.0</td>\n",
       "      <td>0.0</td>\n",
       "      <td>0.0</td>\n",
       "      <td>1.0</td>\n",
       "      <td>0.0</td>\n",
       "      <td>0.0</td>\n",
       "      <td>0.0</td>\n",
       "      <td>0.0</td>\n",
       "      <td>0.0</td>\n",
       "      <td>0.0</td>\n",
       "      <td>1.0</td>\n",
       "      <td>0.0</td>\n",
       "      <td>0.0</td>\n",
       "      <td>1.0</td>\n",
       "      <td>0.0</td>\n",
       "      <td>1.0</td>\n",
       "      <td>0.0</td>\n",
       "      <td>0.0</td>\n",
       "      <td>0.0</td>\n",
       "      <td>0.0</td>\n",
       "      <td>0.0</td>\n",
       "      <td>0.0</td>\n",
       "      <td>0.0</td>\n",
       "      <td>0.0</td>\n",
       "      <td>0.0</td>\n",
       "      <td>0.0</td>\n",
       "      <td>0.0</td>\n",
       "      <td>1.0</td>\n",
       "      <td>1.0</td>\n",
       "      <td>0.0</td>\n",
       "      <td>0.0</td>\n",
       "      <td>1.0</td>\n",
       "      <td>1.0</td>\n",
       "      <td>21.25</td>\n",
       "      <td>21.25</td>\n",
       "    </tr>\n",
       "  </tbody>\n",
       "</table>\n",
       "</div>"
      ],
      "text/plain": [
       "   listing_id       date  available  month month_name  week  price_usd_cal  \\\n",
       "0      241032 2016-01-04       True      1    January     1           85.0   \n",
       "1      241032 2016-01-05       True      1    January     1           85.0   \n",
       "\n",
       "                           listing_url     scrape_id last_scraped  \\\n",
       "0  https://www.airbnb.com/rooms/241032  2.016010e+13   2016-01-04   \n",
       "1  https://www.airbnb.com/rooms/241032  2.016010e+13   2016-01-04   \n",
       "\n",
       "                           name summary  \\\n",
       "0  Stylish Queen Anne Apartment     NaN   \n",
       "1  Stylish Queen Anne Apartment     NaN   \n",
       "\n",
       "                                               space  \\\n",
       "0  Make your self at home in this charming one-be...   \n",
       "1  Make your self at home in this charming one-be...   \n",
       "\n",
       "                                         description experiences_offered  \\\n",
       "0  Make your self at home in this charming one-be...                none   \n",
       "1  Make your self at home in this charming one-be...                none   \n",
       "\n",
       "  neighborhood_overview notes transit  \\\n",
       "0                   NaN   NaN     NaN   \n",
       "1                   NaN   NaN     NaN   \n",
       "\n",
       "                                         picture_url   host_id  \\\n",
       "0  https://a1.muscache.com/ac/pictures/67560560/c...  956883.0   \n",
       "1  https://a1.muscache.com/ac/pictures/67560560/c...  956883.0   \n",
       "\n",
       "                                   host_url host_name host_since  \\\n",
       "0  https://www.airbnb.com/users/show/956883     Maija 2011-08-11   \n",
       "1  https://www.airbnb.com/users/show/956883     Maija 2011-08-11   \n",
       "\n",
       "                                          host_about  host_response_rate  \\\n",
       "0  I am an artist, interior designer, and run a s...                96.0   \n",
       "1  I am an artist, interior designer, and run a s...                96.0   \n",
       "\n",
       "   host_acceptance_rate host_is_superhost  \\\n",
       "0                 100.0             False   \n",
       "1                 100.0             False   \n",
       "\n",
       "                                  host_thumbnail_url  \\\n",
       "0  https://a0.muscache.com/ac/users/956883/profil...   \n",
       "1  https://a0.muscache.com/ac/users/956883/profil...   \n",
       "\n",
       "                                    host_picture_url host_neighbourhood  \\\n",
       "0  https://a0.muscache.com/ac/users/956883/profil...         Queen Anne   \n",
       "1  https://a0.muscache.com/ac/users/956883/profil...         Queen Anne   \n",
       "\n",
       "   host_listings_count  host_total_listings_count host_has_profile_pic  \\\n",
       "0                  3.0                        3.0                 True   \n",
       "1                  3.0                        3.0                 True   \n",
       "\n",
       "  host_identity_verified                                         street  \\\n",
       "0                   True  Gilman Dr W, Seattle, WA 98119, United States   \n",
       "1                   True  Gilman Dr W, Seattle, WA 98119, United States   \n",
       "\n",
       "  neighbourhood neighbourhood_cleansed neighbourhood_group_cleansed     city  \\\n",
       "0    Queen Anne        West Queen Anne                   Queen Anne  Seattle   \n",
       "1    Queen Anne        West Queen Anne                   Queen Anne  Seattle   \n",
       "\n",
       "  zipcode   latitude   longitude is_location_exact property_type  \\\n",
       "0   98119  47.636289 -122.371025              True     apartment   \n",
       "1   98119  47.636289 -122.371025              True     apartment   \n",
       "\n",
       "         room_type  accommodates  bathrooms  bedrooms  beds  bed_type  \\\n",
       "0  Entire home/apt           4.0        1.0       1.0   1.0  Real Bed   \n",
       "1  Entire home/apt           4.0        1.0       1.0   1.0  Real Bed   \n",
       "\n",
       "   square_feet  guests_included  minimum_nights  maximum_nights  \\\n",
       "0          NaN              2.0             1.0           365.0   \n",
       "1          NaN              2.0             1.0           365.0   \n",
       "\n",
       "  calendar_updated has_availability  availability_30  availability_60  \\\n",
       "0      4 weeks ago             True             14.0             41.0   \n",
       "1      4 weeks ago             True             14.0             41.0   \n",
       "\n",
       "   availability_90  availability_365 calendar_last_scraped  number_of_reviews  \\\n",
       "0             71.0             346.0            2016-01-04              207.0   \n",
       "1             71.0             346.0            2016-01-04              207.0   \n",
       "\n",
       "  first_review last_review  review_scores_rating  review_scores_accuracy  \\\n",
       "0   2011-11-01  2016-01-02                  95.0                    10.0   \n",
       "1   2011-11-01  2016-01-02                  95.0                    10.0   \n",
       "\n",
       "   review_scores_cleanliness  review_scores_checkin  \\\n",
       "0                       10.0                   10.0   \n",
       "1                       10.0                   10.0   \n",
       "\n",
       "   review_scores_communication  review_scores_location  review_scores_value  \\\n",
       "0                         10.0                     9.0                 10.0   \n",
       "1                         10.0                     9.0                 10.0   \n",
       "\n",
       "  requires_license  license instant_bookable cancellation_policy  \\\n",
       "0            False      NaN            False            moderate   \n",
       "1            False      NaN            False            moderate   \n",
       "\n",
       "  require_guest_profile_picture require_guest_phone_verification  \\\n",
       "0                         False                            False   \n",
       "1                         False                            False   \n",
       "\n",
       "   calculated_host_listings_count  reviews_per_month  price_usd  \\\n",
       "0                             2.0               4.07       85.0   \n",
       "1                             2.0               4.07       85.0   \n",
       "\n",
       "   extra_people_usd  weekly_price_usd  monthly_price_usd  \\\n",
       "0               5.0               NaN                NaN   \n",
       "1               5.0               NaN                NaN   \n",
       "\n",
       "   security_deposit_usd  cleaning_fee_usd  host_response_time_val  \\\n",
       "0                   NaN               NaN                    0.75   \n",
       "1                   NaN               NaN                    0.75   \n",
       "\n",
       "   nr_amenities  property_type_apartment  property_type_bed_breakfast  \\\n",
       "0          10.0                      1.0                          0.0   \n",
       "1          10.0                      1.0                          0.0   \n",
       "\n",
       "   property_type_boat  property_type_bungalow  property_type_cabin  \\\n",
       "0                 0.0                     0.0                  0.0   \n",
       "1                 0.0                     0.0                  0.0   \n",
       "\n",
       "   property_type_camper_rv  property_type_chalet  property_type_condominium  \\\n",
       "0                      0.0                   0.0                        0.0   \n",
       "1                      0.0                   0.0                        0.0   \n",
       "\n",
       "   property_type_dorm  property_type_house  property_type_loft  \\\n",
       "0                 0.0                  0.0                 0.0   \n",
       "1                 0.0                  0.0                 0.0   \n",
       "\n",
       "   property_type_other  property_type_tent  property_type_townhouse  \\\n",
       "0                  0.0                 0.0                      0.0   \n",
       "1                  0.0                 0.0                      0.0   \n",
       "\n",
       "   property_type_treehouse  property_type_yurt  zipcode_98101  zipcode_98102  \\\n",
       "0                      0.0                 0.0            0.0            0.0   \n",
       "1                      0.0                 0.0            0.0            0.0   \n",
       "\n",
       "   zipcode_98103  zipcode_98104  zipcode_98105  zipcode_98106  zipcode_98107  \\\n",
       "0            0.0            0.0            0.0            0.0            0.0   \n",
       "1            0.0            0.0            0.0            0.0            0.0   \n",
       "\n",
       "   zipcode_98108  zipcode_98109  zipcode_98112  zipcode_98115  zipcode_98116  \\\n",
       "0            0.0            0.0            0.0            0.0            0.0   \n",
       "1            0.0            0.0            0.0            0.0            0.0   \n",
       "\n",
       "   zipcode_98117  zipcode_98118  zipcode_98119  zipcode_98121  zipcode_98122  \\\n",
       "0            0.0            0.0            1.0            0.0            0.0   \n",
       "1            0.0            0.0            1.0            0.0            0.0   \n",
       "\n",
       "   zipcode_98125  zipcode_98126  zipcode_98133  zipcode_98134  zipcode_98136  \\\n",
       "0            0.0            0.0            0.0            0.0            0.0   \n",
       "1            0.0            0.0            0.0            0.0            0.0   \n",
       "\n",
       "   zipcode_98144  zipcode_98146  zipcode_98177  zipcode_98178  zipcode_98199  \\\n",
       "0            0.0            0.0            0.0            0.0            0.0   \n",
       "1            0.0            0.0            0.0            0.0            0.0   \n",
       "\n",
       "   amenity_24-hour_check-in  amenity_air_conditioning  amenity_breakfast  \\\n",
       "0                       0.0                       1.0                0.0   \n",
       "1                       0.0                       1.0                0.0   \n",
       "\n",
       "   amenity_buzzer_wireless_intercom  amenity_cable_tv  \\\n",
       "0                               0.0               1.0   \n",
       "1                               0.0               1.0   \n",
       "\n",
       "   amenity_carbon_monoxide_detector  amenity_cat  amenity_dog  \\\n",
       "0                               0.0          0.0          0.0   \n",
       "1                               0.0          0.0          0.0   \n",
       "\n",
       "   amenity_doorman  amenity_dryer  amenity_elevator_in_building  \\\n",
       "0              0.0            1.0                           0.0   \n",
       "1              0.0            1.0                           0.0   \n",
       "\n",
       "   amenity_essentials  amenity_family_kid_friendly  amenity_fire_extinguisher  \\\n",
       "0                 0.0                          1.0                        0.0   \n",
       "1                 0.0                          1.0                        0.0   \n",
       "\n",
       "   amenity_first_aid_kit  amenity_free_parking_on_premises  amenity_gym  \\\n",
       "0                    0.0                               0.0          0.0   \n",
       "1                    0.0                               0.0          0.0   \n",
       "\n",
       "   amenity_hair_dryer  amenity_hangers  amenity_heating  amenity_hot_tub  \\\n",
       "0                 0.0              0.0              1.0              0.0   \n",
       "1                 0.0              0.0              1.0              0.0   \n",
       "\n",
       "   amenity_indoor_fireplace  amenity_internet  amenity_iron  amenity_kitchen  \\\n",
       "0                       0.0               1.0           0.0              1.0   \n",
       "1                       0.0               1.0           0.0              1.0   \n",
       "\n",
       "   amenity_laptop_friendly_workspace  amenity_lock_on_bedroom_door  \\\n",
       "0                                0.0                           0.0   \n",
       "1                                0.0                           0.0   \n",
       "\n",
       "   amenity_other_pet  amenity_pets_allowed  \\\n",
       "0                0.0                   0.0   \n",
       "1                0.0                   0.0   \n",
       "\n",
       "   amenity_pets_live_on_this_property  amenity_pool  amenity_safety_card  \\\n",
       "0                                 0.0           0.0                  0.0   \n",
       "1                                 0.0           0.0                  0.0   \n",
       "\n",
       "   amenity_shampoo  amenity_smoke_detector  amenity_smoking_allowed  \\\n",
       "0              0.0                     0.0                      0.0   \n",
       "1              0.0                     0.0                      0.0   \n",
       "\n",
       "   amenity_suitable_for_events  amenity_tv  amenity_washer  \\\n",
       "0                          0.0         1.0             1.0   \n",
       "1                          0.0         1.0             1.0   \n",
       "\n",
       "   amenity_washer___dryer  amenity_wheelchair_accessible  \\\n",
       "0                     0.0                            0.0   \n",
       "1                     0.0                            0.0   \n",
       "\n",
       "   amenity_wireless_internet  price_fluc  price_p_accom  price_p_accom_cal  \n",
       "0                        1.0         1.0          21.25              21.25  \n",
       "1                        1.0         1.0          21.25              21.25  "
      ]
     },
     "execution_count": 24,
     "metadata": {},
     "output_type": "execute_result"
    }
   ],
   "source": [
    "df_merge.head(2)"
   ]
  },
  {
   "cell_type": "code",
   "execution_count": 25,
   "metadata": {},
   "outputs": [
    {
     "data": {
      "text/html": [
       "<div>\n",
       "<style scoped>\n",
       "    .dataframe tbody tr th:only-of-type {\n",
       "        vertical-align: middle;\n",
       "    }\n",
       "\n",
       "    .dataframe tbody tr th {\n",
       "        vertical-align: top;\n",
       "    }\n",
       "\n",
       "    .dataframe thead th {\n",
       "        text-align: right;\n",
       "    }\n",
       "</style>\n",
       "<table border=\"1\" class=\"dataframe\">\n",
       "  <thead>\n",
       "    <tr style=\"text-align: right;\">\n",
       "      <th></th>\n",
       "      <th>listing_id</th>\n",
       "      <th>date</th>\n",
       "      <th>week</th>\n",
       "      <th>month</th>\n",
       "      <th>month_name</th>\n",
       "      <th>available</th>\n",
       "      <th>price_usd</th>\n",
       "      <th>price_usd_cal</th>\n",
       "      <th>price_p_accom</th>\n",
       "      <th>price_p_accom_cal</th>\n",
       "      <th>neighbourhood_group_cleansed</th>\n",
       "      <th>neighbourhood</th>\n",
       "      <th>zipcode</th>\n",
       "      <th>accommodates</th>\n",
       "    </tr>\n",
       "  </thead>\n",
       "  <tbody>\n",
       "    <tr>\n",
       "      <th>0</th>\n",
       "      <td>241032</td>\n",
       "      <td>2016-01-04</td>\n",
       "      <td>1</td>\n",
       "      <td>1</td>\n",
       "      <td>January</td>\n",
       "      <td>True</td>\n",
       "      <td>85.0</td>\n",
       "      <td>85.0</td>\n",
       "      <td>21.25</td>\n",
       "      <td>21.25</td>\n",
       "      <td>Queen Anne</td>\n",
       "      <td>Queen Anne</td>\n",
       "      <td>98119</td>\n",
       "      <td>4.0</td>\n",
       "    </tr>\n",
       "    <tr>\n",
       "      <th>1</th>\n",
       "      <td>241032</td>\n",
       "      <td>2016-01-05</td>\n",
       "      <td>1</td>\n",
       "      <td>1</td>\n",
       "      <td>January</td>\n",
       "      <td>True</td>\n",
       "      <td>85.0</td>\n",
       "      <td>85.0</td>\n",
       "      <td>21.25</td>\n",
       "      <td>21.25</td>\n",
       "      <td>Queen Anne</td>\n",
       "      <td>Queen Anne</td>\n",
       "      <td>98119</td>\n",
       "      <td>4.0</td>\n",
       "    </tr>\n",
       "  </tbody>\n",
       "</table>\n",
       "</div>"
      ],
      "text/plain": [
       "   listing_id       date  week  month month_name  available  price_usd  \\\n",
       "0      241032 2016-01-04     1      1    January       True       85.0   \n",
       "1      241032 2016-01-05     1      1    January       True       85.0   \n",
       "\n",
       "   price_usd_cal  price_p_accom  price_p_accom_cal  \\\n",
       "0           85.0          21.25              21.25   \n",
       "1           85.0          21.25              21.25   \n",
       "\n",
       "  neighbourhood_group_cleansed neighbourhood zipcode  accommodates  \n",
       "0                   Queen Anne    Queen Anne   98119           4.0  \n",
       "1                   Queen Anne    Queen Anne   98119           4.0  "
      ]
     },
     "execution_count": 25,
     "metadata": {},
     "output_type": "execute_result"
    }
   ],
   "source": [
    "# get the relevant columns\n",
    "rel_cols = ['listing_id',\n",
    "            'date',\n",
    "            'week',\n",
    "            'month',\n",
    "            'month_name',\n",
    "            'available',\n",
    "            'price_usd',\n",
    "            'price_usd_cal',\n",
    "            'price_p_accom',\n",
    "            'price_p_accom_cal',\n",
    "            'neighbourhood_group_cleansed',\n",
    "            'neighbourhood',\n",
    "            'zipcode',\n",
    "            'accommodates']\n",
    "\n",
    "df_merge_f = df_merge[rel_cols]\n",
    "\n",
    "df_merge_f.head(2)"
   ]
  },
  {
   "cell_type": "code",
   "execution_count": 26,
   "metadata": {},
   "outputs": [
    {
     "data": {
      "application/vnd.plotly.v1+json": {
       "config": {
        "plotlyServerURL": "https://plotly.com"
       },
       "data": [
        {
         "name": "Relative Number [%]",
         "type": "bar",
         "x": [
          "0 ... 5",
          "5 ... 10",
          "10 ... 15",
          "15 ... 20",
          "20 ... 25",
          "25 ... 30",
          "30 ... 35",
          "35 ... 40",
          "40 ... 45",
          "45 ... 50",
          "50 ... 55",
          "55 ... 60",
          "60 ... 65",
          "65 ... 70",
          "70 ... 75",
          "75 ... 80",
          "80 ... 85",
          "85 ... 90",
          "90 ... 95",
          "95 ... 100",
          "100 ... 105",
          "105 ... 110",
          "110 ... 115",
          "115 ... 120",
          "120 ... 125",
          "125 ... 130",
          "130 ... 135",
          "135 ... 140",
          "140 ... 145",
          "145 ... 150",
          "150 ... 155",
          "155 ... 160",
          "160 ... 165",
          "165 ... 170",
          "170 ... 175",
          "175 ... 180",
          "180 ... 185",
          "185 ... 190",
          "190 ... 195"
         ],
         "y": [
          0.03,
          0.21,
          0.92,
          3.57,
          8.5,
          11.45,
          13.46,
          11.57,
          11.53,
          8.8,
          6.61,
          5.33,
          4.6,
          3.09,
          1.85,
          2.5,
          1.02,
          0.93,
          0.66,
          0.59,
          0.77,
          0.14,
          0.41,
          0.1,
          0.21,
          0.3,
          0.03,
          0.15,
          0,
          0.09,
          0.21,
          0.04,
          0,
          0.02,
          0,
          0.02,
          0.01,
          0,
          0
         ]
        },
        {
         "mode": "lines",
         "name": "Cumulative Sum [%]",
         "type": "scatter",
         "x": [
          "0 ... 5",
          "5 ... 10",
          "10 ... 15",
          "15 ... 20",
          "20 ... 25",
          "25 ... 30",
          "30 ... 35",
          "35 ... 40",
          "40 ... 45",
          "45 ... 50",
          "50 ... 55",
          "55 ... 60",
          "60 ... 65",
          "65 ... 70",
          "70 ... 75",
          "75 ... 80",
          "80 ... 85",
          "85 ... 90",
          "90 ... 95",
          "95 ... 100",
          "100 ... 105",
          "105 ... 110",
          "110 ... 115",
          "115 ... 120",
          "120 ... 125",
          "125 ... 130",
          "130 ... 135",
          "135 ... 140",
          "140 ... 145",
          "145 ... 150",
          "150 ... 155",
          "155 ... 160",
          "160 ... 165",
          "165 ... 170",
          "170 ... 175",
          "175 ... 180",
          "180 ... 185",
          "185 ... 190",
          "190 ... 195"
         ],
         "xaxis": "x",
         "y": [
          0.03,
          0.24,
          1.1600000000000001,
          4.73,
          13.23,
          24.68,
          38.14,
          49.71,
          61.24,
          70.04,
          76.65,
          81.98,
          86.58,
          89.67,
          91.52,
          94.02,
          95.03999999999999,
          95.97,
          96.63,
          97.22,
          97.99,
          98.13,
          98.53999999999999,
          98.63999999999999,
          98.84999999999998,
          99.14999999999998,
          99.17999999999998,
          99.32999999999998,
          99.32999999999998,
          99.41999999999999,
          99.62999999999998,
          99.66999999999999,
          99.66999999999999,
          99.68999999999998,
          99.68999999999998,
          99.70999999999998,
          99.71999999999998,
          99.71999999999998,
          99.71999999999998
         ],
         "yaxis": "y2"
        }
       ],
       "layout": {
        "annotations": [
         {
          "align": "right",
          "showarrow": false,
          "text": "Maximum Value: 413.33 USD/accommodate",
          "x": 0.98,
          "xref": "x domain",
          "y": 0.9,
          "yref": "y domain"
         }
        ],
        "height": 600,
        "hovermode": "x",
        "legend": {
         "orientation": "h",
         "x": 0,
         "xanchor": "left",
         "y": 1,
         "yanchor": "bottom"
        },
        "template": {
         "data": {
          "bar": [
           {
            "error_x": {
             "color": "#f2f5fa"
            },
            "error_y": {
             "color": "#f2f5fa"
            },
            "marker": {
             "line": {
              "color": "rgb(17,17,17)",
              "width": 0.5
             },
             "pattern": {
              "fillmode": "overlay",
              "size": 10,
              "solidity": 0.2
             }
            },
            "type": "bar"
           }
          ],
          "barpolar": [
           {
            "marker": {
             "line": {
              "color": "rgb(17,17,17)",
              "width": 0.5
             },
             "pattern": {
              "fillmode": "overlay",
              "size": 10,
              "solidity": 0.2
             }
            },
            "type": "barpolar"
           }
          ],
          "carpet": [
           {
            "aaxis": {
             "endlinecolor": "#A2B1C6",
             "gridcolor": "#506784",
             "linecolor": "#506784",
             "minorgridcolor": "#506784",
             "startlinecolor": "#A2B1C6"
            },
            "baxis": {
             "endlinecolor": "#A2B1C6",
             "gridcolor": "#506784",
             "linecolor": "#506784",
             "minorgridcolor": "#506784",
             "startlinecolor": "#A2B1C6"
            },
            "type": "carpet"
           }
          ],
          "choropleth": [
           {
            "colorbar": {
             "outlinewidth": 0,
             "ticks": ""
            },
            "type": "choropleth"
           }
          ],
          "contour": [
           {
            "colorbar": {
             "outlinewidth": 0,
             "ticks": ""
            },
            "colorscale": [
             [
              0,
              "#0d0887"
             ],
             [
              0.1111111111111111,
              "#46039f"
             ],
             [
              0.2222222222222222,
              "#7201a8"
             ],
             [
              0.3333333333333333,
              "#9c179e"
             ],
             [
              0.4444444444444444,
              "#bd3786"
             ],
             [
              0.5555555555555556,
              "#d8576b"
             ],
             [
              0.6666666666666666,
              "#ed7953"
             ],
             [
              0.7777777777777778,
              "#fb9f3a"
             ],
             [
              0.8888888888888888,
              "#fdca26"
             ],
             [
              1,
              "#f0f921"
             ]
            ],
            "type": "contour"
           }
          ],
          "contourcarpet": [
           {
            "colorbar": {
             "outlinewidth": 0,
             "ticks": ""
            },
            "type": "contourcarpet"
           }
          ],
          "heatmap": [
           {
            "colorbar": {
             "outlinewidth": 0,
             "ticks": ""
            },
            "colorscale": [
             [
              0,
              "#0d0887"
             ],
             [
              0.1111111111111111,
              "#46039f"
             ],
             [
              0.2222222222222222,
              "#7201a8"
             ],
             [
              0.3333333333333333,
              "#9c179e"
             ],
             [
              0.4444444444444444,
              "#bd3786"
             ],
             [
              0.5555555555555556,
              "#d8576b"
             ],
             [
              0.6666666666666666,
              "#ed7953"
             ],
             [
              0.7777777777777778,
              "#fb9f3a"
             ],
             [
              0.8888888888888888,
              "#fdca26"
             ],
             [
              1,
              "#f0f921"
             ]
            ],
            "type": "heatmap"
           }
          ],
          "heatmapgl": [
           {
            "colorbar": {
             "outlinewidth": 0,
             "ticks": ""
            },
            "colorscale": [
             [
              0,
              "#0d0887"
             ],
             [
              0.1111111111111111,
              "#46039f"
             ],
             [
              0.2222222222222222,
              "#7201a8"
             ],
             [
              0.3333333333333333,
              "#9c179e"
             ],
             [
              0.4444444444444444,
              "#bd3786"
             ],
             [
              0.5555555555555556,
              "#d8576b"
             ],
             [
              0.6666666666666666,
              "#ed7953"
             ],
             [
              0.7777777777777778,
              "#fb9f3a"
             ],
             [
              0.8888888888888888,
              "#fdca26"
             ],
             [
              1,
              "#f0f921"
             ]
            ],
            "type": "heatmapgl"
           }
          ],
          "histogram": [
           {
            "marker": {
             "pattern": {
              "fillmode": "overlay",
              "size": 10,
              "solidity": 0.2
             }
            },
            "type": "histogram"
           }
          ],
          "histogram2d": [
           {
            "colorbar": {
             "outlinewidth": 0,
             "ticks": ""
            },
            "colorscale": [
             [
              0,
              "#0d0887"
             ],
             [
              0.1111111111111111,
              "#46039f"
             ],
             [
              0.2222222222222222,
              "#7201a8"
             ],
             [
              0.3333333333333333,
              "#9c179e"
             ],
             [
              0.4444444444444444,
              "#bd3786"
             ],
             [
              0.5555555555555556,
              "#d8576b"
             ],
             [
              0.6666666666666666,
              "#ed7953"
             ],
             [
              0.7777777777777778,
              "#fb9f3a"
             ],
             [
              0.8888888888888888,
              "#fdca26"
             ],
             [
              1,
              "#f0f921"
             ]
            ],
            "type": "histogram2d"
           }
          ],
          "histogram2dcontour": [
           {
            "colorbar": {
             "outlinewidth": 0,
             "ticks": ""
            },
            "colorscale": [
             [
              0,
              "#0d0887"
             ],
             [
              0.1111111111111111,
              "#46039f"
             ],
             [
              0.2222222222222222,
              "#7201a8"
             ],
             [
              0.3333333333333333,
              "#9c179e"
             ],
             [
              0.4444444444444444,
              "#bd3786"
             ],
             [
              0.5555555555555556,
              "#d8576b"
             ],
             [
              0.6666666666666666,
              "#ed7953"
             ],
             [
              0.7777777777777778,
              "#fb9f3a"
             ],
             [
              0.8888888888888888,
              "#fdca26"
             ],
             [
              1,
              "#f0f921"
             ]
            ],
            "type": "histogram2dcontour"
           }
          ],
          "mesh3d": [
           {
            "colorbar": {
             "outlinewidth": 0,
             "ticks": ""
            },
            "type": "mesh3d"
           }
          ],
          "parcoords": [
           {
            "line": {
             "colorbar": {
              "outlinewidth": 0,
              "ticks": ""
             }
            },
            "type": "parcoords"
           }
          ],
          "pie": [
           {
            "automargin": true,
            "type": "pie"
           }
          ],
          "scatter": [
           {
            "marker": {
             "line": {
              "color": "#283442"
             }
            },
            "type": "scatter"
           }
          ],
          "scatter3d": [
           {
            "line": {
             "colorbar": {
              "outlinewidth": 0,
              "ticks": ""
             }
            },
            "marker": {
             "colorbar": {
              "outlinewidth": 0,
              "ticks": ""
             }
            },
            "type": "scatter3d"
           }
          ],
          "scattercarpet": [
           {
            "marker": {
             "colorbar": {
              "outlinewidth": 0,
              "ticks": ""
             }
            },
            "type": "scattercarpet"
           }
          ],
          "scattergeo": [
           {
            "marker": {
             "colorbar": {
              "outlinewidth": 0,
              "ticks": ""
             }
            },
            "type": "scattergeo"
           }
          ],
          "scattergl": [
           {
            "marker": {
             "line": {
              "color": "#283442"
             }
            },
            "type": "scattergl"
           }
          ],
          "scattermapbox": [
           {
            "marker": {
             "colorbar": {
              "outlinewidth": 0,
              "ticks": ""
             }
            },
            "type": "scattermapbox"
           }
          ],
          "scatterpolar": [
           {
            "marker": {
             "colorbar": {
              "outlinewidth": 0,
              "ticks": ""
             }
            },
            "type": "scatterpolar"
           }
          ],
          "scatterpolargl": [
           {
            "marker": {
             "colorbar": {
              "outlinewidth": 0,
              "ticks": ""
             }
            },
            "type": "scatterpolargl"
           }
          ],
          "scatterternary": [
           {
            "marker": {
             "colorbar": {
              "outlinewidth": 0,
              "ticks": ""
             }
            },
            "type": "scatterternary"
           }
          ],
          "surface": [
           {
            "colorbar": {
             "outlinewidth": 0,
             "ticks": ""
            },
            "colorscale": [
             [
              0,
              "#0d0887"
             ],
             [
              0.1111111111111111,
              "#46039f"
             ],
             [
              0.2222222222222222,
              "#7201a8"
             ],
             [
              0.3333333333333333,
              "#9c179e"
             ],
             [
              0.4444444444444444,
              "#bd3786"
             ],
             [
              0.5555555555555556,
              "#d8576b"
             ],
             [
              0.6666666666666666,
              "#ed7953"
             ],
             [
              0.7777777777777778,
              "#fb9f3a"
             ],
             [
              0.8888888888888888,
              "#fdca26"
             ],
             [
              1,
              "#f0f921"
             ]
            ],
            "type": "surface"
           }
          ],
          "table": [
           {
            "cells": {
             "fill": {
              "color": "#506784"
             },
             "line": {
              "color": "rgb(17,17,17)"
             }
            },
            "header": {
             "fill": {
              "color": "#2a3f5f"
             },
             "line": {
              "color": "rgb(17,17,17)"
             }
            },
            "type": "table"
           }
          ]
         },
         "layout": {
          "annotationdefaults": {
           "arrowcolor": "#f2f5fa",
           "arrowhead": 0,
           "arrowwidth": 1
          },
          "autotypenumbers": "strict",
          "coloraxis": {
           "colorbar": {
            "outlinewidth": 0,
            "ticks": ""
           }
          },
          "colorscale": {
           "diverging": [
            [
             0,
             "#8e0152"
            ],
            [
             0.1,
             "#c51b7d"
            ],
            [
             0.2,
             "#de77ae"
            ],
            [
             0.3,
             "#f1b6da"
            ],
            [
             0.4,
             "#fde0ef"
            ],
            [
             0.5,
             "#f7f7f7"
            ],
            [
             0.6,
             "#e6f5d0"
            ],
            [
             0.7,
             "#b8e186"
            ],
            [
             0.8,
             "#7fbc41"
            ],
            [
             0.9,
             "#4d9221"
            ],
            [
             1,
             "#276419"
            ]
           ],
           "sequential": [
            [
             0,
             "#0d0887"
            ],
            [
             0.1111111111111111,
             "#46039f"
            ],
            [
             0.2222222222222222,
             "#7201a8"
            ],
            [
             0.3333333333333333,
             "#9c179e"
            ],
            [
             0.4444444444444444,
             "#bd3786"
            ],
            [
             0.5555555555555556,
             "#d8576b"
            ],
            [
             0.6666666666666666,
             "#ed7953"
            ],
            [
             0.7777777777777778,
             "#fb9f3a"
            ],
            [
             0.8888888888888888,
             "#fdca26"
            ],
            [
             1,
             "#f0f921"
            ]
           ],
           "sequentialminus": [
            [
             0,
             "#0d0887"
            ],
            [
             0.1111111111111111,
             "#46039f"
            ],
            [
             0.2222222222222222,
             "#7201a8"
            ],
            [
             0.3333333333333333,
             "#9c179e"
            ],
            [
             0.4444444444444444,
             "#bd3786"
            ],
            [
             0.5555555555555556,
             "#d8576b"
            ],
            [
             0.6666666666666666,
             "#ed7953"
            ],
            [
             0.7777777777777778,
             "#fb9f3a"
            ],
            [
             0.8888888888888888,
             "#fdca26"
            ],
            [
             1,
             "#f0f921"
            ]
           ]
          },
          "colorway": [
           "#636efa",
           "#EF553B",
           "#00cc96",
           "#ab63fa",
           "#FFA15A",
           "#19d3f3",
           "#FF6692",
           "#B6E880",
           "#FF97FF",
           "#FECB52"
          ],
          "font": {
           "color": "#f2f5fa"
          },
          "geo": {
           "bgcolor": "rgb(17,17,17)",
           "lakecolor": "rgb(17,17,17)",
           "landcolor": "rgb(17,17,17)",
           "showlakes": true,
           "showland": true,
           "subunitcolor": "#506784"
          },
          "hoverlabel": {
           "align": "left"
          },
          "hovermode": "closest",
          "mapbox": {
           "style": "dark"
          },
          "paper_bgcolor": "rgb(17,17,17)",
          "plot_bgcolor": "rgb(17,17,17)",
          "polar": {
           "angularaxis": {
            "gridcolor": "#506784",
            "linecolor": "#506784",
            "ticks": ""
           },
           "bgcolor": "rgb(17,17,17)",
           "radialaxis": {
            "gridcolor": "#506784",
            "linecolor": "#506784",
            "ticks": ""
           }
          },
          "scene": {
           "xaxis": {
            "backgroundcolor": "rgb(17,17,17)",
            "gridcolor": "#506784",
            "gridwidth": 2,
            "linecolor": "#506784",
            "showbackground": true,
            "ticks": "",
            "zerolinecolor": "#C8D4E3"
           },
           "yaxis": {
            "backgroundcolor": "rgb(17,17,17)",
            "gridcolor": "#506784",
            "gridwidth": 2,
            "linecolor": "#506784",
            "showbackground": true,
            "ticks": "",
            "zerolinecolor": "#C8D4E3"
           },
           "zaxis": {
            "backgroundcolor": "rgb(17,17,17)",
            "gridcolor": "#506784",
            "gridwidth": 2,
            "linecolor": "#506784",
            "showbackground": true,
            "ticks": "",
            "zerolinecolor": "#C8D4E3"
           }
          },
          "shapedefaults": {
           "line": {
            "color": "#f2f5fa"
           }
          },
          "sliderdefaults": {
           "bgcolor": "#C8D4E3",
           "bordercolor": "rgb(17,17,17)",
           "borderwidth": 1,
           "tickwidth": 0
          },
          "ternary": {
           "aaxis": {
            "gridcolor": "#506784",
            "linecolor": "#506784",
            "ticks": ""
           },
           "baxis": {
            "gridcolor": "#506784",
            "linecolor": "#506784",
            "ticks": ""
           },
           "bgcolor": "rgb(17,17,17)",
           "caxis": {
            "gridcolor": "#506784",
            "linecolor": "#506784",
            "ticks": ""
           }
          },
          "title": {
           "x": 0.05
          },
          "updatemenudefaults": {
           "bgcolor": "#506784",
           "borderwidth": 0
          },
          "xaxis": {
           "automargin": true,
           "gridcolor": "#283442",
           "linecolor": "#506784",
           "ticks": "",
           "title": {
            "standoff": 15
           },
           "zerolinecolor": "#283442",
           "zerolinewidth": 2
          },
          "yaxis": {
           "automargin": true,
           "gridcolor": "#283442",
           "linecolor": "#506784",
           "ticks": "",
           "title": {
            "standoff": 15
           },
           "zerolinecolor": "#283442",
           "zerolinewidth": 2
          }
         }
        },
        "title": {
         "font": {
          "size": 20
         },
         "text": "Distribution of the prices per accommodate"
        },
        "width": 1000,
        "xaxis": {
         "anchor": "y",
         "domain": [
          0,
          0.94
         ],
         "tickfont": {
          "size": 12
         },
         "title": {
          "font": {
           "size": 16
          },
          "text": "Price per accommodate class [USD]"
         }
        },
        "yaxis": {
         "anchor": "x",
         "domain": [
          0,
          1
         ],
         "range": [
          0,
          15
         ],
         "side": "left",
         "tickfont": {
          "size": 12
         },
         "title": {
          "font": {
           "size": 16
          },
          "text": "Relative Number [%]"
         }
        },
        "yaxis2": {
         "anchor": "x",
         "overlaying": "y",
         "range": [
          0,
          150
         ],
         "side": "right",
         "tickfont": {
          "size": 12
         },
         "tickmode": "sync",
         "title": {
          "font": {
           "size": 16
          },
          "text": "Cumulative Sum [%]"
         }
        }
       }
      }
     },
     "metadata": {},
     "output_type": "display_data"
    }
   ],
   "source": [
    "# calculate the histogram for the price per accomodate\n",
    "counts, bins = np.histogram(df_merge_f.price_p_accom_cal, bins=range(0, 200, 5))\n",
    "bin_label = str(bins[:-1]) + ' ... ' + str(bins[1:])\n",
    "\n",
    "# calculate the relative values\n",
    "rels = np.round(counts / len(df_merge_f) * 100, 2)\n",
    "rels_cumsum = rels.cumsum()\n",
    "\n",
    "# get the max values\n",
    "max_val = np.round(df_merge_f.price_p_accom_cal.max(), 2)\n",
    "\n",
    "# create the labels\n",
    "bin_label = []\n",
    "\n",
    "for i in range(len(bins)):\n",
    "    if i < len(bins)-1:\n",
    "        bin_label.append(str(bins[i]) + ' ... ' + str(bins[i+1]))\n",
    "\n",
    "\n",
    "# create the figure\n",
    "fig = make_subplots(specs=[[{\"secondary_y\": True}]])\n",
    "\n",
    "fig.add_trace(go.Bar(x=bin_label, y=rels, \n",
    "                     name = 'Relative Number [%]'\n",
    "             ))\n",
    "\n",
    "fig.add_trace(go.Scatter(x=bin_label, y=rels_cumsum, \n",
    "                        name = 'Cumulative Sum [%]',\n",
    "                        mode = 'lines'),\n",
    "                        secondary_y=True)\n",
    "\n",
    "fig.update_layout(\n",
    "    title='Distribution of the prices per accommodate',\n",
    "    title_font = {\"size\": 20},\n",
    "    xaxis_title = 'Price per accommodate class [USD]',\n",
    "    template='plotly_dark',\n",
    "    hovermode = 'x',\n",
    "    width = 1000,\n",
    "    height = 600,\n",
    "    yaxis = dict(\n",
    "        title=dict(text=\"Relative Number [%]\"),\n",
    "        side=\"left\",\n",
    "        range=[0, 15]),\n",
    "    yaxis2 = dict(\n",
    "        title=dict(text=\"Cumulative Sum [%]\"),\n",
    "        side=\"right\",\n",
    "        range=[0, 150],\n",
    "        overlaying=\"y\",\n",
    "        tickmode=\"sync\")\n",
    ")\n",
    "\n",
    "fig.update_yaxes(\n",
    "    title_font = {\"size\": 16},\n",
    "    tickfont = {\"size\": 12}\n",
    "    )\n",
    "\n",
    "fig.update_xaxes(\n",
    "    title_font = {\"size\": 16},\n",
    "    tickfont = {\"size\": 12}\n",
    "    )\n",
    "\n",
    "fig.update_layout(legend=dict(\n",
    "    orientation=\"h\",\n",
    "    yanchor=\"bottom\",\n",
    "    y=1,\n",
    "    xanchor=\"left\",\n",
    "    x=0\n",
    "    ))\n",
    "\n",
    "\n",
    "fig.add_annotation(\n",
    "    xref=\"x domain\",\n",
    "    yref=\"y domain\",\n",
    "    x=.98,\n",
    "    y=.9,\n",
    "    text=f\"Maximum Value: {max_val} USD/accommodate\",\n",
    "    align=\"right\",\n",
    "    showarrow=False\n",
    ")\n",
    "\n",
    "\n",
    "fig.show()"
   ]
  },
  {
   "cell_type": "code",
   "execution_count": 27,
   "metadata": {},
   "outputs": [],
   "source": [
    "if pub_chart_studio:\n",
    "    py.plot(fig, filename=\"seattle_distr_pric_accom\", auto_open = True)"
   ]
  },
  {
   "cell_type": "markdown",
   "metadata": {},
   "source": [
    "#### Median price per accommodate per zip code"
   ]
  },
  {
   "cell_type": "code",
   "execution_count": 28,
   "metadata": {},
   "outputs": [],
   "source": [
    "# Function to calculate qunatiles in a variable way within an aggregtation\n",
    "# Inspiration and adaption from the code here: https://stackoverflow.com/questions/17578115/pass-percentiles-to-pandas-agg-function\n",
    "\n",
    "def quant(q):\n",
    "    def calc_q(x):\n",
    "        return x.quantile(q)\n",
    "    return calc_q"
   ]
  },
  {
   "cell_type": "code",
   "execution_count": 29,
   "metadata": {},
   "outputs": [
    {
     "data": {
      "text/html": [
       "<div>\n",
       "<style scoped>\n",
       "    .dataframe tbody tr th:only-of-type {\n",
       "        vertical-align: middle;\n",
       "    }\n",
       "\n",
       "    .dataframe tbody tr th {\n",
       "        vertical-align: top;\n",
       "    }\n",
       "\n",
       "    .dataframe thead th {\n",
       "        text-align: right;\n",
       "    }\n",
       "</style>\n",
       "<table border=\"1\" class=\"dataframe\">\n",
       "  <thead>\n",
       "    <tr style=\"text-align: right;\">\n",
       "      <th></th>\n",
       "      <th>zipcode</th>\n",
       "      <th>median</th>\n",
       "      <th>min</th>\n",
       "      <th>max</th>\n",
       "      <th>q01</th>\n",
       "      <th>q05</th>\n",
       "      <th>q95</th>\n",
       "      <th>q99</th>\n",
       "      <th>ngbhs</th>\n",
       "    </tr>\n",
       "  </thead>\n",
       "  <tbody>\n",
       "    <tr>\n",
       "      <th>0</th>\n",
       "      <td>98101</td>\n",
       "      <td>49.7</td>\n",
       "      <td>4.8</td>\n",
       "      <td>366.5</td>\n",
       "      <td>10.8</td>\n",
       "      <td>24.8</td>\n",
       "      <td>100.0</td>\n",
       "      <td>150.0</td>\n",
       "      <td>[Cascade, Capitol Hill, Downtown]</td>\n",
       "    </tr>\n",
       "    <tr>\n",
       "      <th>1</th>\n",
       "      <td>98102</td>\n",
       "      <td>45.0</td>\n",
       "      <td>6.5</td>\n",
       "      <td>197.0</td>\n",
       "      <td>17.3</td>\n",
       "      <td>23.2</td>\n",
       "      <td>77.5</td>\n",
       "      <td>110.0</td>\n",
       "      <td>[Cascade, Capitol Hill, Downtown]</td>\n",
       "    </tr>\n",
       "  </tbody>\n",
       "</table>\n",
       "</div>"
      ],
      "text/plain": [
       "  zipcode  median  min    max   q01   q05    q95    q99  \\\n",
       "0   98101    49.7  4.8  366.5  10.8  24.8  100.0  150.0   \n",
       "1   98102    45.0  6.5  197.0  17.3  23.2   77.5  110.0   \n",
       "\n",
       "                               ngbhs  \n",
       "0  [Cascade, Capitol Hill, Downtown]  \n",
       "1  [Cascade, Capitol Hill, Downtown]  "
      ]
     },
     "execution_count": 29,
     "metadata": {},
     "output_type": "execute_result"
    }
   ],
   "source": [
    "# calculate aggregated values by zipcode\n",
    "df_agg_zip = df_merge_f.groupby(['zipcode']).agg(\n",
    "    median = ('price_p_accom_cal', 'median'),\n",
    "    min = ('price_p_accom_cal', 'min'),\n",
    "    max = ('price_p_accom_cal', 'max'),\n",
    "    q01 = ('price_p_accom_cal', quant(0.01)),\n",
    "    q05 = ('price_p_accom_cal', quant(0.05)),\n",
    "    q95 = ('price_p_accom_cal', quant(0.95)),\n",
    "    q99 = ('price_p_accom_cal', quant(0.99)),\n",
    "    ngbhs = ('neighbourhood_group_cleansed', set)\n",
    ").round(1).reset_index()\n",
    "\n",
    "df_agg_zip.ngbhs = df_agg_zip.ngbhs.apply(list)\n",
    "df_agg_zip.head(2)"
   ]
  },
  {
   "cell_type": "markdown",
   "metadata": {},
   "source": [
    "##### Line Plot"
   ]
  },
  {
   "cell_type": "code",
   "execution_count": 30,
   "metadata": {},
   "outputs": [
    {
     "data": {
      "application/vnd.plotly.v1+json": {
       "config": {
        "plotlyServerURL": "https://plotly.com"
       },
       "data": [
        {
         "line": {
          "width": 1
         },
         "marker": {
          "color": "#444"
         },
         "mode": "lines",
         "name": "Minimum",
         "showlegend": false,
         "type": "scatter",
         "x": [
          "98101",
          "98102",
          "98103",
          "98104",
          "98105",
          "98106",
          "98107",
          "98108",
          "98109",
          "98112",
          "98115",
          "98116",
          "98117",
          "98118",
          "98119",
          "98121",
          "98122",
          "98125",
          "98126",
          "98133",
          "98134",
          "98136",
          "98144",
          "98146",
          "98177",
          "98178",
          "98199"
         ],
         "y": [
          4.8,
          6.5,
          12.1,
          9.7,
          7.2,
          11.2,
          9.8,
          6.2,
          13.5,
          11.2,
          11.5,
          10,
          8,
          9.3,
          6.7,
          3,
          10,
          10.2,
          9.8,
          11.3,
          29.8,
          6,
          10.6,
          25,
          11.5,
          0.8,
          8.8
         ]
        },
        {
         "fill": "tonexty",
         "fillcolor": "rgba(68, 68, 68, .1)",
         "line": {
          "width": 1
         },
         "marker": {
          "color": "#444"
         },
         "mode": "lines",
         "name": "Maximum",
         "showlegend": false,
         "type": "scatter",
         "x": [
          "98101",
          "98102",
          "98103",
          "98104",
          "98105",
          "98106",
          "98107",
          "98108",
          "98109",
          "98112",
          "98115",
          "98116",
          "98117",
          "98118",
          "98119",
          "98121",
          "98122",
          "98125",
          "98126",
          "98133",
          "98134",
          "98136",
          "98144",
          "98146",
          "98177",
          "98178",
          "98199"
         ],
         "y": [
          366.5,
          197,
          162.8,
          250,
          120,
          95.2,
          110,
          104,
          192,
          175,
          250,
          210,
          106,
          125.6,
          413.3,
          155,
          222,
          125,
          150,
          99,
          80,
          75,
          150,
          55,
          55,
          59,
          275
         ]
        },
        {
         "line": {
          "width": 1.5
         },
         "mode": "lines",
         "name": "1% Quantile",
         "showlegend": true,
         "type": "scatter",
         "x": [
          "98101",
          "98102",
          "98103",
          "98104",
          "98105",
          "98106",
          "98107",
          "98108",
          "98109",
          "98112",
          "98115",
          "98116",
          "98117",
          "98118",
          "98119",
          "98121",
          "98122",
          "98125",
          "98126",
          "98133",
          "98134",
          "98136",
          "98144",
          "98146",
          "98177",
          "98178",
          "98199"
         ],
         "y": [
          10.8,
          17.3,
          16.7,
          18.2,
          18.8,
          13.7,
          16.3,
          6.2,
          19.5,
          20,
          13,
          15,
          12.7,
          11.2,
          6.7,
          17.5,
          16.5,
          16.7,
          9.8,
          12,
          29.8,
          13,
          16.2,
          25,
          12.4,
          14.1,
          11.5
         ]
        },
        {
         "line": {
          "width": 1.5
         },
         "mode": "lines",
         "name": "5% Quantile",
         "showlegend": true,
         "type": "scatter",
         "x": [
          "98101",
          "98102",
          "98103",
          "98104",
          "98105",
          "98106",
          "98107",
          "98108",
          "98109",
          "98112",
          "98115",
          "98116",
          "98117",
          "98118",
          "98119",
          "98121",
          "98122",
          "98125",
          "98126",
          "98133",
          "98134",
          "98136",
          "98144",
          "98146",
          "98177",
          "98178",
          "98199"
         ],
         "y": [
          24.8,
          23.2,
          20,
          24.8,
          20.8,
          16.5,
          22.5,
          19,
          23.8,
          25.5,
          16.9,
          22.5,
          18.6,
          15.7,
          21.8,
          25,
          21.4,
          20,
          15,
          16.3,
          29.8,
          15,
          19.7,
          25,
          13.2,
          14.1,
          20.8
         ]
        },
        {
         "line": {
          "width": 1.5
         },
         "mode": "lines",
         "name": "Median",
         "showlegend": true,
         "type": "scatter",
         "x": [
          "98101",
          "98102",
          "98103",
          "98104",
          "98105",
          "98106",
          "98107",
          "98108",
          "98109",
          "98112",
          "98115",
          "98116",
          "98117",
          "98118",
          "98119",
          "98121",
          "98122",
          "98125",
          "98126",
          "98133",
          "98134",
          "98136",
          "98144",
          "98146",
          "98177",
          "98178",
          "98199"
         ],
         "y": [
          49.7,
          45,
          38.5,
          50,
          35,
          30,
          36.7,
          34,
          49.5,
          44,
          35,
          40,
          34,
          30,
          44,
          49.5,
          42.5,
          30,
          33,
          32.5,
          37.5,
          37.5,
          33.3,
          31.2,
          27.5,
          33.5,
          41.7
         ]
        },
        {
         "line": {
          "width": 1.5
         },
         "mode": "lines",
         "name": "95% Quantile",
         "showlegend": true,
         "type": "scatter",
         "x": [
          "98101",
          "98102",
          "98103",
          "98104",
          "98105",
          "98106",
          "98107",
          "98108",
          "98109",
          "98112",
          "98115",
          "98116",
          "98117",
          "98118",
          "98119",
          "98121",
          "98122",
          "98125",
          "98126",
          "98133",
          "98134",
          "98136",
          "98144",
          "98146",
          "98177",
          "98178",
          "98199"
         ],
         "y": [
          100,
          77.5,
          76.2,
          120,
          65,
          50,
          75,
          80,
          102.5,
          97.5,
          70,
          99,
          68.8,
          55,
          100,
          90,
          87.5,
          72,
          80,
          62.5,
          80,
          62.5,
          60,
          55,
          55,
          59,
          90
         ]
        },
        {
         "line": {
          "width": 1.5
         },
         "mode": "lines",
         "name": "99% Quantile",
         "showlegend": true,
         "type": "scatter",
         "x": [
          "98101",
          "98102",
          "98103",
          "98104",
          "98105",
          "98106",
          "98107",
          "98108",
          "98109",
          "98112",
          "98115",
          "98116",
          "98117",
          "98118",
          "98119",
          "98121",
          "98122",
          "98125",
          "98126",
          "98133",
          "98134",
          "98136",
          "98144",
          "98146",
          "98177",
          "98178",
          "98199"
         ],
         "y": [
          150,
          110,
          113.3,
          250,
          92.5,
          80,
          87.5,
          93.8,
          120,
          143.1,
          150,
          199.5,
          79.2,
          69,
          120,
          139.2,
          125,
          125,
          150,
          99,
          80,
          75,
          90,
          55,
          55,
          59,
          275
         ]
        }
       ],
       "layout": {
        "height": 600,
        "hovermode": "x",
        "legend": {
         "orientation": "h",
         "x": 0,
         "xanchor": "left",
         "y": 1,
         "yanchor": "bottom"
        },
        "template": {
         "data": {
          "bar": [
           {
            "error_x": {
             "color": "#f2f5fa"
            },
            "error_y": {
             "color": "#f2f5fa"
            },
            "marker": {
             "line": {
              "color": "rgb(17,17,17)",
              "width": 0.5
             },
             "pattern": {
              "fillmode": "overlay",
              "size": 10,
              "solidity": 0.2
             }
            },
            "type": "bar"
           }
          ],
          "barpolar": [
           {
            "marker": {
             "line": {
              "color": "rgb(17,17,17)",
              "width": 0.5
             },
             "pattern": {
              "fillmode": "overlay",
              "size": 10,
              "solidity": 0.2
             }
            },
            "type": "barpolar"
           }
          ],
          "carpet": [
           {
            "aaxis": {
             "endlinecolor": "#A2B1C6",
             "gridcolor": "#506784",
             "linecolor": "#506784",
             "minorgridcolor": "#506784",
             "startlinecolor": "#A2B1C6"
            },
            "baxis": {
             "endlinecolor": "#A2B1C6",
             "gridcolor": "#506784",
             "linecolor": "#506784",
             "minorgridcolor": "#506784",
             "startlinecolor": "#A2B1C6"
            },
            "type": "carpet"
           }
          ],
          "choropleth": [
           {
            "colorbar": {
             "outlinewidth": 0,
             "ticks": ""
            },
            "type": "choropleth"
           }
          ],
          "contour": [
           {
            "colorbar": {
             "outlinewidth": 0,
             "ticks": ""
            },
            "colorscale": [
             [
              0,
              "#0d0887"
             ],
             [
              0.1111111111111111,
              "#46039f"
             ],
             [
              0.2222222222222222,
              "#7201a8"
             ],
             [
              0.3333333333333333,
              "#9c179e"
             ],
             [
              0.4444444444444444,
              "#bd3786"
             ],
             [
              0.5555555555555556,
              "#d8576b"
             ],
             [
              0.6666666666666666,
              "#ed7953"
             ],
             [
              0.7777777777777778,
              "#fb9f3a"
             ],
             [
              0.8888888888888888,
              "#fdca26"
             ],
             [
              1,
              "#f0f921"
             ]
            ],
            "type": "contour"
           }
          ],
          "contourcarpet": [
           {
            "colorbar": {
             "outlinewidth": 0,
             "ticks": ""
            },
            "type": "contourcarpet"
           }
          ],
          "heatmap": [
           {
            "colorbar": {
             "outlinewidth": 0,
             "ticks": ""
            },
            "colorscale": [
             [
              0,
              "#0d0887"
             ],
             [
              0.1111111111111111,
              "#46039f"
             ],
             [
              0.2222222222222222,
              "#7201a8"
             ],
             [
              0.3333333333333333,
              "#9c179e"
             ],
             [
              0.4444444444444444,
              "#bd3786"
             ],
             [
              0.5555555555555556,
              "#d8576b"
             ],
             [
              0.6666666666666666,
              "#ed7953"
             ],
             [
              0.7777777777777778,
              "#fb9f3a"
             ],
             [
              0.8888888888888888,
              "#fdca26"
             ],
             [
              1,
              "#f0f921"
             ]
            ],
            "type": "heatmap"
           }
          ],
          "heatmapgl": [
           {
            "colorbar": {
             "outlinewidth": 0,
             "ticks": ""
            },
            "colorscale": [
             [
              0,
              "#0d0887"
             ],
             [
              0.1111111111111111,
              "#46039f"
             ],
             [
              0.2222222222222222,
              "#7201a8"
             ],
             [
              0.3333333333333333,
              "#9c179e"
             ],
             [
              0.4444444444444444,
              "#bd3786"
             ],
             [
              0.5555555555555556,
              "#d8576b"
             ],
             [
              0.6666666666666666,
              "#ed7953"
             ],
             [
              0.7777777777777778,
              "#fb9f3a"
             ],
             [
              0.8888888888888888,
              "#fdca26"
             ],
             [
              1,
              "#f0f921"
             ]
            ],
            "type": "heatmapgl"
           }
          ],
          "histogram": [
           {
            "marker": {
             "pattern": {
              "fillmode": "overlay",
              "size": 10,
              "solidity": 0.2
             }
            },
            "type": "histogram"
           }
          ],
          "histogram2d": [
           {
            "colorbar": {
             "outlinewidth": 0,
             "ticks": ""
            },
            "colorscale": [
             [
              0,
              "#0d0887"
             ],
             [
              0.1111111111111111,
              "#46039f"
             ],
             [
              0.2222222222222222,
              "#7201a8"
             ],
             [
              0.3333333333333333,
              "#9c179e"
             ],
             [
              0.4444444444444444,
              "#bd3786"
             ],
             [
              0.5555555555555556,
              "#d8576b"
             ],
             [
              0.6666666666666666,
              "#ed7953"
             ],
             [
              0.7777777777777778,
              "#fb9f3a"
             ],
             [
              0.8888888888888888,
              "#fdca26"
             ],
             [
              1,
              "#f0f921"
             ]
            ],
            "type": "histogram2d"
           }
          ],
          "histogram2dcontour": [
           {
            "colorbar": {
             "outlinewidth": 0,
             "ticks": ""
            },
            "colorscale": [
             [
              0,
              "#0d0887"
             ],
             [
              0.1111111111111111,
              "#46039f"
             ],
             [
              0.2222222222222222,
              "#7201a8"
             ],
             [
              0.3333333333333333,
              "#9c179e"
             ],
             [
              0.4444444444444444,
              "#bd3786"
             ],
             [
              0.5555555555555556,
              "#d8576b"
             ],
             [
              0.6666666666666666,
              "#ed7953"
             ],
             [
              0.7777777777777778,
              "#fb9f3a"
             ],
             [
              0.8888888888888888,
              "#fdca26"
             ],
             [
              1,
              "#f0f921"
             ]
            ],
            "type": "histogram2dcontour"
           }
          ],
          "mesh3d": [
           {
            "colorbar": {
             "outlinewidth": 0,
             "ticks": ""
            },
            "type": "mesh3d"
           }
          ],
          "parcoords": [
           {
            "line": {
             "colorbar": {
              "outlinewidth": 0,
              "ticks": ""
             }
            },
            "type": "parcoords"
           }
          ],
          "pie": [
           {
            "automargin": true,
            "type": "pie"
           }
          ],
          "scatter": [
           {
            "marker": {
             "line": {
              "color": "#283442"
             }
            },
            "type": "scatter"
           }
          ],
          "scatter3d": [
           {
            "line": {
             "colorbar": {
              "outlinewidth": 0,
              "ticks": ""
             }
            },
            "marker": {
             "colorbar": {
              "outlinewidth": 0,
              "ticks": ""
             }
            },
            "type": "scatter3d"
           }
          ],
          "scattercarpet": [
           {
            "marker": {
             "colorbar": {
              "outlinewidth": 0,
              "ticks": ""
             }
            },
            "type": "scattercarpet"
           }
          ],
          "scattergeo": [
           {
            "marker": {
             "colorbar": {
              "outlinewidth": 0,
              "ticks": ""
             }
            },
            "type": "scattergeo"
           }
          ],
          "scattergl": [
           {
            "marker": {
             "line": {
              "color": "#283442"
             }
            },
            "type": "scattergl"
           }
          ],
          "scattermapbox": [
           {
            "marker": {
             "colorbar": {
              "outlinewidth": 0,
              "ticks": ""
             }
            },
            "type": "scattermapbox"
           }
          ],
          "scatterpolar": [
           {
            "marker": {
             "colorbar": {
              "outlinewidth": 0,
              "ticks": ""
             }
            },
            "type": "scatterpolar"
           }
          ],
          "scatterpolargl": [
           {
            "marker": {
             "colorbar": {
              "outlinewidth": 0,
              "ticks": ""
             }
            },
            "type": "scatterpolargl"
           }
          ],
          "scatterternary": [
           {
            "marker": {
             "colorbar": {
              "outlinewidth": 0,
              "ticks": ""
             }
            },
            "type": "scatterternary"
           }
          ],
          "surface": [
           {
            "colorbar": {
             "outlinewidth": 0,
             "ticks": ""
            },
            "colorscale": [
             [
              0,
              "#0d0887"
             ],
             [
              0.1111111111111111,
              "#46039f"
             ],
             [
              0.2222222222222222,
              "#7201a8"
             ],
             [
              0.3333333333333333,
              "#9c179e"
             ],
             [
              0.4444444444444444,
              "#bd3786"
             ],
             [
              0.5555555555555556,
              "#d8576b"
             ],
             [
              0.6666666666666666,
              "#ed7953"
             ],
             [
              0.7777777777777778,
              "#fb9f3a"
             ],
             [
              0.8888888888888888,
              "#fdca26"
             ],
             [
              1,
              "#f0f921"
             ]
            ],
            "type": "surface"
           }
          ],
          "table": [
           {
            "cells": {
             "fill": {
              "color": "#506784"
             },
             "line": {
              "color": "rgb(17,17,17)"
             }
            },
            "header": {
             "fill": {
              "color": "#2a3f5f"
             },
             "line": {
              "color": "rgb(17,17,17)"
             }
            },
            "type": "table"
           }
          ]
         },
         "layout": {
          "annotationdefaults": {
           "arrowcolor": "#f2f5fa",
           "arrowhead": 0,
           "arrowwidth": 1
          },
          "autotypenumbers": "strict",
          "coloraxis": {
           "colorbar": {
            "outlinewidth": 0,
            "ticks": ""
           }
          },
          "colorscale": {
           "diverging": [
            [
             0,
             "#8e0152"
            ],
            [
             0.1,
             "#c51b7d"
            ],
            [
             0.2,
             "#de77ae"
            ],
            [
             0.3,
             "#f1b6da"
            ],
            [
             0.4,
             "#fde0ef"
            ],
            [
             0.5,
             "#f7f7f7"
            ],
            [
             0.6,
             "#e6f5d0"
            ],
            [
             0.7,
             "#b8e186"
            ],
            [
             0.8,
             "#7fbc41"
            ],
            [
             0.9,
             "#4d9221"
            ],
            [
             1,
             "#276419"
            ]
           ],
           "sequential": [
            [
             0,
             "#0d0887"
            ],
            [
             0.1111111111111111,
             "#46039f"
            ],
            [
             0.2222222222222222,
             "#7201a8"
            ],
            [
             0.3333333333333333,
             "#9c179e"
            ],
            [
             0.4444444444444444,
             "#bd3786"
            ],
            [
             0.5555555555555556,
             "#d8576b"
            ],
            [
             0.6666666666666666,
             "#ed7953"
            ],
            [
             0.7777777777777778,
             "#fb9f3a"
            ],
            [
             0.8888888888888888,
             "#fdca26"
            ],
            [
             1,
             "#f0f921"
            ]
           ],
           "sequentialminus": [
            [
             0,
             "#0d0887"
            ],
            [
             0.1111111111111111,
             "#46039f"
            ],
            [
             0.2222222222222222,
             "#7201a8"
            ],
            [
             0.3333333333333333,
             "#9c179e"
            ],
            [
             0.4444444444444444,
             "#bd3786"
            ],
            [
             0.5555555555555556,
             "#d8576b"
            ],
            [
             0.6666666666666666,
             "#ed7953"
            ],
            [
             0.7777777777777778,
             "#fb9f3a"
            ],
            [
             0.8888888888888888,
             "#fdca26"
            ],
            [
             1,
             "#f0f921"
            ]
           ]
          },
          "colorway": [
           "#636efa",
           "#EF553B",
           "#00cc96",
           "#ab63fa",
           "#FFA15A",
           "#19d3f3",
           "#FF6692",
           "#B6E880",
           "#FF97FF",
           "#FECB52"
          ],
          "font": {
           "color": "#f2f5fa"
          },
          "geo": {
           "bgcolor": "rgb(17,17,17)",
           "lakecolor": "rgb(17,17,17)",
           "landcolor": "rgb(17,17,17)",
           "showlakes": true,
           "showland": true,
           "subunitcolor": "#506784"
          },
          "hoverlabel": {
           "align": "left"
          },
          "hovermode": "closest",
          "mapbox": {
           "style": "dark"
          },
          "paper_bgcolor": "rgb(17,17,17)",
          "plot_bgcolor": "rgb(17,17,17)",
          "polar": {
           "angularaxis": {
            "gridcolor": "#506784",
            "linecolor": "#506784",
            "ticks": ""
           },
           "bgcolor": "rgb(17,17,17)",
           "radialaxis": {
            "gridcolor": "#506784",
            "linecolor": "#506784",
            "ticks": ""
           }
          },
          "scene": {
           "xaxis": {
            "backgroundcolor": "rgb(17,17,17)",
            "gridcolor": "#506784",
            "gridwidth": 2,
            "linecolor": "#506784",
            "showbackground": true,
            "ticks": "",
            "zerolinecolor": "#C8D4E3"
           },
           "yaxis": {
            "backgroundcolor": "rgb(17,17,17)",
            "gridcolor": "#506784",
            "gridwidth": 2,
            "linecolor": "#506784",
            "showbackground": true,
            "ticks": "",
            "zerolinecolor": "#C8D4E3"
           },
           "zaxis": {
            "backgroundcolor": "rgb(17,17,17)",
            "gridcolor": "#506784",
            "gridwidth": 2,
            "linecolor": "#506784",
            "showbackground": true,
            "ticks": "",
            "zerolinecolor": "#C8D4E3"
           }
          },
          "shapedefaults": {
           "line": {
            "color": "#f2f5fa"
           }
          },
          "sliderdefaults": {
           "bgcolor": "#C8D4E3",
           "bordercolor": "rgb(17,17,17)",
           "borderwidth": 1,
           "tickwidth": 0
          },
          "ternary": {
           "aaxis": {
            "gridcolor": "#506784",
            "linecolor": "#506784",
            "ticks": ""
           },
           "baxis": {
            "gridcolor": "#506784",
            "linecolor": "#506784",
            "ticks": ""
           },
           "bgcolor": "rgb(17,17,17)",
           "caxis": {
            "gridcolor": "#506784",
            "linecolor": "#506784",
            "ticks": ""
           }
          },
          "title": {
           "x": 0.05
          },
          "updatemenudefaults": {
           "bgcolor": "#506784",
           "borderwidth": 0
          },
          "xaxis": {
           "automargin": true,
           "gridcolor": "#283442",
           "linecolor": "#506784",
           "ticks": "",
           "title": {
            "standoff": 15
           },
           "zerolinecolor": "#283442",
           "zerolinewidth": 2
          },
          "yaxis": {
           "automargin": true,
           "gridcolor": "#283442",
           "linecolor": "#506784",
           "ticks": "",
           "title": {
            "standoff": 15
           },
           "zerolinecolor": "#283442",
           "zerolinewidth": 2
          }
         }
        },
        "title": {
         "font": {
          "size": 20
         },
         "text": "Price per accommodate per zip code"
        },
        "width": 1200,
        "xaxis": {
         "tickfont": {
          "size": 12
         },
         "title": {
          "font": {
           "size": 16
          },
          "text": "Zip code"
         }
        },
        "yaxis": {
         "tickfont": {
          "size": 12
         },
         "title": {
          "font": {
           "size": 16
          },
          "text": "Price per accommodate [USD]"
         }
        }
       }
      }
     },
     "metadata": {},
     "output_type": "display_data"
    }
   ],
   "source": [
    "fig = go.Figure([\n",
    "    go.Scatter(\n",
    "        name='Minimum',\n",
    "        x=df_agg_zip['zipcode'],\n",
    "        y=df_agg_zip['min'],\n",
    "        mode='lines',\n",
    "        marker=dict(color=\"#444\"),\n",
    "        line=dict(width=1),\n",
    "        showlegend=False\n",
    "    ),\n",
    "    go.Scatter(\n",
    "        name='Maximum',\n",
    "        x=df_agg_zip['zipcode'],\n",
    "        y=df_agg_zip['max'],\n",
    "        marker=dict(color=\"#444\"),\n",
    "        line=dict(width=1),\n",
    "        mode='lines',\n",
    "        fillcolor='rgba(68, 68, 68, .1)',\n",
    "        fill='tonexty',\n",
    "        showlegend=False\n",
    "    )\n",
    "])\n",
    "\n",
    "lines = ['q01', 'q05', 'median', 'q95', 'q99']\n",
    "line_dict = {\n",
    "    'q01' : '1% Quantile',\n",
    "    'q05' : '5% Quantile',\n",
    "    'median' : 'Median',\n",
    "    'q95' : '95% Quantile',\n",
    "    'q99' : '99% Quantile'\n",
    "    }\n",
    "\n",
    "for l in lines:\n",
    "    fig.add_trace(\n",
    "        go.Scatter(\n",
    "            name=line_dict[l],\n",
    "            x=df_agg_zip['zipcode'],\n",
    "            y=df_agg_zip[l],\n",
    "            line=dict(width=1.5),\n",
    "            mode='lines',\n",
    "            showlegend=True\n",
    "        ),\n",
    "    )\n",
    "\n",
    "\n",
    "fig.update_layout(\n",
    "    yaxis_title='Price per accommodate [USD]',\n",
    "    xaxis_title = 'Zip code',\n",
    "    title='Price per accommodate per zip code',\n",
    "    title_font = {\"size\": 20},\n",
    "    hovermode=\"x\",\n",
    "    template='plotly_dark',\n",
    "    width = 1200,\n",
    "    height = 600\n",
    ")\n",
    "\n",
    "fig.update_yaxes(\n",
    "    title_font = {\"size\": 16},\n",
    "    tickfont = {\"size\": 12}\n",
    "    )\n",
    "\n",
    "fig.update_xaxes(\n",
    "    title_font = {\"size\": 16},\n",
    "    tickfont = {\"size\": 12}\n",
    "    )\n",
    "\n",
    "fig.update_layout(legend=dict(\n",
    "    orientation=\"h\",\n",
    "    yanchor=\"bottom\",\n",
    "    y=1,\n",
    "    xanchor=\"left\",\n",
    "    x=0\n",
    "))\n",
    "\n",
    "# fig.update_xaxes(tick0 = 0, dtick = 4)\n",
    "\n",
    "fig.show()"
   ]
  },
  {
   "cell_type": "code",
   "execution_count": 31,
   "metadata": {},
   "outputs": [],
   "source": [
    "if pub_chart_studio:\n",
    "    py.plot(fig, filename=\"seattle_price_zipcode\", auto_open = True)"
   ]
  },
  {
   "cell_type": "markdown",
   "metadata": {},
   "source": [
    "##### Choropleth"
   ]
  },
  {
   "cell_type": "code",
   "execution_count": null,
   "metadata": {},
   "outputs": [],
   "source": [
    "# get the min and max values\n",
    "min_val = np.floor(df_agg_zip['median'].min()/10)*10\n",
    "max_val = np.ceil(df_agg_zip['median'].max()/10)*10\n",
    "\n",
    "# create the figure\n",
    "fig = px.choropleth(data_frame=df_agg_zip, geojson=geo_wa, locations='zipcode', featureidkey = 'properties.ZCTA5CE10',\n",
    "                        color='median',\n",
    "                        color_continuous_scale=\"Viridis\",\n",
    "                        scope=\"usa\", \n",
    "                        range_color = [min_val, max_val],\n",
    "                        custom_data=['ngbhs'],\n",
    "                        labels={\n",
    "                            'zipcode' : 'Zip code',\n",
    "                            'median':'Median price [USD]',\n",
    "                            'custom_data[0]' : 'Neighbourhoods'\n",
    "                            }\n",
    "                          )\n",
    "\n",
    "fig.update_layout(\n",
    "    title='Median prices per accommodate per zip code',\n",
    "    title_font = {\"size\": 20},\n",
    "    width = 1000,\n",
    "    height = 600,\n",
    "    template='plotly_dark'\n",
    ")\n",
    "\n",
    "fig.update_traces(\n",
    "    hovertemplate=\"<br>\".join([\n",
    "        \"Zip code: %{location}\",\n",
    "        \"Median price [USD]: %{z}\",\n",
    "        \"Neighbourhoods: %{customdata[0]}\"\n",
    "    ])\n",
    ")\n",
    "\n",
    "fig.update_geos(fitbounds=\"locations\", visible=False)\n",
    "fig.update_layout(margin={\"r\":0, \"l\":0,\"b\":0})\n",
    "fig.show()"
   ]
  },
  {
   "cell_type": "markdown",
   "metadata": {},
   "source": [
    "### 3) Fluctution of the median price over the year"
   ]
  },
  {
   "cell_type": "markdown",
   "metadata": {},
   "source": [
    "#### Median price per accommodate per zipcode per month"
   ]
  },
  {
   "cell_type": "code",
   "execution_count": 33,
   "metadata": {},
   "outputs": [
    {
     "data": {
      "text/html": [
       "<div>\n",
       "<style scoped>\n",
       "    .dataframe tbody tr th:only-of-type {\n",
       "        vertical-align: middle;\n",
       "    }\n",
       "\n",
       "    .dataframe tbody tr th {\n",
       "        vertical-align: top;\n",
       "    }\n",
       "\n",
       "    .dataframe thead th {\n",
       "        text-align: right;\n",
       "    }\n",
       "</style>\n",
       "<table border=\"1\" class=\"dataframe\">\n",
       "  <thead>\n",
       "    <tr style=\"text-align: right;\">\n",
       "      <th></th>\n",
       "      <th>month</th>\n",
       "      <th>month_name</th>\n",
       "      <th>zipcode</th>\n",
       "      <th>mean</th>\n",
       "      <th>median</th>\n",
       "      <th>min_val</th>\n",
       "      <th>max_val</th>\n",
       "      <th>ngbhs</th>\n",
       "    </tr>\n",
       "  </thead>\n",
       "  <tbody>\n",
       "    <tr>\n",
       "      <th>0</th>\n",
       "      <td>1</td>\n",
       "      <td>January</td>\n",
       "      <td>98101</td>\n",
       "      <td>46.437382</td>\n",
       "      <td>41.666667</td>\n",
       "      <td>4.75</td>\n",
       "      <td>180.0</td>\n",
       "      <td>{Cascade, Capitol Hill, Downtown}</td>\n",
       "    </tr>\n",
       "    <tr>\n",
       "      <th>1</th>\n",
       "      <td>1</td>\n",
       "      <td>January</td>\n",
       "      <td>98102</td>\n",
       "      <td>45.762980</td>\n",
       "      <td>42.500000</td>\n",
       "      <td>6.50</td>\n",
       "      <td>197.0</td>\n",
       "      <td>{Cascade, Capitol Hill, Downtown}</td>\n",
       "    </tr>\n",
       "  </tbody>\n",
       "</table>\n",
       "</div>"
      ],
      "text/plain": [
       "   month month_name zipcode       mean     median  min_val  max_val  \\\n",
       "0      1    January   98101  46.437382  41.666667     4.75    180.0   \n",
       "1      1    January   98102  45.762980  42.500000     6.50    197.0   \n",
       "\n",
       "                               ngbhs  \n",
       "0  {Cascade, Capitol Hill, Downtown}  \n",
       "1  {Cascade, Capitol Hill, Downtown}  "
      ]
     },
     "execution_count": 33,
     "metadata": {},
     "output_type": "execute_result"
    }
   ],
   "source": [
    "# calculate prices per month and zipcode\n",
    "df_agg_zip_month = df_merge_f.groupby(['month', 'month_name', 'zipcode']).agg(\n",
    "    mean = ('price_p_accom_cal', 'mean'),\n",
    "    median = ('price_p_accom_cal', 'median'),\n",
    "    min_val = ('price_p_accom_cal', 'min'),\n",
    "    max_val = ('price_p_accom_cal', 'max'),\n",
    "    ngbhs = ('neighbourhood_group_cleansed', set)\n",
    ").reset_index()\n",
    "\n",
    "df_agg_zip_month.head(2)"
   ]
  },
  {
   "cell_type": "code",
   "execution_count": 34,
   "metadata": {},
   "outputs": [],
   "source": [
    "plot_animation = False\n",
    "\n",
    "if plot_animation:\n",
    "\n",
    "    min_val = np.floor(df_agg_zip_month['median'].min()/10)*10\n",
    "    max_val = np.ceil(df_agg_zip_month['median'].max()/10)*10\n",
    "\n",
    "    fig = px.choropleth(data_frame=df_agg_zip_month, geojson=geo_wa, locations='zipcode', featureidkey = 'properties.ZCTA5CE10',\n",
    "                            color='median',\n",
    "                            color_continuous_scale=\"Viridis\",\n",
    "                            scope=\"usa\", \n",
    "                            range_color = [min_val, max_val],\n",
    "                            labels={\n",
    "                                'month_name' : 'Month',\n",
    "                                'zipcode' : 'Zip code',\n",
    "                                'median':'Median price per month [USD]'\n",
    "                                },\n",
    "                            animation_frame='month_name'\n",
    "                            )\n",
    "\n",
    "    fig.update_layout(\n",
    "        title='Median prices per accommodate per zip code per month',\n",
    "        title_font = {\"size\": 20},\n",
    "        width = 1000,\n",
    "        height = 600,\n",
    "        template='plotly_dark'\n",
    "    )\n",
    "\n",
    "\n",
    "    fig.update_geos(fitbounds=\"locations\", visible=False)\n",
    "    fig.update_layout(margin={\"r\":0, \"l\":0,\"b\":0})\n",
    "    fig.show()"
   ]
  },
  {
   "cell_type": "markdown",
   "metadata": {},
   "source": [
    "#### Relative Median price per zipcode per month"
   ]
  },
  {
   "cell_type": "code",
   "execution_count": 35,
   "metadata": {},
   "outputs": [
    {
     "data": {
      "text/html": [
       "<div>\n",
       "<style scoped>\n",
       "    .dataframe tbody tr th:only-of-type {\n",
       "        vertical-align: middle;\n",
       "    }\n",
       "\n",
       "    .dataframe tbody tr th {\n",
       "        vertical-align: top;\n",
       "    }\n",
       "\n",
       "    .dataframe thead th {\n",
       "        text-align: right;\n",
       "    }\n",
       "</style>\n",
       "<table border=\"1\" class=\"dataframe\">\n",
       "  <thead>\n",
       "    <tr style=\"text-align: right;\">\n",
       "      <th></th>\n",
       "      <th>month</th>\n",
       "      <th>month_name</th>\n",
       "      <th>zipcode</th>\n",
       "      <th>mean</th>\n",
       "      <th>median_month</th>\n",
       "      <th>min_val</th>\n",
       "      <th>max_val</th>\n",
       "      <th>ngbhs</th>\n",
       "      <th>median_year</th>\n",
       "      <th>rel</th>\n",
       "    </tr>\n",
       "  </thead>\n",
       "  <tbody>\n",
       "    <tr>\n",
       "      <th>0</th>\n",
       "      <td>1</td>\n",
       "      <td>January</td>\n",
       "      <td>98101</td>\n",
       "      <td>46.437382</td>\n",
       "      <td>41.666667</td>\n",
       "      <td>4.750000</td>\n",
       "      <td>180.0</td>\n",
       "      <td>{Cascade, Capitol Hill, Downtown}</td>\n",
       "      <td>49.7</td>\n",
       "      <td>0.838</td>\n",
       "    </tr>\n",
       "    <tr>\n",
       "      <th>1</th>\n",
       "      <td>1</td>\n",
       "      <td>January</td>\n",
       "      <td>98102</td>\n",
       "      <td>45.762980</td>\n",
       "      <td>42.500000</td>\n",
       "      <td>6.500000</td>\n",
       "      <td>197.0</td>\n",
       "      <td>{Cascade, Capitol Hill, Downtown}</td>\n",
       "      <td>45.0</td>\n",
       "      <td>0.944</td>\n",
       "    </tr>\n",
       "    <tr>\n",
       "      <th>2</th>\n",
       "      <td>1</td>\n",
       "      <td>January</td>\n",
       "      <td>98103</td>\n",
       "      <td>38.289103</td>\n",
       "      <td>33.750000</td>\n",
       "      <td>12.125000</td>\n",
       "      <td>127.5</td>\n",
       "      <td>{Northgate, Other neighborhoods, University Di...</td>\n",
       "      <td>38.5</td>\n",
       "      <td>0.877</td>\n",
       "    </tr>\n",
       "    <tr>\n",
       "      <th>3</th>\n",
       "      <td>1</td>\n",
       "      <td>January</td>\n",
       "      <td>98104</td>\n",
       "      <td>49.938905</td>\n",
       "      <td>45.000000</td>\n",
       "      <td>9.666667</td>\n",
       "      <td>250.0</td>\n",
       "      <td>{Other neighborhoods, Downtown}</td>\n",
       "      <td>50.0</td>\n",
       "      <td>0.900</td>\n",
       "    </tr>\n",
       "    <tr>\n",
       "      <th>4</th>\n",
       "      <td>1</td>\n",
       "      <td>January</td>\n",
       "      <td>98105</td>\n",
       "      <td>36.840794</td>\n",
       "      <td>32.500000</td>\n",
       "      <td>7.250000</td>\n",
       "      <td>120.0</td>\n",
       "      <td>{Downtown, Other neighborhoods, University Dis...</td>\n",
       "      <td>35.0</td>\n",
       "      <td>0.929</td>\n",
       "    </tr>\n",
       "  </tbody>\n",
       "</table>\n",
       "</div>"
      ],
      "text/plain": [
       "   month month_name zipcode       mean  median_month    min_val  max_val  \\\n",
       "0      1    January   98101  46.437382     41.666667   4.750000    180.0   \n",
       "1      1    January   98102  45.762980     42.500000   6.500000    197.0   \n",
       "2      1    January   98103  38.289103     33.750000  12.125000    127.5   \n",
       "3      1    January   98104  49.938905     45.000000   9.666667    250.0   \n",
       "4      1    January   98105  36.840794     32.500000   7.250000    120.0   \n",
       "\n",
       "                                               ngbhs  median_year    rel  \n",
       "0                  {Cascade, Capitol Hill, Downtown}         49.7  0.838  \n",
       "1                  {Cascade, Capitol Hill, Downtown}         45.0  0.944  \n",
       "2  {Northgate, Other neighborhoods, University Di...         38.5  0.877  \n",
       "3                    {Other neighborhoods, Downtown}         50.0  0.900  \n",
       "4  {Downtown, Other neighborhoods, University Dis...         35.0  0.929  "
      ]
     },
     "execution_count": 35,
     "metadata": {},
     "output_type": "execute_result"
    }
   ],
   "source": [
    "# join the data to be able to calculate the relative fluctuation\n",
    "df_agg_merge = df_agg_zip_month.join(df_agg_zip[['zipcode', 'median']].set_index('zipcode'), on = 'zipcode', lsuffix='_month', rsuffix='_year')\n",
    "df_agg_merge['rel'] = (df_agg_merge['median_month'] / df_agg_merge['median_year']).round(3)\n",
    "\n",
    "\n",
    "df_agg_merge.head(5)"
   ]
  },
  {
   "cell_type": "code",
   "execution_count": 36,
   "metadata": {},
   "outputs": [],
   "source": [
    "# pivot the data and rename the columns with the month name\n",
    "df_pivot = df_agg_merge.pivot(index='month', columns='zipcode')['rel']\n",
    "\n",
    "ordered_months = [\"January\", \"February\", \"March\", \"April\", \"May\", \"June\", \n",
    "      \"July\", \"August\", \"September\", \"October\", \"November\", \"December\"]\n",
    "\n",
    "for i in df_pivot.index:\n",
    "    df_pivot.rename(index={i : ordered_months[i-1]}, inplace=True)"
   ]
  },
  {
   "cell_type": "code",
   "execution_count": 37,
   "metadata": {},
   "outputs": [
    {
     "data": {
      "application/vnd.plotly.v1+json": {
       "config": {
        "plotlyServerURL": "https://plotly.com"
       },
       "data": [
        {
         "coloraxis": "coloraxis",
         "hovertemplate": "Zipcode: %{x}<br>Month: %{y}<br>color: %{z}<extra></extra>",
         "name": "0",
         "type": "heatmap",
         "x": [
          "98101",
          "98102",
          "98103",
          "98104",
          "98105",
          "98106",
          "98107",
          "98108",
          "98109",
          "98112",
          "98115",
          "98116",
          "98117",
          "98118",
          "98119",
          "98121",
          "98122",
          "98125",
          "98126",
          "98133",
          "98134",
          "98136",
          "98144",
          "98146",
          "98177",
          "98178",
          "98199"
         ],
         "xaxis": "x",
         "y": [
          "January",
          "February",
          "March",
          "April",
          "May",
          "June",
          "July",
          "August",
          "September",
          "October",
          "November",
          "December"
         ],
         "yaxis": "y",
         "z": [
          [
           0.838,
           0.944,
           0.877,
           0.9,
           0.929,
           0.917,
           0.954,
           0.956,
           0.985,
           0.947,
           0.929,
           0.938,
           0.909,
           0.967,
           0.852,
           0.741,
           0.894,
           0.917,
           1.032,
           1,
           1,
           1,
           0.935,
           1.282,
           1.136,
           1,
           0.899
          ],
          [
           0.88,
           0.944,
           0.896,
           0.99,
           0.943,
           0.983,
           0.954,
           0.956,
           0.96,
           0.955,
           0.929,
           0.975,
           0.931,
           0.917,
           0.852,
           0.758,
           0.902,
           0.917,
           0.985,
           0.962,
           1,
           1,
           0.976,
           1.282,
           1.109,
           1,
           0.935
          ],
          [
           0.956,
           0.989,
           0.909,
           1,
           0.943,
           1,
           0.988,
           0.956,
           0.96,
           0.966,
           0.929,
           0.988,
           0.956,
           0.972,
           0.981,
           0.875,
           0.941,
           1,
           0.985,
           0.769,
           1,
           1.053,
           0.976,
           1.142,
           0.818,
           1,
           0.947
          ],
          [
           0.946,
           1.03,
           0.974,
           1.1,
           1,
           1,
           0.967,
           0.956,
           1.01,
           0.966,
           0.929,
           1,
           0.98,
           1,
           0.994,
           0.909,
           1,
           1,
           0.985,
           0.915,
           1,
           1,
           0.976,
           0.865,
           1.109,
           1,
           0.999
          ],
          [
           1.006,
           1.044,
           1.013,
           1.13,
           1.048,
           1,
           0.981,
           1.029,
           1.01,
           1.023,
           1,
           1.042,
           0.974,
           1.05,
           1.023,
           1.01,
           1.029,
           1,
           1,
           0.962,
           1.008,
           1,
           1.001,
           1.142,
           1.055,
           1,
           0.999
          ],
          [
           1.157,
           1.089,
           1.039,
           1.1,
           1.071,
           1,
           1.022,
           1.029,
           1.01,
           1.08,
           1.048,
           1.062,
           1.015,
           1.067,
           1.08,
           1.263,
           1.035,
           1.042,
           1.01,
           0.992,
           1.263,
           1.053,
           1.051,
           1.142,
           1.109,
           0.985,
           1.019
          ],
          [
           1.258,
           1.089,
           1.039,
           1.05,
           1.071,
           1.056,
           1.022,
           1.029,
           1.111,
           1.023,
           1.114,
           1.062,
           1.029,
           1.067,
           1.125,
           1.313,
           1.029,
           1.042,
           1.091,
           1.038,
           1.193,
           1.053,
           1.051,
           0.865,
           0.891,
           1,
           1.055
          ],
          [
           1.258,
           1.089,
           1.039,
           1.05,
           1.057,
           1.056,
           1.022,
           1.029,
           1.111,
           1.023,
           1.048,
           1.05,
           1.029,
           1.083,
           1.08,
           1.258,
           1.029,
           1.042,
           1.136,
           1.046,
           1.193,
           1.053,
           1.051,
           0.865,
           0.891,
           1,
           1.055
          ],
          [
           1.046,
           1.011,
           1.039,
           1.05,
           1,
           1.056,
           1.015,
           1.029,
           1.051,
           1.01,
           1.036,
           1.05,
           1.029,
           1.083,
           1.023,
           1.01,
           1.029,
           1.067,
           1.061,
           1,
           1.193,
           1.053,
           1.001,
           0.865,
           0.891,
           0.985,
           1.019
          ],
          [
           0.956,
           0.989,
           0.996,
           0.967,
           1,
           1.056,
           0.999,
           1.015,
           1.005,
           0.966,
           1,
           1,
           1.015,
           1.083,
           0.997,
           0.899,
           1,
           1.042,
           0.985,
           1,
           1,
           1,
           0.976,
           0.865,
           0.891,
           0.985,
           0.999
          ],
          [
           0.88,
           0.989,
           0.981,
           0.95,
           1,
           1.056,
           0.999,
           0.956,
           1,
           1,
           0.995,
           0.988,
           0.985,
           1.067,
           0.994,
           0.895,
           0.98,
           1.042,
           0.977,
           1,
           1,
           1,
           0.976,
           0.865,
           0.891,
           0.985,
           0.999
          ],
          [
           0.956,
           0.989,
           1,
           0.927,
           1,
           1.042,
           1.017,
           1.015,
           0.985,
           0.995,
           1,
           1,
           1.015,
           1.056,
           0.994,
           0.997,
           1,
           1,
           0.977,
           1,
           1,
           1,
           0.976,
           0.865,
           1,
           0.985,
           1.007
          ]
         ]
        }
       ],
       "layout": {
        "coloraxis": {
         "colorbar": {
          "len": 0.97
         },
         "colorscale": [
          [
           0,
           "rgb(23, 28, 66)"
          ],
          [
           0.09090909090909091,
           "rgb(41, 58, 143)"
          ],
          [
           0.18181818181818182,
           "rgb(11, 102, 189)"
          ],
          [
           0.2727272727272727,
           "rgb(69, 144, 185)"
          ],
          [
           0.36363636363636365,
           "rgb(142, 181, 194)"
          ],
          [
           0.45454545454545453,
           "rgb(210, 216, 219)"
          ],
          [
           0.5454545454545454,
           "rgb(230, 210, 204)"
          ],
          [
           0.6363636363636364,
           "rgb(213, 157, 137)"
          ],
          [
           0.7272727272727273,
           "rgb(196, 101, 72)"
          ],
          [
           0.8181818181818182,
           "rgb(172, 43, 36)"
          ],
          [
           0.9090909090909091,
           "rgb(120, 14, 40)"
          ],
          [
           1,
           "rgb(60, 9, 17)"
          ]
         ]
        },
        "height": 600,
        "margin": {
         "b": 70,
         "l": 0,
         "pad": 0,
         "r": 0,
         "t": 70
        },
        "template": {
         "data": {
          "bar": [
           {
            "error_x": {
             "color": "#f2f5fa"
            },
            "error_y": {
             "color": "#f2f5fa"
            },
            "marker": {
             "line": {
              "color": "rgb(17,17,17)",
              "width": 0.5
             },
             "pattern": {
              "fillmode": "overlay",
              "size": 10,
              "solidity": 0.2
             }
            },
            "type": "bar"
           }
          ],
          "barpolar": [
           {
            "marker": {
             "line": {
              "color": "rgb(17,17,17)",
              "width": 0.5
             },
             "pattern": {
              "fillmode": "overlay",
              "size": 10,
              "solidity": 0.2
             }
            },
            "type": "barpolar"
           }
          ],
          "carpet": [
           {
            "aaxis": {
             "endlinecolor": "#A2B1C6",
             "gridcolor": "#506784",
             "linecolor": "#506784",
             "minorgridcolor": "#506784",
             "startlinecolor": "#A2B1C6"
            },
            "baxis": {
             "endlinecolor": "#A2B1C6",
             "gridcolor": "#506784",
             "linecolor": "#506784",
             "minorgridcolor": "#506784",
             "startlinecolor": "#A2B1C6"
            },
            "type": "carpet"
           }
          ],
          "choropleth": [
           {
            "colorbar": {
             "outlinewidth": 0,
             "ticks": ""
            },
            "type": "choropleth"
           }
          ],
          "contour": [
           {
            "colorbar": {
             "outlinewidth": 0,
             "ticks": ""
            },
            "colorscale": [
             [
              0,
              "#0d0887"
             ],
             [
              0.1111111111111111,
              "#46039f"
             ],
             [
              0.2222222222222222,
              "#7201a8"
             ],
             [
              0.3333333333333333,
              "#9c179e"
             ],
             [
              0.4444444444444444,
              "#bd3786"
             ],
             [
              0.5555555555555556,
              "#d8576b"
             ],
             [
              0.6666666666666666,
              "#ed7953"
             ],
             [
              0.7777777777777778,
              "#fb9f3a"
             ],
             [
              0.8888888888888888,
              "#fdca26"
             ],
             [
              1,
              "#f0f921"
             ]
            ],
            "type": "contour"
           }
          ],
          "contourcarpet": [
           {
            "colorbar": {
             "outlinewidth": 0,
             "ticks": ""
            },
            "type": "contourcarpet"
           }
          ],
          "heatmap": [
           {
            "colorbar": {
             "outlinewidth": 0,
             "ticks": ""
            },
            "colorscale": [
             [
              0,
              "#0d0887"
             ],
             [
              0.1111111111111111,
              "#46039f"
             ],
             [
              0.2222222222222222,
              "#7201a8"
             ],
             [
              0.3333333333333333,
              "#9c179e"
             ],
             [
              0.4444444444444444,
              "#bd3786"
             ],
             [
              0.5555555555555556,
              "#d8576b"
             ],
             [
              0.6666666666666666,
              "#ed7953"
             ],
             [
              0.7777777777777778,
              "#fb9f3a"
             ],
             [
              0.8888888888888888,
              "#fdca26"
             ],
             [
              1,
              "#f0f921"
             ]
            ],
            "type": "heatmap"
           }
          ],
          "heatmapgl": [
           {
            "colorbar": {
             "outlinewidth": 0,
             "ticks": ""
            },
            "colorscale": [
             [
              0,
              "#0d0887"
             ],
             [
              0.1111111111111111,
              "#46039f"
             ],
             [
              0.2222222222222222,
              "#7201a8"
             ],
             [
              0.3333333333333333,
              "#9c179e"
             ],
             [
              0.4444444444444444,
              "#bd3786"
             ],
             [
              0.5555555555555556,
              "#d8576b"
             ],
             [
              0.6666666666666666,
              "#ed7953"
             ],
             [
              0.7777777777777778,
              "#fb9f3a"
             ],
             [
              0.8888888888888888,
              "#fdca26"
             ],
             [
              1,
              "#f0f921"
             ]
            ],
            "type": "heatmapgl"
           }
          ],
          "histogram": [
           {
            "marker": {
             "pattern": {
              "fillmode": "overlay",
              "size": 10,
              "solidity": 0.2
             }
            },
            "type": "histogram"
           }
          ],
          "histogram2d": [
           {
            "colorbar": {
             "outlinewidth": 0,
             "ticks": ""
            },
            "colorscale": [
             [
              0,
              "#0d0887"
             ],
             [
              0.1111111111111111,
              "#46039f"
             ],
             [
              0.2222222222222222,
              "#7201a8"
             ],
             [
              0.3333333333333333,
              "#9c179e"
             ],
             [
              0.4444444444444444,
              "#bd3786"
             ],
             [
              0.5555555555555556,
              "#d8576b"
             ],
             [
              0.6666666666666666,
              "#ed7953"
             ],
             [
              0.7777777777777778,
              "#fb9f3a"
             ],
             [
              0.8888888888888888,
              "#fdca26"
             ],
             [
              1,
              "#f0f921"
             ]
            ],
            "type": "histogram2d"
           }
          ],
          "histogram2dcontour": [
           {
            "colorbar": {
             "outlinewidth": 0,
             "ticks": ""
            },
            "colorscale": [
             [
              0,
              "#0d0887"
             ],
             [
              0.1111111111111111,
              "#46039f"
             ],
             [
              0.2222222222222222,
              "#7201a8"
             ],
             [
              0.3333333333333333,
              "#9c179e"
             ],
             [
              0.4444444444444444,
              "#bd3786"
             ],
             [
              0.5555555555555556,
              "#d8576b"
             ],
             [
              0.6666666666666666,
              "#ed7953"
             ],
             [
              0.7777777777777778,
              "#fb9f3a"
             ],
             [
              0.8888888888888888,
              "#fdca26"
             ],
             [
              1,
              "#f0f921"
             ]
            ],
            "type": "histogram2dcontour"
           }
          ],
          "mesh3d": [
           {
            "colorbar": {
             "outlinewidth": 0,
             "ticks": ""
            },
            "type": "mesh3d"
           }
          ],
          "parcoords": [
           {
            "line": {
             "colorbar": {
              "outlinewidth": 0,
              "ticks": ""
             }
            },
            "type": "parcoords"
           }
          ],
          "pie": [
           {
            "automargin": true,
            "type": "pie"
           }
          ],
          "scatter": [
           {
            "marker": {
             "line": {
              "color": "#283442"
             }
            },
            "type": "scatter"
           }
          ],
          "scatter3d": [
           {
            "line": {
             "colorbar": {
              "outlinewidth": 0,
              "ticks": ""
             }
            },
            "marker": {
             "colorbar": {
              "outlinewidth": 0,
              "ticks": ""
             }
            },
            "type": "scatter3d"
           }
          ],
          "scattercarpet": [
           {
            "marker": {
             "colorbar": {
              "outlinewidth": 0,
              "ticks": ""
             }
            },
            "type": "scattercarpet"
           }
          ],
          "scattergeo": [
           {
            "marker": {
             "colorbar": {
              "outlinewidth": 0,
              "ticks": ""
             }
            },
            "type": "scattergeo"
           }
          ],
          "scattergl": [
           {
            "marker": {
             "line": {
              "color": "#283442"
             }
            },
            "type": "scattergl"
           }
          ],
          "scattermapbox": [
           {
            "marker": {
             "colorbar": {
              "outlinewidth": 0,
              "ticks": ""
             }
            },
            "type": "scattermapbox"
           }
          ],
          "scatterpolar": [
           {
            "marker": {
             "colorbar": {
              "outlinewidth": 0,
              "ticks": ""
             }
            },
            "type": "scatterpolar"
           }
          ],
          "scatterpolargl": [
           {
            "marker": {
             "colorbar": {
              "outlinewidth": 0,
              "ticks": ""
             }
            },
            "type": "scatterpolargl"
           }
          ],
          "scatterternary": [
           {
            "marker": {
             "colorbar": {
              "outlinewidth": 0,
              "ticks": ""
             }
            },
            "type": "scatterternary"
           }
          ],
          "surface": [
           {
            "colorbar": {
             "outlinewidth": 0,
             "ticks": ""
            },
            "colorscale": [
             [
              0,
              "#0d0887"
             ],
             [
              0.1111111111111111,
              "#46039f"
             ],
             [
              0.2222222222222222,
              "#7201a8"
             ],
             [
              0.3333333333333333,
              "#9c179e"
             ],
             [
              0.4444444444444444,
              "#bd3786"
             ],
             [
              0.5555555555555556,
              "#d8576b"
             ],
             [
              0.6666666666666666,
              "#ed7953"
             ],
             [
              0.7777777777777778,
              "#fb9f3a"
             ],
             [
              0.8888888888888888,
              "#fdca26"
             ],
             [
              1,
              "#f0f921"
             ]
            ],
            "type": "surface"
           }
          ],
          "table": [
           {
            "cells": {
             "fill": {
              "color": "#506784"
             },
             "line": {
              "color": "rgb(17,17,17)"
             }
            },
            "header": {
             "fill": {
              "color": "#2a3f5f"
             },
             "line": {
              "color": "rgb(17,17,17)"
             }
            },
            "type": "table"
           }
          ]
         },
         "layout": {
          "annotationdefaults": {
           "arrowcolor": "#f2f5fa",
           "arrowhead": 0,
           "arrowwidth": 1
          },
          "autotypenumbers": "strict",
          "coloraxis": {
           "colorbar": {
            "outlinewidth": 0,
            "ticks": ""
           }
          },
          "colorscale": {
           "diverging": [
            [
             0,
             "#8e0152"
            ],
            [
             0.1,
             "#c51b7d"
            ],
            [
             0.2,
             "#de77ae"
            ],
            [
             0.3,
             "#f1b6da"
            ],
            [
             0.4,
             "#fde0ef"
            ],
            [
             0.5,
             "#f7f7f7"
            ],
            [
             0.6,
             "#e6f5d0"
            ],
            [
             0.7,
             "#b8e186"
            ],
            [
             0.8,
             "#7fbc41"
            ],
            [
             0.9,
             "#4d9221"
            ],
            [
             1,
             "#276419"
            ]
           ],
           "sequential": [
            [
             0,
             "#0d0887"
            ],
            [
             0.1111111111111111,
             "#46039f"
            ],
            [
             0.2222222222222222,
             "#7201a8"
            ],
            [
             0.3333333333333333,
             "#9c179e"
            ],
            [
             0.4444444444444444,
             "#bd3786"
            ],
            [
             0.5555555555555556,
             "#d8576b"
            ],
            [
             0.6666666666666666,
             "#ed7953"
            ],
            [
             0.7777777777777778,
             "#fb9f3a"
            ],
            [
             0.8888888888888888,
             "#fdca26"
            ],
            [
             1,
             "#f0f921"
            ]
           ],
           "sequentialminus": [
            [
             0,
             "#0d0887"
            ],
            [
             0.1111111111111111,
             "#46039f"
            ],
            [
             0.2222222222222222,
             "#7201a8"
            ],
            [
             0.3333333333333333,
             "#9c179e"
            ],
            [
             0.4444444444444444,
             "#bd3786"
            ],
            [
             0.5555555555555556,
             "#d8576b"
            ],
            [
             0.6666666666666666,
             "#ed7953"
            ],
            [
             0.7777777777777778,
             "#fb9f3a"
            ],
            [
             0.8888888888888888,
             "#fdca26"
            ],
            [
             1,
             "#f0f921"
            ]
           ]
          },
          "colorway": [
           "#636efa",
           "#EF553B",
           "#00cc96",
           "#ab63fa",
           "#FFA15A",
           "#19d3f3",
           "#FF6692",
           "#B6E880",
           "#FF97FF",
           "#FECB52"
          ],
          "font": {
           "color": "#f2f5fa"
          },
          "geo": {
           "bgcolor": "rgb(17,17,17)",
           "lakecolor": "rgb(17,17,17)",
           "landcolor": "rgb(17,17,17)",
           "showlakes": true,
           "showland": true,
           "subunitcolor": "#506784"
          },
          "hoverlabel": {
           "align": "left"
          },
          "hovermode": "closest",
          "mapbox": {
           "style": "dark"
          },
          "paper_bgcolor": "rgb(17,17,17)",
          "plot_bgcolor": "rgb(17,17,17)",
          "polar": {
           "angularaxis": {
            "gridcolor": "#506784",
            "linecolor": "#506784",
            "ticks": ""
           },
           "bgcolor": "rgb(17,17,17)",
           "radialaxis": {
            "gridcolor": "#506784",
            "linecolor": "#506784",
            "ticks": ""
           }
          },
          "scene": {
           "xaxis": {
            "backgroundcolor": "rgb(17,17,17)",
            "gridcolor": "#506784",
            "gridwidth": 2,
            "linecolor": "#506784",
            "showbackground": true,
            "ticks": "",
            "zerolinecolor": "#C8D4E3"
           },
           "yaxis": {
            "backgroundcolor": "rgb(17,17,17)",
            "gridcolor": "#506784",
            "gridwidth": 2,
            "linecolor": "#506784",
            "showbackground": true,
            "ticks": "",
            "zerolinecolor": "#C8D4E3"
           },
           "zaxis": {
            "backgroundcolor": "rgb(17,17,17)",
            "gridcolor": "#506784",
            "gridwidth": 2,
            "linecolor": "#506784",
            "showbackground": true,
            "ticks": "",
            "zerolinecolor": "#C8D4E3"
           }
          },
          "shapedefaults": {
           "line": {
            "color": "#f2f5fa"
           }
          },
          "sliderdefaults": {
           "bgcolor": "#C8D4E3",
           "bordercolor": "rgb(17,17,17)",
           "borderwidth": 1,
           "tickwidth": 0
          },
          "ternary": {
           "aaxis": {
            "gridcolor": "#506784",
            "linecolor": "#506784",
            "ticks": ""
           },
           "baxis": {
            "gridcolor": "#506784",
            "linecolor": "#506784",
            "ticks": ""
           },
           "bgcolor": "rgb(17,17,17)",
           "caxis": {
            "gridcolor": "#506784",
            "linecolor": "#506784",
            "ticks": ""
           }
          },
          "title": {
           "x": 0.05
          },
          "updatemenudefaults": {
           "bgcolor": "#506784",
           "borderwidth": 0
          },
          "xaxis": {
           "automargin": true,
           "gridcolor": "#283442",
           "linecolor": "#506784",
           "ticks": "",
           "title": {
            "standoff": 15
           },
           "zerolinecolor": "#283442",
           "zerolinewidth": 2
          },
          "yaxis": {
           "automargin": true,
           "gridcolor": "#283442",
           "linecolor": "#506784",
           "ticks": "",
           "title": {
            "standoff": 15
           },
           "zerolinecolor": "#283442",
           "zerolinewidth": 2
          }
         }
        },
        "title": {
         "font": {
          "size": 20
         },
         "text": "Relative median price per accommodate per zip code per month"
        },
        "width": 1200,
        "xaxis": {
         "anchor": "y",
         "constrain": "domain",
         "domain": [
          0,
          1
         ],
         "scaleanchor": "y",
         "tickfont": {
          "size": 12
         },
         "title": {
          "font": {
           "size": 16
          },
          "text": "Zip code"
         }
        },
        "yaxis": {
         "anchor": "x",
         "autorange": "reversed",
         "constrain": "domain",
         "domain": [
          0,
          1
         ],
         "tickfont": {
          "size": 12
         },
         "title": {
          "font": {
           "size": 16
          },
          "text": "Month"
         }
        }
       }
      }
     },
     "metadata": {},
     "output_type": "display_data"
    }
   ],
   "source": [
    "# create the heatmap\n",
    "fig = px.imshow(df_pivot, x=df_pivot.columns, y=df_pivot.index,\n",
    "                color_continuous_scale=px.colors.diverging.balance,\n",
    "                labels=dict(\n",
    "                    x = 'Zipcode',\n",
    "                    y = 'Month',\n",
    "                    #color=\"Relative median price\"\n",
    "                    )\n",
    "                )\n",
    "\n",
    "\n",
    "fig.update_layout(\n",
    "    title='Relative median price per accommodate per zip code per month',\n",
    "    title_font = {\"size\": 20},\n",
    "    xaxis_title = 'Zip code',\n",
    "    yaxis_title = 'Month',\n",
    "    width = 1200,\n",
    "    height = 600,\n",
    "    template='plotly_dark'\n",
    ")\n",
    "\n",
    "fig.update_layout(\n",
    "    coloraxis=dict(colorbar=dict(\n",
    "        len=.97)\n",
    "                   ))\n",
    "\n",
    "fig.update_yaxes(\n",
    "    title_font = {\"size\": 16},\n",
    "    tickfont = {\"size\": 12}\n",
    "    )\n",
    "\n",
    "fig.update_xaxes(\n",
    "    title_font = {\"size\": 16},\n",
    "    tickfont = {\"size\": 12}\n",
    "    )\n",
    "\n",
    "fig.update_layout(\n",
    "        margin={\"t\": 70, \"b\": 70, \"r\": 0, \"l\": 0, \"pad\": 0},\n",
    "    )\n",
    "\n",
    "fig.show()"
   ]
  },
  {
   "cell_type": "code",
   "execution_count": 38,
   "metadata": {},
   "outputs": [],
   "source": [
    "if pub_chart_studio:\n",
    "    py.plot(fig, filename=\"seattle_heatmap_rel_price_zipcode\", auto_open = True)"
   ]
  },
  {
   "cell_type": "markdown",
   "metadata": {},
   "source": [
    "### 4) Can a linear regression model be used to model the price per accomodate? "
   ]
  },
  {
   "cell_type": "code",
   "execution_count": 39,
   "metadata": {},
   "outputs": [
    {
     "data": {
      "text/html": [
       "<div>\n",
       "<style scoped>\n",
       "    .dataframe tbody tr th:only-of-type {\n",
       "        vertical-align: middle;\n",
       "    }\n",
       "\n",
       "    .dataframe tbody tr th {\n",
       "        vertical-align: top;\n",
       "    }\n",
       "\n",
       "    .dataframe thead th {\n",
       "        text-align: right;\n",
       "    }\n",
       "</style>\n",
       "<table border=\"1\" class=\"dataframe\">\n",
       "  <thead>\n",
       "    <tr style=\"text-align: right;\">\n",
       "      <th></th>\n",
       "      <th>month</th>\n",
       "      <th>accommodates</th>\n",
       "      <th>number_of_reviews</th>\n",
       "      <th>host_is_superhost</th>\n",
       "      <th>bathrooms</th>\n",
       "      <th>bedrooms</th>\n",
       "      <th>price_p_accom_cal</th>\n",
       "      <th>property_type_apartment</th>\n",
       "      <th>property_type_bed_breakfast</th>\n",
       "      <th>property_type_boat</th>\n",
       "      <th>property_type_bungalow</th>\n",
       "      <th>property_type_cabin</th>\n",
       "      <th>property_type_camper_rv</th>\n",
       "      <th>property_type_chalet</th>\n",
       "      <th>property_type_condominium</th>\n",
       "      <th>property_type_dorm</th>\n",
       "      <th>property_type_house</th>\n",
       "      <th>property_type_loft</th>\n",
       "      <th>property_type_other</th>\n",
       "      <th>property_type_tent</th>\n",
       "      <th>property_type_townhouse</th>\n",
       "      <th>property_type_treehouse</th>\n",
       "      <th>property_type_yurt</th>\n",
       "      <th>zipcode_98101</th>\n",
       "      <th>zipcode_98102</th>\n",
       "      <th>zipcode_98103</th>\n",
       "      <th>zipcode_98104</th>\n",
       "      <th>zipcode_98105</th>\n",
       "      <th>zipcode_98106</th>\n",
       "      <th>zipcode_98107</th>\n",
       "      <th>zipcode_98108</th>\n",
       "      <th>zipcode_98109</th>\n",
       "      <th>zipcode_98112</th>\n",
       "      <th>zipcode_98115</th>\n",
       "      <th>zipcode_98116</th>\n",
       "      <th>zipcode_98117</th>\n",
       "      <th>zipcode_98118</th>\n",
       "      <th>zipcode_98119</th>\n",
       "      <th>zipcode_98121</th>\n",
       "      <th>zipcode_98122</th>\n",
       "      <th>zipcode_98125</th>\n",
       "      <th>zipcode_98126</th>\n",
       "      <th>zipcode_98133</th>\n",
       "      <th>zipcode_98134</th>\n",
       "      <th>zipcode_98136</th>\n",
       "      <th>zipcode_98144</th>\n",
       "      <th>zipcode_98146</th>\n",
       "      <th>zipcode_98177</th>\n",
       "      <th>zipcode_98178</th>\n",
       "      <th>zipcode_98199</th>\n",
       "      <th>amenity_24-hour_check-in</th>\n",
       "      <th>amenity_air_conditioning</th>\n",
       "      <th>amenity_breakfast</th>\n",
       "      <th>amenity_buzzer_wireless_intercom</th>\n",
       "      <th>amenity_cable_tv</th>\n",
       "      <th>amenity_carbon_monoxide_detector</th>\n",
       "      <th>amenity_cat</th>\n",
       "      <th>amenity_dog</th>\n",
       "      <th>amenity_doorman</th>\n",
       "      <th>amenity_dryer</th>\n",
       "      <th>amenity_elevator_in_building</th>\n",
       "      <th>amenity_essentials</th>\n",
       "      <th>amenity_family_kid_friendly</th>\n",
       "      <th>amenity_fire_extinguisher</th>\n",
       "      <th>amenity_first_aid_kit</th>\n",
       "      <th>amenity_free_parking_on_premises</th>\n",
       "      <th>amenity_gym</th>\n",
       "      <th>amenity_hair_dryer</th>\n",
       "      <th>amenity_hangers</th>\n",
       "      <th>amenity_heating</th>\n",
       "      <th>amenity_hot_tub</th>\n",
       "      <th>amenity_indoor_fireplace</th>\n",
       "      <th>amenity_internet</th>\n",
       "      <th>amenity_iron</th>\n",
       "      <th>amenity_kitchen</th>\n",
       "      <th>amenity_laptop_friendly_workspace</th>\n",
       "      <th>amenity_lock_on_bedroom_door</th>\n",
       "      <th>amenity_other_pet</th>\n",
       "      <th>amenity_pets_allowed</th>\n",
       "      <th>amenity_pets_live_on_this_property</th>\n",
       "      <th>amenity_pool</th>\n",
       "      <th>amenity_safety_card</th>\n",
       "      <th>amenity_shampoo</th>\n",
       "      <th>amenity_smoke_detector</th>\n",
       "      <th>amenity_smoking_allowed</th>\n",
       "      <th>amenity_suitable_for_events</th>\n",
       "      <th>amenity_tv</th>\n",
       "      <th>amenity_washer</th>\n",
       "      <th>amenity_washer___dryer</th>\n",
       "      <th>amenity_wheelchair_accessible</th>\n",
       "      <th>amenity_wireless_internet</th>\n",
       "    </tr>\n",
       "  </thead>\n",
       "  <tbody>\n",
       "    <tr>\n",
       "      <th>0</th>\n",
       "      <td>1</td>\n",
       "      <td>4.0</td>\n",
       "      <td>207.0</td>\n",
       "      <td>False</td>\n",
       "      <td>1.0</td>\n",
       "      <td>1.0</td>\n",
       "      <td>21.25</td>\n",
       "      <td>1.0</td>\n",
       "      <td>0.0</td>\n",
       "      <td>0.0</td>\n",
       "      <td>0.0</td>\n",
       "      <td>0.0</td>\n",
       "      <td>0.0</td>\n",
       "      <td>0.0</td>\n",
       "      <td>0.0</td>\n",
       "      <td>0.0</td>\n",
       "      <td>0.0</td>\n",
       "      <td>0.0</td>\n",
       "      <td>0.0</td>\n",
       "      <td>0.0</td>\n",
       "      <td>0.0</td>\n",
       "      <td>0.0</td>\n",
       "      <td>0.0</td>\n",
       "      <td>0.0</td>\n",
       "      <td>0.0</td>\n",
       "      <td>0.0</td>\n",
       "      <td>0.0</td>\n",
       "      <td>0.0</td>\n",
       "      <td>0.0</td>\n",
       "      <td>0.0</td>\n",
       "      <td>0.0</td>\n",
       "      <td>0.0</td>\n",
       "      <td>0.0</td>\n",
       "      <td>0.0</td>\n",
       "      <td>0.0</td>\n",
       "      <td>0.0</td>\n",
       "      <td>0.0</td>\n",
       "      <td>1.0</td>\n",
       "      <td>0.0</td>\n",
       "      <td>0.0</td>\n",
       "      <td>0.0</td>\n",
       "      <td>0.0</td>\n",
       "      <td>0.0</td>\n",
       "      <td>0.0</td>\n",
       "      <td>0.0</td>\n",
       "      <td>0.0</td>\n",
       "      <td>0.0</td>\n",
       "      <td>0.0</td>\n",
       "      <td>0.0</td>\n",
       "      <td>0.0</td>\n",
       "      <td>0.0</td>\n",
       "      <td>1.0</td>\n",
       "      <td>0.0</td>\n",
       "      <td>0.0</td>\n",
       "      <td>1.0</td>\n",
       "      <td>0.0</td>\n",
       "      <td>0.0</td>\n",
       "      <td>0.0</td>\n",
       "      <td>0.0</td>\n",
       "      <td>1.0</td>\n",
       "      <td>0.0</td>\n",
       "      <td>0.0</td>\n",
       "      <td>1.0</td>\n",
       "      <td>0.0</td>\n",
       "      <td>0.0</td>\n",
       "      <td>0.0</td>\n",
       "      <td>0.0</td>\n",
       "      <td>0.0</td>\n",
       "      <td>0.0</td>\n",
       "      <td>1.0</td>\n",
       "      <td>0.0</td>\n",
       "      <td>0.0</td>\n",
       "      <td>1.0</td>\n",
       "      <td>0.0</td>\n",
       "      <td>1.0</td>\n",
       "      <td>0.0</td>\n",
       "      <td>0.0</td>\n",
       "      <td>0.0</td>\n",
       "      <td>0.0</td>\n",
       "      <td>0.0</td>\n",
       "      <td>0.0</td>\n",
       "      <td>0.0</td>\n",
       "      <td>0.0</td>\n",
       "      <td>0.0</td>\n",
       "      <td>0.0</td>\n",
       "      <td>0.0</td>\n",
       "      <td>1.0</td>\n",
       "      <td>1.0</td>\n",
       "      <td>0.0</td>\n",
       "      <td>0.0</td>\n",
       "      <td>1.0</td>\n",
       "    </tr>\n",
       "    <tr>\n",
       "      <th>1</th>\n",
       "      <td>1</td>\n",
       "      <td>4.0</td>\n",
       "      <td>207.0</td>\n",
       "      <td>False</td>\n",
       "      <td>1.0</td>\n",
       "      <td>1.0</td>\n",
       "      <td>21.25</td>\n",
       "      <td>1.0</td>\n",
       "      <td>0.0</td>\n",
       "      <td>0.0</td>\n",
       "      <td>0.0</td>\n",
       "      <td>0.0</td>\n",
       "      <td>0.0</td>\n",
       "      <td>0.0</td>\n",
       "      <td>0.0</td>\n",
       "      <td>0.0</td>\n",
       "      <td>0.0</td>\n",
       "      <td>0.0</td>\n",
       "      <td>0.0</td>\n",
       "      <td>0.0</td>\n",
       "      <td>0.0</td>\n",
       "      <td>0.0</td>\n",
       "      <td>0.0</td>\n",
       "      <td>0.0</td>\n",
       "      <td>0.0</td>\n",
       "      <td>0.0</td>\n",
       "      <td>0.0</td>\n",
       "      <td>0.0</td>\n",
       "      <td>0.0</td>\n",
       "      <td>0.0</td>\n",
       "      <td>0.0</td>\n",
       "      <td>0.0</td>\n",
       "      <td>0.0</td>\n",
       "      <td>0.0</td>\n",
       "      <td>0.0</td>\n",
       "      <td>0.0</td>\n",
       "      <td>0.0</td>\n",
       "      <td>1.0</td>\n",
       "      <td>0.0</td>\n",
       "      <td>0.0</td>\n",
       "      <td>0.0</td>\n",
       "      <td>0.0</td>\n",
       "      <td>0.0</td>\n",
       "      <td>0.0</td>\n",
       "      <td>0.0</td>\n",
       "      <td>0.0</td>\n",
       "      <td>0.0</td>\n",
       "      <td>0.0</td>\n",
       "      <td>0.0</td>\n",
       "      <td>0.0</td>\n",
       "      <td>0.0</td>\n",
       "      <td>1.0</td>\n",
       "      <td>0.0</td>\n",
       "      <td>0.0</td>\n",
       "      <td>1.0</td>\n",
       "      <td>0.0</td>\n",
       "      <td>0.0</td>\n",
       "      <td>0.0</td>\n",
       "      <td>0.0</td>\n",
       "      <td>1.0</td>\n",
       "      <td>0.0</td>\n",
       "      <td>0.0</td>\n",
       "      <td>1.0</td>\n",
       "      <td>0.0</td>\n",
       "      <td>0.0</td>\n",
       "      <td>0.0</td>\n",
       "      <td>0.0</td>\n",
       "      <td>0.0</td>\n",
       "      <td>0.0</td>\n",
       "      <td>1.0</td>\n",
       "      <td>0.0</td>\n",
       "      <td>0.0</td>\n",
       "      <td>1.0</td>\n",
       "      <td>0.0</td>\n",
       "      <td>1.0</td>\n",
       "      <td>0.0</td>\n",
       "      <td>0.0</td>\n",
       "      <td>0.0</td>\n",
       "      <td>0.0</td>\n",
       "      <td>0.0</td>\n",
       "      <td>0.0</td>\n",
       "      <td>0.0</td>\n",
       "      <td>0.0</td>\n",
       "      <td>0.0</td>\n",
       "      <td>0.0</td>\n",
       "      <td>0.0</td>\n",
       "      <td>1.0</td>\n",
       "      <td>1.0</td>\n",
       "      <td>0.0</td>\n",
       "      <td>0.0</td>\n",
       "      <td>1.0</td>\n",
       "    </tr>\n",
       "  </tbody>\n",
       "</table>\n",
       "</div>"
      ],
      "text/plain": [
       "   month  accommodates  number_of_reviews host_is_superhost  bathrooms  \\\n",
       "0      1           4.0              207.0             False        1.0   \n",
       "1      1           4.0              207.0             False        1.0   \n",
       "\n",
       "   bedrooms  price_p_accom_cal  property_type_apartment  \\\n",
       "0       1.0              21.25                      1.0   \n",
       "1       1.0              21.25                      1.0   \n",
       "\n",
       "   property_type_bed_breakfast  property_type_boat  property_type_bungalow  \\\n",
       "0                          0.0                 0.0                     0.0   \n",
       "1                          0.0                 0.0                     0.0   \n",
       "\n",
       "   property_type_cabin  property_type_camper_rv  property_type_chalet  \\\n",
       "0                  0.0                      0.0                   0.0   \n",
       "1                  0.0                      0.0                   0.0   \n",
       "\n",
       "   property_type_condominium  property_type_dorm  property_type_house  \\\n",
       "0                        0.0                 0.0                  0.0   \n",
       "1                        0.0                 0.0                  0.0   \n",
       "\n",
       "   property_type_loft  property_type_other  property_type_tent  \\\n",
       "0                 0.0                  0.0                 0.0   \n",
       "1                 0.0                  0.0                 0.0   \n",
       "\n",
       "   property_type_townhouse  property_type_treehouse  property_type_yurt  \\\n",
       "0                      0.0                      0.0                 0.0   \n",
       "1                      0.0                      0.0                 0.0   \n",
       "\n",
       "   zipcode_98101  zipcode_98102  zipcode_98103  zipcode_98104  zipcode_98105  \\\n",
       "0            0.0            0.0            0.0            0.0            0.0   \n",
       "1            0.0            0.0            0.0            0.0            0.0   \n",
       "\n",
       "   zipcode_98106  zipcode_98107  zipcode_98108  zipcode_98109  zipcode_98112  \\\n",
       "0            0.0            0.0            0.0            0.0            0.0   \n",
       "1            0.0            0.0            0.0            0.0            0.0   \n",
       "\n",
       "   zipcode_98115  zipcode_98116  zipcode_98117  zipcode_98118  zipcode_98119  \\\n",
       "0            0.0            0.0            0.0            0.0            1.0   \n",
       "1            0.0            0.0            0.0            0.0            1.0   \n",
       "\n",
       "   zipcode_98121  zipcode_98122  zipcode_98125  zipcode_98126  zipcode_98133  \\\n",
       "0            0.0            0.0            0.0            0.0            0.0   \n",
       "1            0.0            0.0            0.0            0.0            0.0   \n",
       "\n",
       "   zipcode_98134  zipcode_98136  zipcode_98144  zipcode_98146  zipcode_98177  \\\n",
       "0            0.0            0.0            0.0            0.0            0.0   \n",
       "1            0.0            0.0            0.0            0.0            0.0   \n",
       "\n",
       "   zipcode_98178  zipcode_98199  amenity_24-hour_check-in  \\\n",
       "0            0.0            0.0                       0.0   \n",
       "1            0.0            0.0                       0.0   \n",
       "\n",
       "   amenity_air_conditioning  amenity_breakfast  \\\n",
       "0                       1.0                0.0   \n",
       "1                       1.0                0.0   \n",
       "\n",
       "   amenity_buzzer_wireless_intercom  amenity_cable_tv  \\\n",
       "0                               0.0               1.0   \n",
       "1                               0.0               1.0   \n",
       "\n",
       "   amenity_carbon_monoxide_detector  amenity_cat  amenity_dog  \\\n",
       "0                               0.0          0.0          0.0   \n",
       "1                               0.0          0.0          0.0   \n",
       "\n",
       "   amenity_doorman  amenity_dryer  amenity_elevator_in_building  \\\n",
       "0              0.0            1.0                           0.0   \n",
       "1              0.0            1.0                           0.0   \n",
       "\n",
       "   amenity_essentials  amenity_family_kid_friendly  amenity_fire_extinguisher  \\\n",
       "0                 0.0                          1.0                        0.0   \n",
       "1                 0.0                          1.0                        0.0   \n",
       "\n",
       "   amenity_first_aid_kit  amenity_free_parking_on_premises  amenity_gym  \\\n",
       "0                    0.0                               0.0          0.0   \n",
       "1                    0.0                               0.0          0.0   \n",
       "\n",
       "   amenity_hair_dryer  amenity_hangers  amenity_heating  amenity_hot_tub  \\\n",
       "0                 0.0              0.0              1.0              0.0   \n",
       "1                 0.0              0.0              1.0              0.0   \n",
       "\n",
       "   amenity_indoor_fireplace  amenity_internet  amenity_iron  amenity_kitchen  \\\n",
       "0                       0.0               1.0           0.0              1.0   \n",
       "1                       0.0               1.0           0.0              1.0   \n",
       "\n",
       "   amenity_laptop_friendly_workspace  amenity_lock_on_bedroom_door  \\\n",
       "0                                0.0                           0.0   \n",
       "1                                0.0                           0.0   \n",
       "\n",
       "   amenity_other_pet  amenity_pets_allowed  \\\n",
       "0                0.0                   0.0   \n",
       "1                0.0                   0.0   \n",
       "\n",
       "   amenity_pets_live_on_this_property  amenity_pool  amenity_safety_card  \\\n",
       "0                                 0.0           0.0                  0.0   \n",
       "1                                 0.0           0.0                  0.0   \n",
       "\n",
       "   amenity_shampoo  amenity_smoke_detector  amenity_smoking_allowed  \\\n",
       "0              0.0                     0.0                      0.0   \n",
       "1              0.0                     0.0                      0.0   \n",
       "\n",
       "   amenity_suitable_for_events  amenity_tv  amenity_washer  \\\n",
       "0                          0.0         1.0             1.0   \n",
       "1                          0.0         1.0             1.0   \n",
       "\n",
       "   amenity_washer___dryer  amenity_wheelchair_accessible  \\\n",
       "0                     0.0                            0.0   \n",
       "1                     0.0                            0.0   \n",
       "\n",
       "   amenity_wireless_internet  \n",
       "0                        1.0  \n",
       "1                        1.0  "
      ]
     },
     "execution_count": 39,
     "metadata": {},
     "output_type": "execute_result"
    }
   ],
   "source": [
    "# get all the relevant columns that shall be considered for the modeling\n",
    "rel_cols  = ['month',\n",
    "            'accommodates',\n",
    "            'number_of_reviews',\n",
    "            'host_is_superhost',\n",
    "            'bathrooms',\n",
    "            'bedrooms',\n",
    "            'price_p_accom_cal'\n",
    "]\n",
    "\n",
    "# use the columns from above\n",
    "rel_cols = rel_cols + new_cols_prop + new_cols_zip + new_cols_am\n",
    "\n",
    "df_merge_lm = df_merge[rel_cols]\n",
    "\n",
    "# drop columns with missing data\n",
    "df_merge_lm = df_merge_lm.drop(index=(df_merge_lm[df_merge_lm['price_p_accom_cal'].isna()].index))\n",
    "df_merge_lm = df_merge_lm.drop(index=(df_merge_lm[df_merge_lm['bathrooms'].isna()].index))\n",
    "df_merge_lm = df_merge_lm.drop(index=(df_merge_lm[df_merge_lm['bedrooms'].isna()].index))\n",
    "\n",
    "df_merge_lm.head(2)"
   ]
  },
  {
   "cell_type": "markdown",
   "metadata": {},
   "source": [
    "Analysis of the influence of the numnber of features and the maximum price per accomodate"
   ]
  },
  {
   "cell_type": "code",
   "execution_count": 40,
   "metadata": {},
   "outputs": [
    {
     "name": "stdout",
     "output_type": "stream",
     "text": [
      "Caclculation started for cutoff 1000000\n",
      "Caclculation started for cutoff 500000\n",
      "Caclculation started for cutoff 100000\n",
      "Caclculation started for cutoff 50000\n",
      "Caclculation started for cutoff 10000\n",
      "Caclculation started for cutoff 5000\n",
      "Caclculation started for cutoff 2500\n",
      "Caclculation started for cutoff 1000\n",
      "Caclculation started for cutoff 100\n",
      "Caclculation started for cutoff 50\n"
     ]
    },
    {
     "data": {
      "text/html": [
       "<div>\n",
       "<style scoped>\n",
       "    .dataframe tbody tr th:only-of-type {\n",
       "        vertical-align: middle;\n",
       "    }\n",
       "\n",
       "    .dataframe tbody tr th {\n",
       "        vertical-align: top;\n",
       "    }\n",
       "\n",
       "    .dataframe thead th {\n",
       "        text-align: right;\n",
       "    }\n",
       "</style>\n",
       "<table border=\"1\" class=\"dataframe\">\n",
       "  <thead>\n",
       "    <tr style=\"text-align: right;\">\n",
       "      <th></th>\n",
       "      <th>price</th>\n",
       "      <th>cutoff</th>\n",
       "      <th>num_features</th>\n",
       "      <th>r2_score_test</th>\n",
       "      <th>r2_score_train</th>\n",
       "    </tr>\n",
       "  </thead>\n",
       "  <tbody>\n",
       "    <tr>\n",
       "      <th>0</th>\n",
       "      <td>15</td>\n",
       "      <td>1000000</td>\n",
       "      <td>5</td>\n",
       "      <td>0.126139</td>\n",
       "      <td>0.136422</td>\n",
       "    </tr>\n",
       "    <tr>\n",
       "      <th>1</th>\n",
       "      <td>20</td>\n",
       "      <td>1000000</td>\n",
       "      <td>5</td>\n",
       "      <td>0.157275</td>\n",
       "      <td>0.149327</td>\n",
       "    </tr>\n",
       "  </tbody>\n",
       "</table>\n",
       "</div>"
      ],
      "text/plain": [
       "   price   cutoff  num_features  r2_score_test  r2_score_train\n",
       "0     15  1000000             5       0.126139        0.136422\n",
       "1     20  1000000             5       0.157275        0.149327"
      ]
     },
     "execution_count": 40,
     "metadata": {},
     "output_type": "execute_result"
    }
   ],
   "source": [
    "# cutoffs here pertains to the number of missing values allowed in the used columns.\n",
    "# Therefore, lower values for the cutoff provides more predictors in the model.\n",
    "# prices means the threshold for the maximum price per accomodate and reduces the dataset for the modeling\n",
    "cutoffs = [1000000, 500000, 100000, 50000, 10000, 5000, 2500, 1000, 100, 50]\n",
    "prices = [15, 20, 25, 30, 35, 40, 45, 50, 75, 100, 200, 300, 500]\n",
    "\n",
    "\n",
    "df_res = utils.find_optimal_lm_mod(df_merge_lm, cutoffs, col_price='price_p_accom_cal', prices = prices)\n",
    "df_res.head(2)"
   ]
  },
  {
   "cell_type": "code",
   "execution_count": 41,
   "metadata": {},
   "outputs": [
    {
     "data": {
      "text/html": [
       "<div>\n",
       "<style scoped>\n",
       "    .dataframe tbody tr th:only-of-type {\n",
       "        vertical-align: middle;\n",
       "    }\n",
       "\n",
       "    .dataframe tbody tr th {\n",
       "        vertical-align: top;\n",
       "    }\n",
       "\n",
       "    .dataframe thead th {\n",
       "        text-align: right;\n",
       "    }\n",
       "</style>\n",
       "<table border=\"1\" class=\"dataframe\">\n",
       "  <thead>\n",
       "    <tr style=\"text-align: right;\">\n",
       "      <th></th>\n",
       "      <th>price</th>\n",
       "      <th>num_features</th>\n",
       "      <th>r2_test_mean</th>\n",
       "      <th>r2_train_mean</th>\n",
       "    </tr>\n",
       "  </thead>\n",
       "  <tbody>\n",
       "    <tr>\n",
       "      <th>0</th>\n",
       "      <td>15</td>\n",
       "      <td>5</td>\n",
       "      <td>0.126</td>\n",
       "      <td>0.136</td>\n",
       "    </tr>\n",
       "    <tr>\n",
       "      <th>1</th>\n",
       "      <td>15</td>\n",
       "      <td>18</td>\n",
       "      <td>0.614</td>\n",
       "      <td>0.635</td>\n",
       "    </tr>\n",
       "    <tr>\n",
       "      <th>2</th>\n",
       "      <td>15</td>\n",
       "      <td>39</td>\n",
       "      <td>0.793</td>\n",
       "      <td>0.810</td>\n",
       "    </tr>\n",
       "    <tr>\n",
       "      <th>3</th>\n",
       "      <td>15</td>\n",
       "      <td>47</td>\n",
       "      <td>0.854</td>\n",
       "      <td>0.861</td>\n",
       "    </tr>\n",
       "    <tr>\n",
       "      <th>4</th>\n",
       "      <td>15</td>\n",
       "      <td>73</td>\n",
       "      <td>0.925</td>\n",
       "      <td>0.935</td>\n",
       "    </tr>\n",
       "    <tr>\n",
       "      <th>...</th>\n",
       "      <td>...</td>\n",
       "      <td>...</td>\n",
       "      <td>...</td>\n",
       "      <td>...</td>\n",
       "    </tr>\n",
       "    <tr>\n",
       "      <th>112</th>\n",
       "      <td>500</td>\n",
       "      <td>73</td>\n",
       "      <td>0.261</td>\n",
       "      <td>0.257</td>\n",
       "    </tr>\n",
       "    <tr>\n",
       "      <th>113</th>\n",
       "      <td>500</td>\n",
       "      <td>77</td>\n",
       "      <td>0.263</td>\n",
       "      <td>0.259</td>\n",
       "    </tr>\n",
       "    <tr>\n",
       "      <th>114</th>\n",
       "      <td>500</td>\n",
       "      <td>80</td>\n",
       "      <td>0.263</td>\n",
       "      <td>0.259</td>\n",
       "    </tr>\n",
       "    <tr>\n",
       "      <th>115</th>\n",
       "      <td>500</td>\n",
       "      <td>84</td>\n",
       "      <td>0.267</td>\n",
       "      <td>0.263</td>\n",
       "    </tr>\n",
       "    <tr>\n",
       "      <th>116</th>\n",
       "      <td>500</td>\n",
       "      <td>90</td>\n",
       "      <td>0.267</td>\n",
       "      <td>0.263</td>\n",
       "    </tr>\n",
       "  </tbody>\n",
       "</table>\n",
       "<p>117 rows × 4 columns</p>\n",
       "</div>"
      ],
      "text/plain": [
       "     price  num_features  r2_test_mean  r2_train_mean\n",
       "0       15             5         0.126          0.136\n",
       "1       15            18         0.614          0.635\n",
       "2       15            39         0.793          0.810\n",
       "3       15            47         0.854          0.861\n",
       "4       15            73         0.925          0.935\n",
       "..     ...           ...           ...            ...\n",
       "112    500            73         0.261          0.257\n",
       "113    500            77         0.263          0.259\n",
       "114    500            80         0.263          0.259\n",
       "115    500            84         0.267          0.263\n",
       "116    500            90         0.267          0.263\n",
       "\n",
       "[117 rows x 4 columns]"
      ]
     },
     "execution_count": 41,
     "metadata": {},
     "output_type": "execute_result"
    }
   ],
   "source": [
    "# aggregate the data to eliminate duplicates for price and number of features\n",
    "df_res_agg = df_res.groupby(['price', 'num_features']).agg(\n",
    "    r2_test_mean = ('r2_score_test', 'mean'),\n",
    "    r2_train_mean = ('r2_score_train', 'mean')\n",
    ").round(3).reset_index()\n",
    "\n",
    "df_res_agg"
   ]
  },
  {
   "cell_type": "code",
   "execution_count": 42,
   "metadata": {},
   "outputs": [
    {
     "data": {
      "text/html": [
       "<div>\n",
       "<style scoped>\n",
       "    .dataframe tbody tr th:only-of-type {\n",
       "        vertical-align: middle;\n",
       "    }\n",
       "\n",
       "    .dataframe tbody tr th {\n",
       "        vertical-align: top;\n",
       "    }\n",
       "\n",
       "    .dataframe thead th {\n",
       "        text-align: right;\n",
       "    }\n",
       "</style>\n",
       "<table border=\"1\" class=\"dataframe\">\n",
       "  <thead>\n",
       "    <tr style=\"text-align: right;\">\n",
       "      <th>price</th>\n",
       "      <th>15</th>\n",
       "      <th>20</th>\n",
       "      <th>25</th>\n",
       "      <th>30</th>\n",
       "      <th>35</th>\n",
       "      <th>40</th>\n",
       "      <th>45</th>\n",
       "      <th>50</th>\n",
       "      <th>75</th>\n",
       "      <th>100</th>\n",
       "      <th>200</th>\n",
       "      <th>300</th>\n",
       "      <th>500</th>\n",
       "    </tr>\n",
       "    <tr>\n",
       "      <th>num_features</th>\n",
       "      <th></th>\n",
       "      <th></th>\n",
       "      <th></th>\n",
       "      <th></th>\n",
       "      <th></th>\n",
       "      <th></th>\n",
       "      <th></th>\n",
       "      <th></th>\n",
       "      <th></th>\n",
       "      <th></th>\n",
       "      <th></th>\n",
       "      <th></th>\n",
       "      <th></th>\n",
       "    </tr>\n",
       "  </thead>\n",
       "  <tbody>\n",
       "    <tr>\n",
       "      <th>5</th>\n",
       "      <td>0.126</td>\n",
       "      <td>0.157</td>\n",
       "      <td>0.080</td>\n",
       "      <td>0.087</td>\n",
       "      <td>0.093</td>\n",
       "      <td>0.095</td>\n",
       "      <td>0.097</td>\n",
       "      <td>0.100</td>\n",
       "      <td>0.088</td>\n",
       "      <td>0.090</td>\n",
       "      <td>0.098</td>\n",
       "      <td>0.092</td>\n",
       "      <td>0.091</td>\n",
       "    </tr>\n",
       "    <tr>\n",
       "      <th>18</th>\n",
       "      <td>0.614</td>\n",
       "      <td>0.299</td>\n",
       "      <td>0.132</td>\n",
       "      <td>0.105</td>\n",
       "      <td>0.102</td>\n",
       "      <td>0.101</td>\n",
       "      <td>0.108</td>\n",
       "      <td>0.115</td>\n",
       "      <td>0.113</td>\n",
       "      <td>0.117</td>\n",
       "      <td>0.130</td>\n",
       "      <td>0.120</td>\n",
       "      <td>0.119</td>\n",
       "    </tr>\n",
       "    <tr>\n",
       "      <th>39</th>\n",
       "      <td>0.793</td>\n",
       "      <td>0.402</td>\n",
       "      <td>0.194</td>\n",
       "      <td>0.147</td>\n",
       "      <td>0.154</td>\n",
       "      <td>0.145</td>\n",
       "      <td>0.162</td>\n",
       "      <td>0.177</td>\n",
       "      <td>0.194</td>\n",
       "      <td>0.208</td>\n",
       "      <td>0.222</td>\n",
       "      <td>0.208</td>\n",
       "      <td>0.207</td>\n",
       "    </tr>\n",
       "    <tr>\n",
       "      <th>47</th>\n",
       "      <td>0.854</td>\n",
       "      <td>0.428</td>\n",
       "      <td>0.202</td>\n",
       "      <td>0.160</td>\n",
       "      <td>0.168</td>\n",
       "      <td>0.155</td>\n",
       "      <td>0.175</td>\n",
       "      <td>0.189</td>\n",
       "      <td>0.211</td>\n",
       "      <td>0.219</td>\n",
       "      <td>0.230</td>\n",
       "      <td>0.215</td>\n",
       "      <td>0.214</td>\n",
       "    </tr>\n",
       "    <tr>\n",
       "      <th>73</th>\n",
       "      <td>0.925</td>\n",
       "      <td>0.509</td>\n",
       "      <td>0.276</td>\n",
       "      <td>0.221</td>\n",
       "      <td>0.208</td>\n",
       "      <td>0.203</td>\n",
       "      <td>0.226</td>\n",
       "      <td>0.242</td>\n",
       "      <td>0.266</td>\n",
       "      <td>0.273</td>\n",
       "      <td>0.280</td>\n",
       "      <td>0.262</td>\n",
       "      <td>0.261</td>\n",
       "    </tr>\n",
       "    <tr>\n",
       "      <th>77</th>\n",
       "      <td>0.924</td>\n",
       "      <td>0.519</td>\n",
       "      <td>0.298</td>\n",
       "      <td>0.232</td>\n",
       "      <td>0.211</td>\n",
       "      <td>0.205</td>\n",
       "      <td>0.226</td>\n",
       "      <td>0.242</td>\n",
       "      <td>0.266</td>\n",
       "      <td>0.274</td>\n",
       "      <td>0.281</td>\n",
       "      <td>0.263</td>\n",
       "      <td>0.263</td>\n",
       "    </tr>\n",
       "    <tr>\n",
       "      <th>80</th>\n",
       "      <td>0.926</td>\n",
       "      <td>0.531</td>\n",
       "      <td>0.298</td>\n",
       "      <td>0.239</td>\n",
       "      <td>0.220</td>\n",
       "      <td>0.215</td>\n",
       "      <td>0.232</td>\n",
       "      <td>0.247</td>\n",
       "      <td>0.268</td>\n",
       "      <td>0.275</td>\n",
       "      <td>0.281</td>\n",
       "      <td>0.263</td>\n",
       "      <td>0.263</td>\n",
       "    </tr>\n",
       "    <tr>\n",
       "      <th>84</th>\n",
       "      <td>0.926</td>\n",
       "      <td>0.531</td>\n",
       "      <td>0.298</td>\n",
       "      <td>0.243</td>\n",
       "      <td>0.222</td>\n",
       "      <td>0.217</td>\n",
       "      <td>0.233</td>\n",
       "      <td>0.247</td>\n",
       "      <td>0.269</td>\n",
       "      <td>0.280</td>\n",
       "      <td>0.285</td>\n",
       "      <td>0.267</td>\n",
       "      <td>0.267</td>\n",
       "    </tr>\n",
       "    <tr>\n",
       "      <th>90</th>\n",
       "      <td>0.925</td>\n",
       "      <td>0.541</td>\n",
       "      <td>0.316</td>\n",
       "      <td>0.251</td>\n",
       "      <td>0.232</td>\n",
       "      <td>0.223</td>\n",
       "      <td>0.237</td>\n",
       "      <td>0.250</td>\n",
       "      <td>0.270</td>\n",
       "      <td>0.280</td>\n",
       "      <td>0.285</td>\n",
       "      <td>0.267</td>\n",
       "      <td>0.267</td>\n",
       "    </tr>\n",
       "  </tbody>\n",
       "</table>\n",
       "</div>"
      ],
      "text/plain": [
       "price            15     20     25     30     35     40     45     50     75  \\\n",
       "num_features                                                                  \n",
       "5             0.126  0.157  0.080  0.087  0.093  0.095  0.097  0.100  0.088   \n",
       "18            0.614  0.299  0.132  0.105  0.102  0.101  0.108  0.115  0.113   \n",
       "39            0.793  0.402  0.194  0.147  0.154  0.145  0.162  0.177  0.194   \n",
       "47            0.854  0.428  0.202  0.160  0.168  0.155  0.175  0.189  0.211   \n",
       "73            0.925  0.509  0.276  0.221  0.208  0.203  0.226  0.242  0.266   \n",
       "77            0.924  0.519  0.298  0.232  0.211  0.205  0.226  0.242  0.266   \n",
       "80            0.926  0.531  0.298  0.239  0.220  0.215  0.232  0.247  0.268   \n",
       "84            0.926  0.531  0.298  0.243  0.222  0.217  0.233  0.247  0.269   \n",
       "90            0.925  0.541  0.316  0.251  0.232  0.223  0.237  0.250  0.270   \n",
       "\n",
       "price           100    200    300    500  \n",
       "num_features                              \n",
       "5             0.090  0.098  0.092  0.091  \n",
       "18            0.117  0.130  0.120  0.119  \n",
       "39            0.208  0.222  0.208  0.207  \n",
       "47            0.219  0.230  0.215  0.214  \n",
       "73            0.273  0.280  0.262  0.261  \n",
       "77            0.274  0.281  0.263  0.263  \n",
       "80            0.275  0.281  0.263  0.263  \n",
       "84            0.280  0.285  0.267  0.267  \n",
       "90            0.280  0.285  0.267  0.267  "
      ]
     },
     "execution_count": 42,
     "metadata": {},
     "output_type": "execute_result"
    }
   ],
   "source": [
    "# pivot the data for the plot later\n",
    "df_res_pivot = df_res_agg.pivot(index = 'num_features', columns='price')['r2_test_mean']\n",
    "\n",
    "# convert int to string to ensure equidistant spacing in the following plot\n",
    "df_res_pivot.columns = df_res_pivot.columns.astype(str)\n",
    "df_res_pivot.index = df_res_pivot.index.astype(str)\n",
    "\n",
    "df_res_pivot"
   ]
  },
  {
   "cell_type": "code",
   "execution_count": 43,
   "metadata": {},
   "outputs": [
    {
     "data": {
      "application/vnd.plotly.v1+json": {
       "config": {
        "plotlyServerURL": "https://plotly.com"
       },
       "data": [
        {
         "coloraxis": "coloraxis",
         "hovertemplate": "Maximum price per accomodate considered [USD]: %{x}<br>Number features considered [-]: %{y}<br>color: %{z}<extra></extra>",
         "name": "0",
         "type": "heatmap",
         "x": [
          "15",
          "20",
          "25",
          "30",
          "35",
          "40",
          "45",
          "50",
          "75",
          "100",
          "200",
          "300",
          "500"
         ],
         "xaxis": "x",
         "y": [
          "5",
          "18",
          "39",
          "47",
          "73",
          "77",
          "80",
          "84",
          "90"
         ],
         "yaxis": "y",
         "z": [
          [
           0.126,
           0.157,
           0.08,
           0.087,
           0.093,
           0.095,
           0.097,
           0.1,
           0.088,
           0.09,
           0.098,
           0.092,
           0.091
          ],
          [
           0.614,
           0.299,
           0.132,
           0.105,
           0.102,
           0.101,
           0.108,
           0.115,
           0.113,
           0.117,
           0.13,
           0.12,
           0.119
          ],
          [
           0.793,
           0.402,
           0.194,
           0.147,
           0.154,
           0.145,
           0.162,
           0.177,
           0.194,
           0.208,
           0.222,
           0.208,
           0.207
          ],
          [
           0.854,
           0.428,
           0.202,
           0.16,
           0.168,
           0.155,
           0.175,
           0.189,
           0.211,
           0.219,
           0.23,
           0.215,
           0.214
          ],
          [
           0.925,
           0.509,
           0.276,
           0.221,
           0.208,
           0.203,
           0.226,
           0.242,
           0.266,
           0.273,
           0.28,
           0.262,
           0.261
          ],
          [
           0.924,
           0.519,
           0.298,
           0.232,
           0.211,
           0.205,
           0.226,
           0.242,
           0.266,
           0.274,
           0.281,
           0.263,
           0.263
          ],
          [
           0.926,
           0.531,
           0.298,
           0.239,
           0.22,
           0.215,
           0.232,
           0.247,
           0.268,
           0.275,
           0.281,
           0.263,
           0.263
          ],
          [
           0.926,
           0.531,
           0.298,
           0.243,
           0.222,
           0.217,
           0.233,
           0.247,
           0.269,
           0.28,
           0.285,
           0.267,
           0.267
          ],
          [
           0.925,
           0.541,
           0.316,
           0.251,
           0.232,
           0.223,
           0.237,
           0.25,
           0.27,
           0.28,
           0.285,
           0.267,
           0.267
          ]
         ]
        }
       ],
       "layout": {
        "coloraxis": {
         "colorbar": {
          "len": 0.97
         },
         "colorscale": [
          [
           0,
           "#440154"
          ],
          [
           0.1111111111111111,
           "#482878"
          ],
          [
           0.2222222222222222,
           "#3e4989"
          ],
          [
           0.3333333333333333,
           "#31688e"
          ],
          [
           0.4444444444444444,
           "#26828e"
          ],
          [
           0.5555555555555556,
           "#1f9e89"
          ],
          [
           0.6666666666666666,
           "#35b779"
          ],
          [
           0.7777777777777778,
           "#6ece58"
          ],
          [
           0.8888888888888888,
           "#b5de2b"
          ],
          [
           1,
           "#fde725"
          ]
         ]
        },
        "height": 600,
        "margin": {
         "b": 70,
         "l": 0,
         "pad": 0,
         "r": 0,
         "t": 70
        },
        "template": {
         "data": {
          "bar": [
           {
            "error_x": {
             "color": "#f2f5fa"
            },
            "error_y": {
             "color": "#f2f5fa"
            },
            "marker": {
             "line": {
              "color": "rgb(17,17,17)",
              "width": 0.5
             },
             "pattern": {
              "fillmode": "overlay",
              "size": 10,
              "solidity": 0.2
             }
            },
            "type": "bar"
           }
          ],
          "barpolar": [
           {
            "marker": {
             "line": {
              "color": "rgb(17,17,17)",
              "width": 0.5
             },
             "pattern": {
              "fillmode": "overlay",
              "size": 10,
              "solidity": 0.2
             }
            },
            "type": "barpolar"
           }
          ],
          "carpet": [
           {
            "aaxis": {
             "endlinecolor": "#A2B1C6",
             "gridcolor": "#506784",
             "linecolor": "#506784",
             "minorgridcolor": "#506784",
             "startlinecolor": "#A2B1C6"
            },
            "baxis": {
             "endlinecolor": "#A2B1C6",
             "gridcolor": "#506784",
             "linecolor": "#506784",
             "minorgridcolor": "#506784",
             "startlinecolor": "#A2B1C6"
            },
            "type": "carpet"
           }
          ],
          "choropleth": [
           {
            "colorbar": {
             "outlinewidth": 0,
             "ticks": ""
            },
            "type": "choropleth"
           }
          ],
          "contour": [
           {
            "colorbar": {
             "outlinewidth": 0,
             "ticks": ""
            },
            "colorscale": [
             [
              0,
              "#0d0887"
             ],
             [
              0.1111111111111111,
              "#46039f"
             ],
             [
              0.2222222222222222,
              "#7201a8"
             ],
             [
              0.3333333333333333,
              "#9c179e"
             ],
             [
              0.4444444444444444,
              "#bd3786"
             ],
             [
              0.5555555555555556,
              "#d8576b"
             ],
             [
              0.6666666666666666,
              "#ed7953"
             ],
             [
              0.7777777777777778,
              "#fb9f3a"
             ],
             [
              0.8888888888888888,
              "#fdca26"
             ],
             [
              1,
              "#f0f921"
             ]
            ],
            "type": "contour"
           }
          ],
          "contourcarpet": [
           {
            "colorbar": {
             "outlinewidth": 0,
             "ticks": ""
            },
            "type": "contourcarpet"
           }
          ],
          "heatmap": [
           {
            "colorbar": {
             "outlinewidth": 0,
             "ticks": ""
            },
            "colorscale": [
             [
              0,
              "#0d0887"
             ],
             [
              0.1111111111111111,
              "#46039f"
             ],
             [
              0.2222222222222222,
              "#7201a8"
             ],
             [
              0.3333333333333333,
              "#9c179e"
             ],
             [
              0.4444444444444444,
              "#bd3786"
             ],
             [
              0.5555555555555556,
              "#d8576b"
             ],
             [
              0.6666666666666666,
              "#ed7953"
             ],
             [
              0.7777777777777778,
              "#fb9f3a"
             ],
             [
              0.8888888888888888,
              "#fdca26"
             ],
             [
              1,
              "#f0f921"
             ]
            ],
            "type": "heatmap"
           }
          ],
          "heatmapgl": [
           {
            "colorbar": {
             "outlinewidth": 0,
             "ticks": ""
            },
            "colorscale": [
             [
              0,
              "#0d0887"
             ],
             [
              0.1111111111111111,
              "#46039f"
             ],
             [
              0.2222222222222222,
              "#7201a8"
             ],
             [
              0.3333333333333333,
              "#9c179e"
             ],
             [
              0.4444444444444444,
              "#bd3786"
             ],
             [
              0.5555555555555556,
              "#d8576b"
             ],
             [
              0.6666666666666666,
              "#ed7953"
             ],
             [
              0.7777777777777778,
              "#fb9f3a"
             ],
             [
              0.8888888888888888,
              "#fdca26"
             ],
             [
              1,
              "#f0f921"
             ]
            ],
            "type": "heatmapgl"
           }
          ],
          "histogram": [
           {
            "marker": {
             "pattern": {
              "fillmode": "overlay",
              "size": 10,
              "solidity": 0.2
             }
            },
            "type": "histogram"
           }
          ],
          "histogram2d": [
           {
            "colorbar": {
             "outlinewidth": 0,
             "ticks": ""
            },
            "colorscale": [
             [
              0,
              "#0d0887"
             ],
             [
              0.1111111111111111,
              "#46039f"
             ],
             [
              0.2222222222222222,
              "#7201a8"
             ],
             [
              0.3333333333333333,
              "#9c179e"
             ],
             [
              0.4444444444444444,
              "#bd3786"
             ],
             [
              0.5555555555555556,
              "#d8576b"
             ],
             [
              0.6666666666666666,
              "#ed7953"
             ],
             [
              0.7777777777777778,
              "#fb9f3a"
             ],
             [
              0.8888888888888888,
              "#fdca26"
             ],
             [
              1,
              "#f0f921"
             ]
            ],
            "type": "histogram2d"
           }
          ],
          "histogram2dcontour": [
           {
            "colorbar": {
             "outlinewidth": 0,
             "ticks": ""
            },
            "colorscale": [
             [
              0,
              "#0d0887"
             ],
             [
              0.1111111111111111,
              "#46039f"
             ],
             [
              0.2222222222222222,
              "#7201a8"
             ],
             [
              0.3333333333333333,
              "#9c179e"
             ],
             [
              0.4444444444444444,
              "#bd3786"
             ],
             [
              0.5555555555555556,
              "#d8576b"
             ],
             [
              0.6666666666666666,
              "#ed7953"
             ],
             [
              0.7777777777777778,
              "#fb9f3a"
             ],
             [
              0.8888888888888888,
              "#fdca26"
             ],
             [
              1,
              "#f0f921"
             ]
            ],
            "type": "histogram2dcontour"
           }
          ],
          "mesh3d": [
           {
            "colorbar": {
             "outlinewidth": 0,
             "ticks": ""
            },
            "type": "mesh3d"
           }
          ],
          "parcoords": [
           {
            "line": {
             "colorbar": {
              "outlinewidth": 0,
              "ticks": ""
             }
            },
            "type": "parcoords"
           }
          ],
          "pie": [
           {
            "automargin": true,
            "type": "pie"
           }
          ],
          "scatter": [
           {
            "marker": {
             "line": {
              "color": "#283442"
             }
            },
            "type": "scatter"
           }
          ],
          "scatter3d": [
           {
            "line": {
             "colorbar": {
              "outlinewidth": 0,
              "ticks": ""
             }
            },
            "marker": {
             "colorbar": {
              "outlinewidth": 0,
              "ticks": ""
             }
            },
            "type": "scatter3d"
           }
          ],
          "scattercarpet": [
           {
            "marker": {
             "colorbar": {
              "outlinewidth": 0,
              "ticks": ""
             }
            },
            "type": "scattercarpet"
           }
          ],
          "scattergeo": [
           {
            "marker": {
             "colorbar": {
              "outlinewidth": 0,
              "ticks": ""
             }
            },
            "type": "scattergeo"
           }
          ],
          "scattergl": [
           {
            "marker": {
             "line": {
              "color": "#283442"
             }
            },
            "type": "scattergl"
           }
          ],
          "scattermapbox": [
           {
            "marker": {
             "colorbar": {
              "outlinewidth": 0,
              "ticks": ""
             }
            },
            "type": "scattermapbox"
           }
          ],
          "scatterpolar": [
           {
            "marker": {
             "colorbar": {
              "outlinewidth": 0,
              "ticks": ""
             }
            },
            "type": "scatterpolar"
           }
          ],
          "scatterpolargl": [
           {
            "marker": {
             "colorbar": {
              "outlinewidth": 0,
              "ticks": ""
             }
            },
            "type": "scatterpolargl"
           }
          ],
          "scatterternary": [
           {
            "marker": {
             "colorbar": {
              "outlinewidth": 0,
              "ticks": ""
             }
            },
            "type": "scatterternary"
           }
          ],
          "surface": [
           {
            "colorbar": {
             "outlinewidth": 0,
             "ticks": ""
            },
            "colorscale": [
             [
              0,
              "#0d0887"
             ],
             [
              0.1111111111111111,
              "#46039f"
             ],
             [
              0.2222222222222222,
              "#7201a8"
             ],
             [
              0.3333333333333333,
              "#9c179e"
             ],
             [
              0.4444444444444444,
              "#bd3786"
             ],
             [
              0.5555555555555556,
              "#d8576b"
             ],
             [
              0.6666666666666666,
              "#ed7953"
             ],
             [
              0.7777777777777778,
              "#fb9f3a"
             ],
             [
              0.8888888888888888,
              "#fdca26"
             ],
             [
              1,
              "#f0f921"
             ]
            ],
            "type": "surface"
           }
          ],
          "table": [
           {
            "cells": {
             "fill": {
              "color": "#506784"
             },
             "line": {
              "color": "rgb(17,17,17)"
             }
            },
            "header": {
             "fill": {
              "color": "#2a3f5f"
             },
             "line": {
              "color": "rgb(17,17,17)"
             }
            },
            "type": "table"
           }
          ]
         },
         "layout": {
          "annotationdefaults": {
           "arrowcolor": "#f2f5fa",
           "arrowhead": 0,
           "arrowwidth": 1
          },
          "autotypenumbers": "strict",
          "coloraxis": {
           "colorbar": {
            "outlinewidth": 0,
            "ticks": ""
           }
          },
          "colorscale": {
           "diverging": [
            [
             0,
             "#8e0152"
            ],
            [
             0.1,
             "#c51b7d"
            ],
            [
             0.2,
             "#de77ae"
            ],
            [
             0.3,
             "#f1b6da"
            ],
            [
             0.4,
             "#fde0ef"
            ],
            [
             0.5,
             "#f7f7f7"
            ],
            [
             0.6,
             "#e6f5d0"
            ],
            [
             0.7,
             "#b8e186"
            ],
            [
             0.8,
             "#7fbc41"
            ],
            [
             0.9,
             "#4d9221"
            ],
            [
             1,
             "#276419"
            ]
           ],
           "sequential": [
            [
             0,
             "#0d0887"
            ],
            [
             0.1111111111111111,
             "#46039f"
            ],
            [
             0.2222222222222222,
             "#7201a8"
            ],
            [
             0.3333333333333333,
             "#9c179e"
            ],
            [
             0.4444444444444444,
             "#bd3786"
            ],
            [
             0.5555555555555556,
             "#d8576b"
            ],
            [
             0.6666666666666666,
             "#ed7953"
            ],
            [
             0.7777777777777778,
             "#fb9f3a"
            ],
            [
             0.8888888888888888,
             "#fdca26"
            ],
            [
             1,
             "#f0f921"
            ]
           ],
           "sequentialminus": [
            [
             0,
             "#0d0887"
            ],
            [
             0.1111111111111111,
             "#46039f"
            ],
            [
             0.2222222222222222,
             "#7201a8"
            ],
            [
             0.3333333333333333,
             "#9c179e"
            ],
            [
             0.4444444444444444,
             "#bd3786"
            ],
            [
             0.5555555555555556,
             "#d8576b"
            ],
            [
             0.6666666666666666,
             "#ed7953"
            ],
            [
             0.7777777777777778,
             "#fb9f3a"
            ],
            [
             0.8888888888888888,
             "#fdca26"
            ],
            [
             1,
             "#f0f921"
            ]
           ]
          },
          "colorway": [
           "#636efa",
           "#EF553B",
           "#00cc96",
           "#ab63fa",
           "#FFA15A",
           "#19d3f3",
           "#FF6692",
           "#B6E880",
           "#FF97FF",
           "#FECB52"
          ],
          "font": {
           "color": "#f2f5fa"
          },
          "geo": {
           "bgcolor": "rgb(17,17,17)",
           "lakecolor": "rgb(17,17,17)",
           "landcolor": "rgb(17,17,17)",
           "showlakes": true,
           "showland": true,
           "subunitcolor": "#506784"
          },
          "hoverlabel": {
           "align": "left"
          },
          "hovermode": "closest",
          "mapbox": {
           "style": "dark"
          },
          "paper_bgcolor": "rgb(17,17,17)",
          "plot_bgcolor": "rgb(17,17,17)",
          "polar": {
           "angularaxis": {
            "gridcolor": "#506784",
            "linecolor": "#506784",
            "ticks": ""
           },
           "bgcolor": "rgb(17,17,17)",
           "radialaxis": {
            "gridcolor": "#506784",
            "linecolor": "#506784",
            "ticks": ""
           }
          },
          "scene": {
           "xaxis": {
            "backgroundcolor": "rgb(17,17,17)",
            "gridcolor": "#506784",
            "gridwidth": 2,
            "linecolor": "#506784",
            "showbackground": true,
            "ticks": "",
            "zerolinecolor": "#C8D4E3"
           },
           "yaxis": {
            "backgroundcolor": "rgb(17,17,17)",
            "gridcolor": "#506784",
            "gridwidth": 2,
            "linecolor": "#506784",
            "showbackground": true,
            "ticks": "",
            "zerolinecolor": "#C8D4E3"
           },
           "zaxis": {
            "backgroundcolor": "rgb(17,17,17)",
            "gridcolor": "#506784",
            "gridwidth": 2,
            "linecolor": "#506784",
            "showbackground": true,
            "ticks": "",
            "zerolinecolor": "#C8D4E3"
           }
          },
          "shapedefaults": {
           "line": {
            "color": "#f2f5fa"
           }
          },
          "sliderdefaults": {
           "bgcolor": "#C8D4E3",
           "bordercolor": "rgb(17,17,17)",
           "borderwidth": 1,
           "tickwidth": 0
          },
          "ternary": {
           "aaxis": {
            "gridcolor": "#506784",
            "linecolor": "#506784",
            "ticks": ""
           },
           "baxis": {
            "gridcolor": "#506784",
            "linecolor": "#506784",
            "ticks": ""
           },
           "bgcolor": "rgb(17,17,17)",
           "caxis": {
            "gridcolor": "#506784",
            "linecolor": "#506784",
            "ticks": ""
           }
          },
          "title": {
           "x": 0.05
          },
          "updatemenudefaults": {
           "bgcolor": "#506784",
           "borderwidth": 0
          },
          "xaxis": {
           "automargin": true,
           "gridcolor": "#283442",
           "linecolor": "#506784",
           "ticks": "",
           "title": {
            "standoff": 15
           },
           "zerolinecolor": "#283442",
           "zerolinewidth": 2
          },
          "yaxis": {
           "automargin": true,
           "gridcolor": "#283442",
           "linecolor": "#506784",
           "ticks": "",
           "title": {
            "standoff": 15
           },
           "zerolinecolor": "#283442",
           "zerolinewidth": 2
          }
         }
        },
        "title": {
         "font": {
          "size": 20
         },
         "text": "R square Test"
        },
        "width": 1200,
        "xaxis": {
         "anchor": "y",
         "constrain": "domain",
         "domain": [
          0,
          1
         ],
         "scaleanchor": "y",
         "tickfont": {
          "size": 12
         },
         "title": {
          "font": {
           "size": 16
          },
          "text": "Maximum price per accomodate considered [USD]"
         }
        },
        "yaxis": {
         "anchor": "x",
         "autorange": "reversed",
         "constrain": "domain",
         "domain": [
          0,
          1
         ],
         "tickfont": {
          "size": 12
         },
         "title": {
          "font": {
           "size": 16
          },
          "text": "Number features considered [-]"
         }
        }
       }
      }
     },
     "metadata": {},
     "output_type": "display_data"
    }
   ],
   "source": [
    "# create the heatmap\n",
    "fig = px.imshow(df_res_pivot, x=df_res_pivot.columns, y=df_res_pivot.index,\n",
    "                color_continuous_scale='Viridis',\n",
    "                labels=dict(\n",
    "                    x = 'Maximum price per accomodate considered [USD]',\n",
    "                    y = 'Number features considered [-]',\n",
    "                    # color=\"R Square Test [-]\"\n",
    "                    )\n",
    "                )\n",
    "\n",
    "\n",
    "fig.update_layout(\n",
    "    title='R square Test',\n",
    "    title_font = {\"size\": 20},\n",
    "    width = 1200,\n",
    "    height = 600,\n",
    "    template='plotly_dark'\n",
    ")\n",
    "\n",
    "fig.update_yaxes(\n",
    "    title_font = {\"size\": 16},\n",
    "    tickfont = {\"size\": 12}\n",
    "    )\n",
    "\n",
    "fig.update_xaxes(\n",
    "    title_font = {\"size\": 16},\n",
    "    tickfont = {\"size\": 12}\n",
    "    )\n",
    "\n",
    "fig.update_layout(\n",
    "    coloraxis=dict(colorbar=dict(\n",
    "        len=.97)\n",
    "                   ))\n",
    "\n",
    "\n",
    "fig.update_layout(\n",
    "        margin={\"t\": 70, \"b\": 70, \"r\": 0, \"l\": 0, \"pad\": 0},\n",
    "    )\n",
    "\n",
    "fig.show()\n"
   ]
  },
  {
   "cell_type": "code",
   "execution_count": 44,
   "metadata": {},
   "outputs": [],
   "source": [
    "if pub_chart_studio:\n",
    "    py.plot(fig, filename=\"seattle_heatmap_rsquare_max_price_num_features\", auto_open = True)"
   ]
  }
 ],
 "metadata": {
  "kernelspec": {
   "display_name": ".venv",
   "language": "python",
   "name": "python3"
  },
  "language_info": {
   "codemirror_mode": {
    "name": "ipython",
    "version": 3
   },
   "file_extension": ".py",
   "mimetype": "text/x-python",
   "name": "python",
   "nbconvert_exporter": "python",
   "pygments_lexer": "ipython3",
   "version": "3.11.2"
  }
 },
 "nbformat": 4,
 "nbformat_minor": 2
}
